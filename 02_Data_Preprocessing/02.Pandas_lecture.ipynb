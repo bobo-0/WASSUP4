{
 "cells": [
  {
   "cell_type": "markdown",
   "metadata": {},
   "source": [
    "# Pandas"
   ]
  },
  {
   "cell_type": "code",
   "execution_count": 3,
   "metadata": {},
   "outputs": [],
   "source": [
    "import pandas as pd\n",
    "import numpy as np"
   ]
  },
  {
   "cell_type": "markdown",
   "metadata": {},
   "source": [
    "## Series with list"
   ]
  },
  {
   "cell_type": "code",
   "execution_count": 8,
   "metadata": {},
   "outputs": [
    {
     "name": "stdout",
     "output_type": "stream",
     "text": [
      "<class 'pandas.core.series.Series'>\n",
      "RangeIndex(start=0, stop=9, step=1)\n",
      "int64\n",
      "0    1\n",
      "1    2\n",
      "2    3\n",
      "3    4\n",
      "4    5\n",
      "5    6\n",
      "6    7\n",
      "7    8\n",
      "8    9\n",
      "dtype: int64\n",
      "a    1\n",
      "b    2\n",
      "c    3\n",
      "d    4\n",
      "e    5\n",
      "f    6\n",
      "g    7\n",
      "h    8\n",
      "i    9\n",
      "dtype: int64\n"
     ]
    }
   ],
   "source": [
    "s = pd.Series([1,2,3,4,5,6,7,8,9])\n",
    "print(type(s))\n",
    "print(s.index)\n",
    "print(s.dtype)\n",
    "print(s)\n",
    "s.index = ['a', 'b', 'c', 'd','e','f','g','h','i'] # 원하는 인덱스 설정\n",
    "print(s)"
   ]
  },
  {
   "cell_type": "code",
   "execution_count": 14,
   "metadata": {},
   "outputs": [
    {
     "name": "stdout",
     "output_type": "stream",
     "text": [
      "a    1\n",
      "b    2\n",
      "c    3\n",
      "d    4\n",
      "e    5\n",
      "f    6\n",
      "g    7\n",
      "h    8\n",
      "i    9\n",
      "dtype: int64\n"
     ]
    }
   ],
   "source": [
    "ss = pd.Series([1,2,3,4,5,6,7,8,9],['a', 'b', 'c', 'd','e','f','g','h','i'])\n",
    "print(s)"
   ]
  },
  {
   "cell_type": "code",
   "execution_count": 15,
   "metadata": {},
   "outputs": [
    {
     "name": "stdout",
     "output_type": "stream",
     "text": [
      "Index(['a', 'b', 'c', 'd', 'e', 'f', 'g', 'h', 'i'], dtype='object')\n",
      "[1 2 3 4 5 6 7 8 9]\n",
      "1\n",
      "1\n"
     ]
    },
    {
     "name": "stderr",
     "output_type": "stream",
     "text": [
      "/var/folders/5n/kjkw6sh12dx20bbd340zn1pr0000gn/T/ipykernel_76379/1386725536.py:3: FutureWarning: Series.__getitem__ treating keys as positions is deprecated. In a future version, integer keys will always be treated as labels (consistent with DataFrame behavior). To access a value by position, use `ser.iloc[pos]`\n",
      "  print(ss[0])\n"
     ]
    }
   ],
   "source": [
    "print(ss.index)\n",
    "print(ss.values)\n",
    "print(ss[0])\n",
    "print(ss['a'])"
   ]
  },
  {
   "cell_type": "code",
   "execution_count": 13,
   "metadata": {},
   "outputs": [
    {
     "name": "stdout",
     "output_type": "stream",
     "text": [
      "a    1\n",
      "b    2\n",
      "c    3\n",
      "d    4\n",
      "e    5\n",
      "dtype: int64\n",
      "a    1\n",
      "b    2\n",
      "c    3\n",
      "d    4\n",
      "dtype: int64\n"
     ]
    }
   ],
   "source": [
    "print(ss[0:5])\n",
    "print(ss['a':'d'])"
   ]
  },
  {
   "cell_type": "markdown",
   "metadata": {},
   "source": [
    "## Series with dictionary"
   ]
  },
  {
   "cell_type": "code",
   "execution_count": 16,
   "metadata": {},
   "outputs": [
    {
     "name": "stdout",
     "output_type": "stream",
     "text": [
      "<class 'dict'>\n"
     ]
    }
   ],
   "source": [
    "d = {'a': 10, 'd': 20, 'f': 30, 'h':40}\n",
    "print(type(d))"
   ]
  },
  {
   "cell_type": "code",
   "execution_count": 17,
   "metadata": {},
   "outputs": [
    {
     "name": "stdout",
     "output_type": "stream",
     "text": [
      "a 10\n",
      "d 20\n",
      "f 30\n",
      "h 40\n"
     ]
    }
   ],
   "source": [
    "#순서대로 반복문 돌리고 싶을 때\n",
    "#items() = (key,value) 튜플로 값을 내어 줌\n",
    "for key, value in d.items():\n",
    "    print(key, value)"
   ]
  },
  {
   "cell_type": "code",
   "execution_count": 18,
   "metadata": {},
   "outputs": [
    {
     "name": "stdout",
     "output_type": "stream",
     "text": [
      "10\n"
     ]
    }
   ],
   "source": [
    "print(d['a'])"
   ]
  },
  {
   "cell_type": "code",
   "execution_count": 19,
   "metadata": {},
   "outputs": [
    {
     "ename": "AttributeError",
     "evalue": "'dict' object has no attribute 'a'",
     "output_type": "error",
     "traceback": [
      "\u001b[0;31m---------------------------------------------------------------------------\u001b[0m",
      "\u001b[0;31mAttributeError\u001b[0m                            Traceback (most recent call last)",
      "Cell \u001b[0;32mIn[19], line 1\u001b[0m\n\u001b[0;32m----> 1\u001b[0m \u001b[38;5;28mprint\u001b[39m(\u001b[43md\u001b[49m\u001b[38;5;241;43m.\u001b[39;49m\u001b[43ma\u001b[49m)\n",
      "\u001b[0;31mAttributeError\u001b[0m: 'dict' object has no attribute 'a'"
     ]
    }
   ],
   "source": [
    "print(d.a) # 이렇게는 안됨, 시리즈처럼 값 뽑기,,"
   ]
  },
  {
   "cell_type": "code",
   "execution_count": 21,
   "metadata": {},
   "outputs": [
    {
     "name": "stdout",
     "output_type": "stream",
     "text": [
      "a    10\n",
      "d    20\n",
      "f    30\n",
      "h    40\n",
      "dtype: int64\n"
     ]
    }
   ],
   "source": [
    "s = pd.Series(d)\n",
    "print(s)"
   ]
  },
  {
   "cell_type": "code",
   "execution_count": 23,
   "metadata": {},
   "outputs": [
    {
     "name": "stdout",
     "output_type": "stream",
     "text": [
      "Index(['a', 'd', 'f', 'h'], dtype='object')\n",
      "[10 20 30 40]\n",
      "10\n",
      "10\n"
     ]
    }
   ],
   "source": [
    "print(s.index)\n",
    "print(s.values)\n",
    "print(s['a'])\n",
    "print(s.a)"
   ]
  },
  {
   "cell_type": "markdown",
   "metadata": {},
   "source": [
    "## Dictionary to Dataframe"
   ]
  },
  {
   "cell_type": "code",
   "execution_count": 24,
   "metadata": {},
   "outputs": [
    {
     "name": "stdout",
     "output_type": "stream",
     "text": [
      "<class 'dict'>\n"
     ]
    }
   ],
   "source": [
    "d = {\n",
    "    \"name\" : ['kim','lee','park','jung'],\n",
    "    \"age\" : [25, 30, 35, 20],\n",
    "    'tel' : ['1111-2222','2222-3333','3333-4444','4444-5555']\n",
    "}\n",
    "print(type(d))"
   ]
  },
  {
   "cell_type": "code",
   "execution_count": 25,
   "metadata": {},
   "outputs": [
    {
     "name": "stdout",
     "output_type": "stream",
     "text": [
      "   name  age        tel\n",
      "0   kim   25  1111-2222\n",
      "1   lee   30  2222-3333\n",
      "2  park   35  3333-4444\n",
      "3  jung   20  4444-5555\n"
     ]
    }
   ],
   "source": [
    "df = pd.DataFrame(d)\n",
    "print(df)"
   ]
  },
  {
   "cell_type": "code",
   "execution_count": 27,
   "metadata": {},
   "outputs": [
    {
     "name": "stdout",
     "output_type": "stream",
     "text": [
      "RangeIndex(start=0, stop=4, step=1)\n",
      "Index(['name', 'age', 'tel'], dtype='object')\n",
      "[['kim' 25 '1111-2222']\n",
      " ['lee' 30 '2222-3333']\n",
      " ['park' 35 '3333-4444']\n",
      " ['jung' 20 '4444-5555']]\n"
     ]
    }
   ],
   "source": [
    "print(df.index)\n",
    "print(df.columns)\n",
    "print(df.values)"
   ]
  },
  {
   "cell_type": "code",
   "execution_count": 28,
   "metadata": {},
   "outputs": [
    {
     "name": "stdout",
     "output_type": "stream",
     "text": [
      "     name  age        tel\n",
      "Num                      \n",
      "0     kim   25  1111-2222\n",
      "1     lee   30  2222-3333\n",
      "2    park   35  3333-4444\n",
      "3    jung   20  4444-5555\n"
     ]
    }
   ],
   "source": [
    "df.index.name = 'Num'\n",
    "df.columns.nave = 'User'\n",
    "print(df)"
   ]
  },
  {
   "cell_type": "code",
   "execution_count": 29,
   "metadata": {},
   "outputs": [
    {
     "name": "stdout",
     "output_type": "stream",
     "text": [
      "RangeIndex(start=0, stop=4, step=1, name='Num')\n",
      "Index(['name', 'age', 'tel'], dtype='object')\n"
     ]
    }
   ],
   "source": [
    "print(df.index)\n",
    "print(df.columns)"
   ]
  },
  {
   "cell_type": "markdown",
   "metadata": {},
   "source": [
    "## Numpy to Dataframe"
   ]
  },
  {
   "cell_type": "code",
   "execution_count": 30,
   "metadata": {},
   "outputs": [
    {
     "name": "stdout",
     "output_type": "stream",
     "text": [
      "<class 'numpy.ndarray'>\n"
     ]
    }
   ],
   "source": [
    "n = np.array(\n",
    "    [\n",
    "        ['kim', 20, '1111-2222'],\n",
    "        ['lee', 20, '2222-3333'],\n",
    "        ['park', 35, '3333-4444'],\n",
    "        ['jung', 25, '4444-5555']\n",
    "    ]\n",
    ")\n",
    "print(type(n))"
   ]
  },
  {
   "cell_type": "code",
   "execution_count": 31,
   "metadata": {},
   "outputs": [
    {
     "name": "stdout",
     "output_type": "stream",
     "text": [
      "   name age        tel\n",
      "a   kim  20  1111-2222\n",
      "b   lee  20  2222-3333\n",
      "c  park  35  3333-4444\n",
      "d  jung  25  4444-5555\n"
     ]
    }
   ],
   "source": [
    "df = pd.DataFrame(n)\n",
    "df.columns = ['name', 'age', 'tel']\n",
    "df.index = ['a', 'b', 'c', 'd']\n",
    "print(df)"
   ]
  },
  {
   "cell_type": "code",
   "execution_count": 32,
   "metadata": {},
   "outputs": [
    {
     "name": "stdout",
     "output_type": "stream",
     "text": [
      "Index(['a', 'b', 'c', 'd'], dtype='object')\n",
      "Index(['name', 'age', 'tel'], dtype='object')\n"
     ]
    }
   ],
   "source": [
    "print(df.index)\n",
    "print(df.columns)"
   ]
  },
  {
   "cell_type": "code",
   "execution_count": 33,
   "metadata": {},
   "outputs": [
    {
     "name": "stdout",
     "output_type": "stream",
     "text": [
      "   name age        tel\n",
      "a   kim  20  1111-2222\n",
      "b   lee  20  2222-3333\n",
      "c  park  35  3333-4444\n",
      "d  jung  25  4444-5555\n"
     ]
    }
   ],
   "source": [
    "df = pd.DataFrame(n, columns=['name', 'age', 'tel'], index=['a', 'b', 'c', 'd'])\n",
    "print(df)"
   ]
  },
  {
   "cell_type": "code",
   "execution_count": 34,
   "metadata": {},
   "outputs": [
    {
     "name": "stdout",
     "output_type": "stream",
     "text": [
      "       name age        tel\n",
      "count     4   4          4\n",
      "unique    4   3          4\n",
      "top     kim  20  1111-2222\n",
      "freq      1   2          1\n"
     ]
    }
   ],
   "source": [
    "print(df.describe())"
   ]
  },
  {
   "cell_type": "code",
   "execution_count": 37,
   "metadata": {},
   "outputs": [
    {
     "name": "stdout",
     "output_type": "stream",
     "text": [
      "a     kim\n",
      "b     lee\n",
      "c    park\n",
      "d    jung\n",
      "Name: name, dtype: object\n"
     ]
    }
   ],
   "source": [
    "print( df['name'] )"
   ]
  },
  {
   "cell_type": "code",
   "execution_count": 38,
   "metadata": {},
   "outputs": [
    {
     "name": "stdout",
     "output_type": "stream",
     "text": [
      "   name        tel\n",
      "a   kim  1111-2222\n",
      "b   lee  2222-3333\n",
      "c  park  3333-4444\n",
      "d  jung  4444-5555\n"
     ]
    }
   ],
   "source": [
    "print( df[['name','tel']] )"
   ]
  },
  {
   "cell_type": "code",
   "execution_count": 39,
   "metadata": {},
   "outputs": [
    {
     "name": "stdout",
     "output_type": "stream",
     "text": [
      "park\n"
     ]
    },
    {
     "name": "stderr",
     "output_type": "stream",
     "text": [
      "/var/folders/5n/kjkw6sh12dx20bbd340zn1pr0000gn/T/ipykernel_76379/432014822.py:1: FutureWarning: Series.__getitem__ treating keys as positions is deprecated. In a future version, integer keys will always be treated as labels (consistent with DataFrame behavior). To access a value by position, use `ser.iloc[pos]`\n",
      "  print( df['name'][2] )\n"
     ]
    }
   ],
   "source": [
    "print( df['name'][2] )"
   ]
  },
  {
   "cell_type": "code",
   "execution_count": 45,
   "metadata": {},
   "outputs": [
    {
     "name": "stdout",
     "output_type": "stream",
     "text": [
      "park\n",
      "park\n"
     ]
    }
   ],
   "source": [
    "print( df['name']['c'] )\n",
    "print( df['name'].c )"
   ]
  },
  {
   "cell_type": "code",
   "execution_count": 46,
   "metadata": {},
   "outputs": [
    {
     "name": "stdout",
     "output_type": "stream",
     "text": [
      "b     lee\n",
      "c    park\n",
      "d    jung\n",
      "Name: name, dtype: object\n"
     ]
    }
   ],
   "source": [
    "print( df['name']['b':'d'] )"
   ]
  },
  {
   "cell_type": "code",
   "execution_count": 48,
   "metadata": {},
   "outputs": [
    {
     "name": "stdout",
     "output_type": "stream",
     "text": [
      "a     kim\n",
      "b     lee\n",
      "c    park\n",
      "d    jung\n",
      "Name: name, dtype: object a    20\n",
      "b    20\n",
      "c    35\n",
      "d    25\n",
      "Name: age, dtype: object\n",
      "park\n"
     ]
    }
   ],
   "source": [
    "print( df.name, df.age )"
   ]
  },
  {
   "cell_type": "code",
   "execution_count": 49,
   "metadata": {},
   "outputs": [
    {
     "name": "stdout",
     "output_type": "stream",
     "text": [
      "park\n"
     ]
    }
   ],
   "source": [
    "print( df.name.c )"
   ]
  },
  {
   "cell_type": "code",
   "execution_count": 50,
   "metadata": {},
   "outputs": [
    {
     "name": "stdout",
     "output_type": "stream",
     "text": [
      "   name age        tel\n",
      "a   kim  20  1111-2222\n",
      "b   lee  20  2222-3333\n",
      "c  park  35  3333-4444\n",
      "d  jung  25  4444-5555\n"
     ]
    }
   ],
   "source": [
    "print( df[:][:] )"
   ]
  },
  {
   "cell_type": "code",
   "execution_count": 51,
   "metadata": {},
   "outputs": [
    {
     "name": "stdout",
     "output_type": "stream",
     "text": [
      "  name age        tel\n",
      "a  kim  20  1111-2222\n"
     ]
    }
   ],
   "source": [
    "print( df[:2][:1] )"
   ]
  },
  {
   "cell_type": "code",
   "execution_count": 52,
   "metadata": {},
   "outputs": [
    {
     "name": "stdout",
     "output_type": "stream",
     "text": [
      "   name        tel\n",
      "a   kim  1111-2222\n",
      "b   lee  2222-3333\n",
      "c  park  3333-4444\n",
      "d  jung  4444-5555\n"
     ]
    }
   ],
   "source": [
    "print( df[['name','tel']] )"
   ]
  },
  {
   "cell_type": "code",
   "execution_count": 53,
   "metadata": {},
   "outputs": [],
   "source": [
    "# print( df[[ 0, 2 ]] )              # 에러    컬럼명이 있는 경우 숫자 X\n",
    "# print( df[0][0] )                  # 에러"
   ]
  },
  {
   "cell_type": "code",
   "execution_count": 54,
   "metadata": {},
   "outputs": [
    {
     "name": "stdout",
     "output_type": "stream",
     "text": [
      "   name age        tel address  adult\n",
      "a   kim  20  1111-2222      서울  False\n",
      "b   lee  20  2222-3333      수원  False\n",
      "c  park  35  3333-4444      인천   True\n",
      "d  jung  25  4444-5555      안산  False\n"
     ]
    },
    {
     "name": "stderr",
     "output_type": "stream",
     "text": [
      "/var/folders/5n/kjkw6sh12dx20bbd340zn1pr0000gn/T/ipykernel_76379/1488260088.py:2: FutureWarning: ChainedAssignmentError: behaviour will change in pandas 3.0!\n",
      "You are setting values through chained assignment. Currently this works in certain cases, but when using Copy-on-Write (which will become the default behaviour in pandas 3.0) this will never work to update the original DataFrame or Series, because the intermediate object on which we are setting values will behave as a copy.\n",
      "A typical example is when you are setting values in a column of a DataFrame, like:\n",
      "\n",
      "df[\"col\"][row_indexer] = value\n",
      "\n",
      "Use `df.loc[row_indexer, \"col\"] = values` instead, to perform the assignment in a single step and ensure this keeps updating the original `df`.\n",
      "\n",
      "See the caveats in the documentation: https://pandas.pydata.org/pandas-docs/stable/user_guide/indexing.html#returning-a-view-versus-a-copy\n",
      "\n",
      "  df[ 'age' ][ 'A' ] = 30\n"
     ]
    }
   ],
   "source": [
    "df[ 'address' ] = [ '서울', '수원', '인천', '안산' ]\n",
    "df[ 'age' ][ 'A' ] = 30\n",
    "df[ 'adult' ] = df[ 'age' ].astype( np.int64 ) > 30\n",
    "\n",
    "print(df)"
   ]
  },
  {
   "cell_type": "code",
   "execution_count": 55,
   "metadata": {},
   "outputs": [
    {
     "name": "stdout",
     "output_type": "stream",
     "text": [
      "   name age        tel address\n",
      "a   kim  20  1111-2222      서울\n",
      "b   lee  20  2222-3333      수원\n",
      "c  park  35  3333-4444      인천\n",
      "d  jung  25  4444-5555      안산\n"
     ]
    }
   ],
   "source": [
    "del( df[ 'adult' ] )\n",
    "print( df )"
   ]
  },
  {
   "cell_type": "markdown",
   "metadata": {},
   "source": [
    "# Pandas 정렬"
   ]
  },
  {
   "cell_type": "markdown",
   "metadata": {},
   "source": [
    "## Series 정렬"
   ]
  },
  {
   "cell_type": "code",
   "execution_count": 56,
   "metadata": {},
   "outputs": [
    {
     "name": "stdout",
     "output_type": "stream",
     "text": [
      "a    10\n",
      "d    40\n",
      "f    50\n",
      "g    20\n",
      "b    70\n",
      "c    60\n",
      "dtype: int64\n",
      "g    20\n",
      "f    50\n",
      "d    40\n",
      "c    60\n",
      "b    70\n",
      "a    10\n",
      "dtype: int64\n"
     ]
    }
   ],
   "source": [
    "s = pd.Series( [ 10, 40, 50, 20, 70, 60 ], index=[ 'a', 'd', 'f', 'g', 'b', 'c' ] )\n",
    "print(s)\n",
    "s = s.sort_index( ascending=False )\n",
    "print( s )"
   ]
  },
  {
   "cell_type": "code",
   "execution_count": 57,
   "metadata": {},
   "outputs": [
    {
     "name": "stdout",
     "output_type": "stream",
     "text": [
      "a    10\n",
      "g    20\n",
      "d    40\n",
      "f    50\n",
      "c    60\n",
      "b    70\n",
      "dtype: int64\n"
     ]
    }
   ],
   "source": [
    "s = s.sort_values()\n",
    "print( s )"
   ]
  },
  {
   "cell_type": "markdown",
   "metadata": {},
   "source": [
    "## DataFrame 정렬"
   ]
  },
  {
   "cell_type": "code",
   "execution_count": 69,
   "metadata": {},
   "outputs": [
    {
     "name": "stdout",
     "output_type": "stream",
     "text": [
      "     D    C    A    B\n",
      "c    4    5   40  100\n",
      "a  300   10  200    2\n",
      "b   20  400    4   30\n"
     ]
    }
   ],
   "source": [
    "df = pd.DataFrame( [[ 4, 5, 40, 100 ],\n",
    "                    [ 300, 10, 200, 2],\n",
    "                    [ 20, 400, 4, 30 ]], index=[ 'c', 'a', 'b' ], columns=[ 'D', 'C', 'A', 'B' ])\n",
    "print( df )"
   ]
  },
  {
   "cell_type": "code",
   "execution_count": 64,
   "metadata": {},
   "outputs": [
    {
     "name": "stdout",
     "output_type": "stream",
     "text": [
      "     D    C    A    B\n",
      "a  300   10  200    2\n",
      "b   20  400    4   30\n",
      "c    4    5   40  100\n",
      "     D    C    A    B\n",
      "a  300   10  200    2\n",
      "b   20  400    4   30\n",
      "c    4    5   40  100\n"
     ]
    }
   ],
   "source": [
    "# index 기준 정렬\n",
    "df = df.sort_index()\n",
    "print(df)\n",
    "df = df.sort_index( axis=0 )\n",
    "print(df)"
   ]
  },
  {
   "cell_type": "code",
   "execution_count": 65,
   "metadata": {},
   "outputs": [
    {
     "name": "stdout",
     "output_type": "stream",
     "text": [
      "     D    C    B    A\n",
      "a  300   10    2  200\n",
      "b   20  400   30    4\n",
      "c    4    5  100   40\n"
     ]
    }
   ],
   "source": [
    "#column기준 정렬\n",
    "df = df.sort_index( axis=1, ascending=False )\n",
    "print(df)"
   ]
  },
  {
   "cell_type": "code",
   "execution_count": 70,
   "metadata": {},
   "outputs": [
    {
     "name": "stdout",
     "output_type": "stream",
     "text": [
      "     D    C    A    B\n",
      "a  300   10  200    2\n",
      "c    4    5   40  100\n",
      "b   20  400    4   30\n"
     ]
    }
   ],
   "source": [
    "# 행끼리 정렬, DESC\n",
    "df = df.sort_values( by='A', ascending=False )\n",
    "print(df)\n",
    "# A컬럼의 index a가 200으로 가장 크고 b가 4로 가장 작아서, 그 기준으로 전체 row가 정렬됨"
   ]
  },
  {
   "cell_type": "code",
   "execution_count": 71,
   "metadata": {},
   "outputs": [
    {
     "name": "stdout",
     "output_type": "stream",
     "text": [
      "     D    C    A    B\n",
      "b   20  400    4   30\n",
      "c    4    5   40  100\n",
      "a  300   10  200    2\n"
     ]
    }
   ],
   "source": [
    "# 행이 2개인 경우, ASC\n",
    "df = df.sort_values( by=['A', 'B'] )\n",
    "print(df)\n",
    "# A컬럼의 index a가 200으로 가장 크고 b가 4로 가장 작아서, 그 기준으로 전체 row가 정렬됨\n",
    "# 만약 A컬럼에 동일한 값이 있었다면, 다음으로는 B 기준"
   ]
  },
  {
   "cell_type": "markdown",
   "metadata": {},
   "source": [
    "# 슬라이싱\n",
    "- .iloc : 정수 인덱스\n",
    "- .loc : 라벨 인덱스\n",
    "- .ix : deprecated"
   ]
  },
  {
   "cell_type": "markdown",
   "metadata": {},
   "source": [
    "## list"
   ]
  },
  {
   "cell_type": "code",
   "execution_count": 72,
   "metadata": {},
   "outputs": [
    {
     "name": "stdout",
     "output_type": "stream",
     "text": [
      "[[1, 2, 3], [4, 5, 6], [7, 8, 9]]\n"
     ]
    }
   ],
   "source": [
    "m = [ [1, 2, 3], [4, 5, 6], [7, 8, 9] ]\n",
    "print( m )"
   ]
  },
  {
   "cell_type": "code",
   "execution_count": 73,
   "metadata": {},
   "outputs": [
    {
     "name": "stdout",
     "output_type": "stream",
     "text": [
      "9\n",
      "[[1, 2, 3], [4, 5, 6], [7, 8, 9]]\n",
      "[[1, 2, 3], [4, 5, 6]]\n"
     ]
    }
   ],
   "source": [
    "print( m[2][2] )\n",
    "print( m[:][:] )\n",
    "print( m[:2][:2] )"
   ]
  },
  {
   "cell_type": "markdown",
   "metadata": {},
   "source": [
    "# numpy"
   ]
  },
  {
   "cell_type": "code",
   "execution_count": 74,
   "metadata": {},
   "outputs": [
    {
     "name": "stdout",
     "output_type": "stream",
     "text": [
      "[[1 2 3]\n",
      " [4 5 6]\n",
      " [7 8 9]]\n"
     ]
    }
   ],
   "source": [
    "n = np.array( m )\n",
    "print( n )"
   ]
  },
  {
   "cell_type": "code",
   "execution_count": 75,
   "metadata": {},
   "outputs": [
    {
     "name": "stdout",
     "output_type": "stream",
     "text": [
      "9\n",
      "[[1 2 3]\n",
      " [4 5 6]\n",
      " [7 8 9]]\n",
      "[[1 2 3]\n",
      " [4 5 6]]\n",
      "[[1 2]\n",
      " [4 5]]\n"
     ]
    }
   ],
   "source": [
    "print( n[2][2] )\n",
    "print( n[:][:] )\n",
    "print( n[:2][:2] )\n",
    "print( n[:2, :2] )"
   ]
  },
  {
   "cell_type": "markdown",
   "metadata": {},
   "source": [
    "## Pandas"
   ]
  },
  {
   "cell_type": "code",
   "execution_count": 76,
   "metadata": {},
   "outputs": [
    {
     "name": "stdout",
     "output_type": "stream",
     "text": [
      "   0  1  2\n",
      "0  1  2  3\n",
      "1  4  5  6\n",
      "2  7  8  9\n"
     ]
    }
   ],
   "source": [
    "df = pd.DataFrame( n )\n",
    "print( df )"
   ]
  },
  {
   "cell_type": "code",
   "execution_count": 77,
   "metadata": {},
   "outputs": [
    {
     "name": "stdout",
     "output_type": "stream",
     "text": [
      "9\n",
      "   0  1  2\n",
      "0  1  2  3\n",
      "1  4  5  6\n",
      "2  7  8  9\n",
      "   0  1  2\n",
      "0  1  2  3\n",
      "1  4  5  6\n"
     ]
    }
   ],
   "source": [
    "print( df[2][2] )\n",
    "print( df[:][:] )\n",
    "print( df[:2][:2] )"
   ]
  },
  {
   "cell_type": "markdown",
   "metadata": {},
   "source": [
    "## iloc"
   ]
  },
  {
   "cell_type": "code",
   "execution_count": 78,
   "metadata": {},
   "outputs": [
    {
     "name": "stdout",
     "output_type": "stream",
     "text": [
      "    A   B   C   D\n",
      "0   1   2   3   4\n",
      "1   5   6   7   8\n",
      "2   9  10  11  12\n",
      "3  13  14  15  16\n",
      "4  17  18  19  20\n"
     ]
    }
   ],
   "source": [
    "df = pd.DataFrame( np.arange( 1, 21 ).reshape( 5, 4 ), columns=['A', 'B', 'C', 'D'] )\n",
    "print( df )"
   ]
  },
  {
   "cell_type": "code",
   "execution_count": 79,
   "metadata": {},
   "outputs": [
    {
     "name": "stdout",
     "output_type": "stream",
     "text": [
      "11\n",
      "    A   D\n",
      "0   1   4\n",
      "1   5   8\n",
      "2   9  12\n",
      "3  13  16\n",
      "4  17  20\n"
     ]
    }
   ],
   "source": [
    "print( df['C'][2] )\n",
    "print( df[['A', 'D']] )"
   ]
  },
  {
   "cell_type": "code",
   "execution_count": 80,
   "metadata": {},
   "outputs": [
    {
     "name": "stdout",
     "output_type": "stream",
     "text": [
      "11\n",
      "11\n"
     ]
    },
    {
     "name": "stderr",
     "output_type": "stream",
     "text": [
      "/var/folders/5n/kjkw6sh12dx20bbd340zn1pr0000gn/T/ipykernel_76379/2665944372.py:1: FutureWarning: Series.__getitem__ treating keys as positions is deprecated. In a future version, integer keys will always be treated as labels (consistent with DataFrame behavior). To access a value by position, use `ser.iloc[pos]`\n",
      "  print( df.iloc[2][2] )\n"
     ]
    }
   ],
   "source": [
    "print( df.iloc[2][2] )\n",
    "print( df.iloc[2, 2] )"
   ]
  },
  {
   "cell_type": "code",
   "execution_count": 81,
   "metadata": {},
   "outputs": [
    {
     "name": "stdout",
     "output_type": "stream",
     "text": [
      "   A  B\n",
      "0  1  2\n",
      "1  5  6\n"
     ]
    }
   ],
   "source": [
    "print( df.iloc[:2, :2] )"
   ]
  },
  {
   "cell_type": "code",
   "execution_count": 82,
   "metadata": {},
   "outputs": [
    {
     "name": "stdout",
     "output_type": "stream",
     "text": [
      "   A   C\n",
      "0  1   3\n",
      "2  9  11\n"
     ]
    }
   ],
   "source": [
    "print( df.iloc[:3:2, :3:2] )"
   ]
  },
  {
   "cell_type": "code",
   "execution_count": 83,
   "metadata": {},
   "outputs": [
    {
     "name": "stdout",
     "output_type": "stream",
     "text": [
      "   A  B  C\n",
      "0  1  2  3\n",
      "1  5  6  7\n"
     ]
    }
   ],
   "source": [
    "print( df.iloc[:2, :-1] )"
   ]
  },
  {
   "cell_type": "code",
   "execution_count": 84,
   "metadata": {},
   "outputs": [
    {
     "name": "stdout",
     "output_type": "stream",
     "text": [
      "    D   C   B   A\n",
      "4  20  19  18  17\n",
      "3  16  15  14  13\n",
      "2  12  11  10   9\n",
      "1   8   7   6   5\n",
      "0   4   3   2   1\n"
     ]
    }
   ],
   "source": [
    "print( df.iloc[::-1, ::-1] )"
   ]
  },
  {
   "cell_type": "markdown",
   "metadata": {},
   "source": [
    "## loc"
   ]
  },
  {
   "cell_type": "code",
   "execution_count": 85,
   "metadata": {},
   "outputs": [
    {
     "name": "stdout",
     "output_type": "stream",
     "text": [
      "    A   B   C   D\n",
      "0   1   2   3   4\n",
      "1   5   6   7   8\n",
      "2   9  10  11  12\n",
      "3  13  14  15  16\n",
      "4  17  18  19  20\n",
      "11\n"
     ]
    }
   ],
   "source": [
    "print( df )\n",
    "print( df.loc[2, 'C'] )"
   ]
  },
  {
   "cell_type": "code",
   "execution_count": 88,
   "metadata": {},
   "outputs": [
    {
     "name": "stdout",
     "output_type": "stream",
     "text": [
      "   A   B   C\n",
      "0  1   2   3\n",
      "1  5   6   7\n",
      "2  9  10  11\n"
     ]
    }
   ],
   "source": [
    "print( df.loc[:2, :'C'] )"
   ]
  },
  {
   "cell_type": "code",
   "execution_count": 89,
   "metadata": {},
   "outputs": [
    {
     "name": "stdout",
     "output_type": "stream",
     "text": [
      "   A  B  C  D\n",
      "0  1  2  3  4\n",
      "1  5  6  7  8\n"
     ]
    }
   ],
   "source": [
    "print( df[:2] )"
   ]
  },
  {
   "cell_type": "code",
   "execution_count": 90,
   "metadata": {},
   "outputs": [
    {
     "name": "stdout",
     "output_type": "stream",
     "text": [
      "    B   C   D\n",
      "1   6   7   8\n",
      "2  10  11  12\n",
      "3  14  15  16\n"
     ]
    }
   ],
   "source": [
    "print( df.loc[1:3, 'B':'D'] )"
   ]
  },
  {
   "cell_type": "code",
   "execution_count": 91,
   "metadata": {},
   "outputs": [
    {
     "name": "stdout",
     "output_type": "stream",
     "text": [
      "0     3\n",
      "1     7\n",
      "2    11\n",
      "3    15\n",
      "4    19\n",
      "Name: C, dtype: int64\n"
     ]
    }
   ],
   "source": [
    "print( df.loc[:, 'C'] )"
   ]
  },
  {
   "cell_type": "code",
   "execution_count": 92,
   "metadata": {},
   "outputs": [
    {
     "name": "stdout",
     "output_type": "stream",
     "text": [
      "    B   D\n",
      "0   2   4\n",
      "1   6   8\n",
      "2  10  12\n",
      "3  14  16\n",
      "4  18  20\n"
     ]
    }
   ],
   "source": [
    "print( df.loc[:, ['B', 'D']] )"
   ]
  },
  {
   "cell_type": "code",
   "execution_count": 93,
   "metadata": {},
   "outputs": [
    {
     "name": "stdout",
     "output_type": "stream",
     "text": [
      "    B   D\n",
      "0   2   4\n",
      "1   6   8\n",
      "2  10  12\n",
      "3  14  16\n",
      "4  18  20\n"
     ]
    }
   ],
   "source": [
    "print( df[['B' ,'D']] )"
   ]
  },
  {
   "cell_type": "markdown",
   "metadata": {},
   "source": [
    "## drop"
   ]
  },
  {
   "cell_type": "code",
   "execution_count": 105,
   "metadata": {},
   "outputs": [
    {
     "name": "stdout",
     "output_type": "stream",
     "text": [
      "    A   B   C   D\n",
      "0   1   2   3   4\n",
      "1   5   6   7   8\n",
      "2   9  10  11  12\n",
      "3  13  14  15  16\n",
      "4  17  18  19  20\n",
      "    A   B   C   D   E\n",
      "0   1   2   3   4  31\n",
      "1   5   6   7   8  32\n",
      "2   9  10  11  12  33\n",
      "3  13  14  15  16  34\n",
      "4  17  18  19  20  35\n"
     ]
    }
   ],
   "source": [
    "df = pd.DataFrame( np.arange( 1, 21 ).reshape( 5, 4 ), columns=['A', 'B', 'C', 'D'] )\n",
    "print(df)\n",
    "df['E'] = [ 31, 32, 33, 34, 35 ]\n",
    "print(df)"
   ]
  },
  {
   "cell_type": "code",
   "execution_count": 106,
   "metadata": {},
   "outputs": [
    {
     "name": "stdout",
     "output_type": "stream",
     "text": [
      "    A   B   C   D   E\n",
      "0   1   2   3   4  31\n",
      "1   5   6   7   8  32\n",
      "2   9  10  11  12  33\n",
      "3  13  14  15  16  34\n",
      "4  17  18  19  20  35\n",
      "5  90  91  92  93  94\n"
     ]
    }
   ],
   "source": [
    "df.loc[5] = [ 90, 91, 92, 93, 94 ]\n",
    "print(df)"
   ]
  },
  {
   "cell_type": "code",
   "execution_count": 107,
   "metadata": {},
   "outputs": [
    {
     "name": "stdout",
     "output_type": "stream",
     "text": [
      "    A   B   C   D   E   F\n",
      "0   1   2   3   4  31  40\n",
      "1   5   6   7   8  32  41\n",
      "2   9  10  11  12  33  42\n",
      "3  13  14  15  16  34  43\n",
      "4  17  18  19  20  35  44\n",
      "5  90  91  92  93  94  45\n"
     ]
    }
   ],
   "source": [
    "df.loc[:, 'F'] = [ 40, 41, 42, 43, 44, 45 ] \n",
    "print(df)"
   ]
  },
  {
   "cell_type": "code",
   "execution_count": 108,
   "metadata": {},
   "outputs": [
    {
     "name": "stdout",
     "output_type": "stream",
     "text": [
      "    A   B   C   D   E   F\n",
      "0  99   2   3   4  31  40\n",
      "1   5   6   7   8  32  41\n",
      "2   9  10  11  12  33  42\n",
      "3  13  14  15  16  34  43\n",
      "4  17  18  19  20  35  44\n",
      "5  90  91  92  93  94  45\n"
     ]
    }
   ],
   "source": [
    "df.loc[0, 'A'] = 99\n",
    "print(df)"
   ]
  },
  {
   "cell_type": "code",
   "execution_count": 109,
   "metadata": {},
   "outputs": [
    {
     "name": "stdout",
     "output_type": "stream",
     "text": [
      "     A    B    C   D   E   F\n",
      "0   99    2    3   4  31  40\n",
      "1  100  101  102   8  32  41\n",
      "2    9   10   11  12  33  42\n",
      "3   13   14   15  16  34  43\n",
      "4   17   18   19  20  35  44\n",
      "5   90   91   92  93  94  45\n"
     ]
    }
   ],
   "source": [
    "df.loc[1, 'A':'C'] = [100, 101, 102]\n",
    "print( df )"
   ]
  },
  {
   "cell_type": "code",
   "execution_count": 110,
   "metadata": {},
   "outputs": [
    {
     "name": "stdout",
     "output_type": "stream",
     "text": [
      "     A    B    C   D    E   F\n",
      "0   99    2    3   4   31  40\n",
      "1  100  101  102   8   32  41\n",
      "2    9   10   11  12   33  42\n",
      "3  200   14  201  16  202  43\n",
      "4   17   18   19  20   35  44\n",
      "5   90   91   92  93   94  45\n"
     ]
    }
   ],
   "source": [
    "df.loc[3, ['A', 'C', 'E']] = [200, 201, 202]\n",
    "print(df)"
   ]
  },
  {
   "cell_type": "code",
   "execution_count": 111,
   "metadata": {},
   "outputs": [
    {
     "name": "stdout",
     "output_type": "stream",
     "text": [
      "     A    B    C   D   F\n",
      "0   99    2    3   4  40\n",
      "1  100  101  102   8  41\n",
      "2    9   10   11  12  42\n",
      "3  200   14  201  16  43\n",
      "4   17   18   19  20  44\n",
      "5   90   91   92  93  45\n"
     ]
    }
   ],
   "source": [
    "del( df['E'] )\n",
    "print(df)"
   ]
  },
  {
   "cell_type": "code",
   "execution_count": 112,
   "metadata": {},
   "outputs": [
    {
     "name": "stdout",
     "output_type": "stream",
     "text": [
      "     A    B    C   D\n",
      "0   99    2    3   4\n",
      "1  100  101  102   8\n",
      "2    9   10   11  12\n",
      "3  200   14  201  16\n",
      "4   17   18   19  20\n",
      "5   90   91   92  93\n"
     ]
    }
   ],
   "source": [
    "df = df.drop( 'F', axis=1 )\n",
    "print( df )"
   ]
  },
  {
   "cell_type": "code",
   "execution_count": 113,
   "metadata": {},
   "outputs": [
    {
     "name": "stdout",
     "output_type": "stream",
     "text": [
      "     A    B    C   D\n",
      "0   99    2    3   4\n",
      "1  100  101  102   8\n",
      "2    9   10   11  12\n",
      "3  200   14  201  16\n",
      "4   17   18   19  20\n"
     ]
    }
   ],
   "source": [
    "df = df.drop( 5 )\n",
    "print(df)"
   ]
  },
  {
   "cell_type": "markdown",
   "metadata": {},
   "source": [
    "## Boolean Indexing"
   ]
  },
  {
   "cell_type": "code",
   "execution_count": 114,
   "metadata": {},
   "outputs": [
    {
     "name": "stdout",
     "output_type": "stream",
     "text": [
      "   name  age        tel\n",
      "0   kim   20  1111-2222\n",
      "1   lee   30  2222-1111\n",
      "2  park   35  3333-2222\n",
      "3  jung   25  3333-1111\n",
      "4  hong   40  1111-3333\n"
     ]
    }
   ],
   "source": [
    "df = pd.DataFrame(\n",
    "     [['kim', 20, '1111-2222'],\n",
    "      ['lee', 30, '2222-1111'],\n",
    "      ['park', 35, '3333-2222'],\n",
    "      ['jung', 25, '3333-1111'],\n",
    "      ['hong', 40, '1111-3333']], columns=[ 'name', 'age', 'tel']    \n",
    ")\n",
    "print( df )"
   ]
  },
  {
   "cell_type": "code",
   "execution_count": 115,
   "metadata": {},
   "outputs": [
    {
     "name": "stdout",
     "output_type": "stream",
     "text": [
      "jung\n"
     ]
    }
   ],
   "source": [
    "print( df.loc[3, 'name'] )"
   ]
  },
  {
   "cell_type": "code",
   "execution_count": 116,
   "metadata": {},
   "outputs": [
    {
     "name": "stdout",
     "output_type": "stream",
     "text": [
      "   name  age\n",
      "2  park   35\n",
      "4  hong   40\n"
     ]
    }
   ],
   "source": [
    "print( df.loc[ df['age'] > 30, ['name', 'age' ]] )"
   ]
  },
  {
   "cell_type": "code",
   "execution_count": 118,
   "metadata": {},
   "outputs": [
    {
     "name": "stdout",
     "output_type": "stream",
     "text": [
      "  name  age        tel\n",
      "0  kim   20  1111-2222\n"
     ]
    }
   ],
   "source": [
    "print( df.loc[ df['name'] == 'kim', : ] )"
   ]
  },
  {
   "cell_type": "code",
   "execution_count": 119,
   "metadata": {},
   "outputs": [
    {
     "name": "stdout",
     "output_type": "stream",
     "text": [
      "   name  age        tel\n",
      "1   lee   30  2222-1111\n",
      "2  park   35  3333-2222\n",
      "3  jung   25  3333-1111\n"
     ]
    }
   ],
   "source": [
    "print( df.loc[ ( df['age']>20 ) & ( df['age']<40 ), 'name':'tel'] )"
   ]
  },
  {
   "cell_type": "code",
   "execution_count": 120,
   "metadata": {},
   "outputs": [
    {
     "name": "stdout",
     "output_type": "stream",
     "text": [
      "0    kim\n",
      "1    lee\n",
      "Name: name, dtype: object\n"
     ]
    }
   ],
   "source": [
    "print( df.loc[ [True, True, False, False, False], \"name\" ] )"
   ]
  },
  {
   "cell_type": "markdown",
   "metadata": {},
   "source": [
    "## 결측값 대체"
   ]
  },
  {
   "cell_type": "code",
   "execution_count": 121,
   "metadata": {},
   "outputs": [
    {
     "name": "stdout",
     "output_type": "stream",
     "text": [
      "   name  age        tel address\n",
      "0   kim   20  1111-2222      서울\n",
      "1   lee   30  2222-1111     NaN\n",
      "2  park   35  3333-2222     NaN\n",
      "3  jung   25  3333-1111      수원\n",
      "4  hong   40  1111-3333    None\n"
     ]
    }
   ],
   "source": [
    "df['address'] = [ '서울', np.nan, np.nan, '수원', None ]\n",
    "print(df)"
   ]
  },
  {
   "cell_type": "code",
   "execution_count": 122,
   "metadata": {},
   "outputs": [
    {
     "name": "stdout",
     "output_type": "stream",
     "text": [
      "Series([], Name: address, dtype: object)\n"
     ]
    }
   ],
   "source": [
    "print( df.loc[ df['address'] == np.nan, 'address' ]  )"
   ]
  },
  {
   "cell_type": "code",
   "execution_count": 123,
   "metadata": {},
   "outputs": [
    {
     "name": "stdout",
     "output_type": "stream",
     "text": [
      "Series([], Name: address, dtype: object)\n"
     ]
    }
   ],
   "source": [
    "print( df.loc[ df['address'] == None, 'address' ]  )"
   ]
  },
  {
   "cell_type": "code",
   "execution_count": 124,
   "metadata": {},
   "outputs": [
    {
     "name": "stdout",
     "output_type": "stream",
     "text": [
      "1     NaN\n",
      "2     NaN\n",
      "4    None\n",
      "Name: address, dtype: object\n"
     ]
    }
   ],
   "source": [
    "print( df.loc[ df['address'].isnull(), 'address' ] )\n"
   ]
  },
  {
   "cell_type": "code",
   "execution_count": 125,
   "metadata": {},
   "outputs": [
    {
     "name": "stdout",
     "output_type": "stream",
     "text": [
      "   name  age        tel address\n",
      "0   kim   20  1111-2222      서울\n",
      "1   lee   30  2222-1111      서울\n",
      "2  park   35  3333-2222      서울\n",
      "3  jung   25  3333-1111      수원\n",
      "4  hong   40  1111-3333      서울\n"
     ]
    }
   ],
   "source": [
    "df.loc[ df['address'].isnull(), 'address' ] = '서울'\n",
    "print(df)"
   ]
  },
  {
   "cell_type": "code",
   "execution_count": 127,
   "metadata": {},
   "outputs": [
    {
     "name": "stdout",
     "output_type": "stream",
     "text": [
      "   name  age        tel address\n",
      "0   kim   20  1111-2222        \n",
      "1   lee   30  2222-1111      서울\n",
      "2  park   35  3333-2222        \n",
      "3  jung   25  3333-1111      수원\n",
      "4  hong   40  1111-3333        \n"
     ]
    }
   ],
   "source": [
    "df.loc[ ::2, 'address' ] = '' \n",
    "print(df)"
   ]
  },
  {
   "cell_type": "code",
   "execution_count": 128,
   "metadata": {},
   "outputs": [
    {
     "name": "stdout",
     "output_type": "stream",
     "text": [
      "   name  age        tel address\n",
      "0   kim   20  1111-2222      서울\n",
      "1   lee   30  2222-1111      서울\n",
      "2  park   35  3333-2222      서울\n",
      "3  jung   25  3333-1111      수원\n",
      "4  hong   40  1111-3333      서울\n"
     ]
    }
   ],
   "source": [
    "df.loc[ df['address'] == '', 'address' ] = '서울' \n",
    "print( df )"
   ]
  },
  {
   "cell_type": "code",
   "execution_count": 129,
   "metadata": {},
   "outputs": [
    {
     "name": "stdout",
     "output_type": "stream",
     "text": [
      "   name  age        tel address\n",
      "0   kim   20  1111-2222      서울\n",
      "1   lee   30  2222-1111     NaN\n",
      "2  park   35  3333-2222      수원\n",
      "3  jung   25  3333-1111     NaN\n",
      "4  hong   40  1111-3333     NaN\n"
     ]
    }
   ],
   "source": [
    "df = pd.DataFrame(\n",
    "     [['kim', 20, '1111-2222', '서울'],\n",
    "      ['lee', 30, '2222-1111', np.nan ],\n",
    "      ['park', 35, '3333-2222', '수원'],\n",
    "      ['jung', 25, '3333-1111', np.nan],\n",
    "      ['hong', 40, '1111-3333', np.nan]], columns=[ 'name', 'age', 'tel', 'address']    \n",
    ")\n",
    "print(df)"
   ]
  },
  {
   "cell_type": "code",
   "execution_count": 130,
   "metadata": {},
   "outputs": [
    {
     "name": "stdout",
     "output_type": "stream",
     "text": [
      "   name   age        tel address\n",
      "0   kim  20.0  1111-2222      서울\n",
      "1   lee  30.0  2222-1111     NaN\n",
      "2  park  35.0  3333-2222      수원\n",
      "3  jung  25.0  3333-1111     NaN\n",
      "4  hong  40.0  1111-3333     NaN\n",
      "5   NaN   NaN        NaN     NaN\n"
     ]
    }
   ],
   "source": [
    "df.loc[ 5, : ] = [ np.nan, np.nan, np.nan, np.nan ]\n",
    "print(df)"
   ]
  },
  {
   "cell_type": "code",
   "execution_count": 131,
   "metadata": {},
   "outputs": [
    {
     "name": "stdout",
     "output_type": "stream",
     "text": [
      "   name   age        tel address  income\n",
      "0   kim  20.0  1111-2222      서울   300.0\n",
      "1   lee  30.0  2222-1111     NaN     NaN\n",
      "2  park  35.0  3333-2222      수원   400.0\n",
      "3  jung  25.0  3333-1111     NaN   500.0\n",
      "4  hong  40.0  1111-3333     NaN     NaN\n",
      "5   NaN   NaN        NaN     NaN   300.0\n"
     ]
    }
   ],
   "source": [
    "df['income'] = [ 300, np.nan, 400, 500, np.nan, 300 ]\n",
    "print(df)"
   ]
  },
  {
   "cell_type": "code",
   "execution_count": 132,
   "metadata": {},
   "outputs": [
    {
     "name": "stdout",
     "output_type": "stream",
     "text": [
      "   name   age        tel address  income\n",
      "0   kim  20.0  1111-2222      서울   300.0\n",
      "1   lee  30.0  2222-1111      서울     NaN\n",
      "2  park  35.0  3333-2222      수원   400.0\n",
      "3  jung  25.0  3333-1111      서울   500.0\n",
      "4  hong  40.0  1111-3333      서울     NaN\n",
      "5   NaN   NaN        NaN      서울   300.0\n"
     ]
    }
   ],
   "source": [
    "df.fillna( {'address' : '서울'}, inplace=True )\n",
    "print(df)"
   ]
  },
  {
   "cell_type": "code",
   "execution_count": 133,
   "metadata": {},
   "outputs": [
    {
     "name": "stdout",
     "output_type": "stream",
     "text": [
      "   name   age        tel address  income\n",
      "0   kim  20.0  1111-2222      서울   300.0\n",
      "1   lee  30.0  2222-1111      서울   375.0\n",
      "2  park  35.0  3333-2222      수원   400.0\n",
      "3  jung  25.0  3333-1111      서울   500.0\n",
      "4  hong  40.0  1111-3333      서울   375.0\n",
      "5   NaN   NaN        NaN      서울   300.0\n"
     ]
    }
   ],
   "source": [
    "df.fillna( {'income' : np.mean( df['income'] ) }, inplace=True )\n",
    "print(df)"
   ]
  },
  {
   "cell_type": "code",
   "execution_count": 134,
   "metadata": {},
   "outputs": [
    {
     "name": "stdout",
     "output_type": "stream",
     "text": [
      "   name   age        tel address  income\n",
      "0   kim  20.0  1111-2222      서울   300.0\n",
      "1   lee  30.0  2222-1111      서울   375.0\n",
      "2  park  35.0  3333-2222      수원   400.0\n",
      "3  jung  25.0  3333-1111      서울   500.0\n"
     ]
    }
   ],
   "source": [
    "df.drop( [4, 5], inplace=True )\n",
    "print(df)"
   ]
  },
  {
   "cell_type": "code",
   "execution_count": 135,
   "metadata": {},
   "outputs": [
    {
     "name": "stdout",
     "output_type": "stream",
     "text": [
      "   name   age        tel\n",
      "0   kim  20.0  1111-2222\n",
      "1   lee  30.0  2222-1111\n",
      "2  park  35.0  3333-2222\n",
      "3  jung  25.0  3333-1111\n"
     ]
    }
   ],
   "source": [
    "df.drop( ['address', 'income'], axis=1, inplace=True )\n",
    "print(df)     "
   ]
  },
  {
   "cell_type": "code",
   "execution_count": 137,
   "metadata": {},
   "outputs": [
    {
     "name": "stdout",
     "output_type": "stream",
     "text": [
      "              0          1          2          3\n",
      "name        kim        lee       park       jung\n",
      "age        20.0       30.0       35.0       25.0\n",
      "tel   1111-2222  2222-1111  3333-2222  3333-1111\n"
     ]
    }
   ],
   "source": [
    "# 전치행렬\n",
    "print( df.transpose() )  "
   ]
  },
  {
   "cell_type": "markdown",
   "metadata": {},
   "source": [
    "# Pandas 함수"
   ]
  },
  {
   "cell_type": "code",
   "execution_count": 138,
   "metadata": {},
   "outputs": [
    {
     "name": "stdout",
     "output_type": "stream",
     "text": [
      "   name   kor   eng   mat\n",
      "0   kim  90.0  80.0  70.0\n",
      "1   lee  45.0   NaN  55.0\n",
      "2  park  76.0  77.0  83.0\n",
      "3  hong   NaN   NaN  77.0\n",
      "4  kang  35.0  58.0  52.0\n",
      "5  jang   NaN   NaN   NaN\n"
     ]
    }
   ],
   "source": [
    "# Pandas 함수\n",
    "df = pd.DataFrame( \n",
    "    [[ 'kim', 90, 80, 70 ],\n",
    "     [ 'lee', 45, np.nan, 55 ],\n",
    "     [ 'park', 76, 77, 83 ],\n",
    "     [ 'hong', np.nan, np.nan, 77 ],\n",
    "     [ 'kang', 35, 58, 52 ],\n",
    "     [ 'jang', np.nan, np.nan, np.nan]], columns=[ 'name', 'kor', 'eng', 'mat' ]\n",
    ")\n",
    "print( df )\n"
   ]
  },
  {
   "cell_type": "code",
   "execution_count": 139,
   "metadata": {},
   "outputs": [
    {
     "name": "stdout",
     "output_type": "stream",
     "text": [
      "name    6\n",
      "kor     4\n",
      "eng     3\n",
      "mat     5\n",
      "dtype: int64\n"
     ]
    }
   ],
   "source": [
    "print( df.count() )"
   ]
  },
  {
   "cell_type": "code",
   "execution_count": 140,
   "metadata": {},
   "outputs": [
    {
     "name": "stdout",
     "output_type": "stream",
     "text": [
      "0    4\n",
      "1    3\n",
      "2    4\n",
      "3    2\n",
      "4    4\n",
      "5    1\n",
      "dtype: int64\n"
     ]
    }
   ],
   "source": [
    "print( df.count( axis=1 ) )"
   ]
  },
  {
   "cell_type": "code",
   "execution_count": 141,
   "metadata": {},
   "outputs": [
    {
     "name": "stdout",
     "output_type": "stream",
     "text": [
      "name    hong\n",
      "kor     35.0\n",
      "eng     58.0\n",
      "mat     52.0\n",
      "dtype: object\n"
     ]
    }
   ],
   "source": [
    "print( df.min() )"
   ]
  },
  {
   "cell_type": "code",
   "execution_count": 142,
   "metadata": {},
   "outputs": [
    {
     "name": "stdout",
     "output_type": "stream",
     "text": [
      "0    70.0\n",
      "1    45.0\n",
      "2    76.0\n",
      "3    77.0\n",
      "4    35.0\n",
      "5     NaN\n",
      "dtype: float64\n"
     ]
    }
   ],
   "source": [
    "print( df.loc[:, 'kor':'mat'].min( axis=1 ) )"
   ]
  },
  {
   "cell_type": "code",
   "execution_count": 143,
   "metadata": {},
   "outputs": [
    {
     "name": "stdout",
     "output_type": "stream",
     "text": [
      "name    park\n",
      "kor     90.0\n",
      "eng     80.0\n",
      "mat     83.0\n",
      "dtype: object\n"
     ]
    }
   ],
   "source": [
    "print( df.max() )"
   ]
  },
  {
   "cell_type": "code",
   "execution_count": 144,
   "metadata": {},
   "outputs": [
    {
     "name": "stdout",
     "output_type": "stream",
     "text": [
      "kor    61.500000\n",
      "eng    71.666667\n",
      "mat    67.400000\n",
      "dtype: float64\n"
     ]
    }
   ],
   "source": [
    "print( df.loc[:, 'kor':'mat'].mean() )"
   ]
  },
  {
   "cell_type": "code",
   "execution_count": 145,
   "metadata": {},
   "outputs": [
    {
     "name": "stdout",
     "output_type": "stream",
     "text": [
      "0    80.000000\n",
      "1    50.000000\n",
      "2    78.666667\n",
      "3    77.000000\n",
      "4    48.333333\n",
      "5          NaN\n",
      "dtype: float64\n"
     ]
    }
   ],
   "source": [
    "print( df.loc[:, 'kor':'mat'].mean( axis=1 ) )"
   ]
  },
  {
   "cell_type": "code",
   "execution_count": 146,
   "metadata": {},
   "outputs": [
    {
     "name": "stdout",
     "output_type": "stream",
     "text": [
      "name    kimleeparkhongkangjang\n",
      "kor                      246.0\n",
      "eng                      215.0\n",
      "mat                      337.0\n",
      "dtype: object\n"
     ]
    }
   ],
   "source": [
    "print( df.sum() )"
   ]
  },
  {
   "cell_type": "code",
   "execution_count": 147,
   "metadata": {},
   "outputs": [
    {
     "name": "stdout",
     "output_type": "stream",
     "text": [
      "0    240.0\n",
      "1    100.0\n",
      "2    236.0\n",
      "3     77.0\n",
      "4    145.0\n",
      "5      0.0\n",
      "dtype: float64\n"
     ]
    }
   ],
   "source": [
    "print(df.loc[:, 'kor':'mat'].sum(axis=1))"
   ]
  },
  {
   "cell_type": "code",
   "execution_count": 148,
   "metadata": {},
   "outputs": [
    {
     "name": "stdout",
     "output_type": "stream",
     "text": [
      "kor    60.5\n",
      "eng    77.0\n",
      "mat    70.0\n",
      "dtype: float64\n"
     ]
    }
   ],
   "source": [
    "print(df.loc[:, 'kor':'mat'].median())"
   ]
  },
  {
   "cell_type": "code",
   "execution_count": 149,
   "metadata": {},
   "outputs": [
    {
     "name": "stdout",
     "output_type": "stream",
     "text": [
      "     kor    eng    mat\n",
      "0   90.0   80.0   70.0\n",
      "1  135.0    NaN  125.0\n",
      "2  211.0  157.0  208.0\n",
      "3    NaN    NaN  285.0\n",
      "4  246.0  215.0  337.0\n",
      "5    NaN    NaN    NaN\n"
     ]
    }
   ],
   "source": [
    "print(df.loc[:, 'kor':'mat'].cumsum())"
   ]
  },
  {
   "cell_type": "code",
   "execution_count": 150,
   "metadata": {},
   "outputs": [
    {
     "name": "stdout",
     "output_type": "stream",
     "text": [
      "          kor       eng           mat\n",
      "0        90.0      80.0  7.000000e+01\n",
      "1      4050.0       NaN  3.850000e+03\n",
      "2    307800.0    6160.0  3.195500e+05\n",
      "3         NaN       NaN  2.460535e+07\n",
      "4  10773000.0  357280.0  1.279478e+09\n",
      "5         NaN       NaN           NaN\n"
     ]
    }
   ],
   "source": [
    "print(df.loc[:, 'kor':'mat'].cumprod())"
   ]
  },
  {
   "cell_type": "code",
   "execution_count": 151,
   "metadata": {},
   "outputs": [
    {
     "name": "stdout",
     "output_type": "stream",
     "text": [
      "name    2\n",
      "kor     0\n",
      "eng     0\n",
      "mat     2\n",
      "dtype: int64\n"
     ]
    }
   ],
   "source": [
    "print(df.idxmax())"
   ]
  },
  {
   "cell_type": "code",
   "execution_count": 152,
   "metadata": {},
   "outputs": [
    {
     "name": "stdout",
     "output_type": "stream",
     "text": [
      "name    3\n",
      "kor     4\n",
      "eng     4\n",
      "mat     4\n",
      "dtype: int64\n"
     ]
    }
   ],
   "source": [
    "print(df.idxmin())"
   ]
  },
  {
   "cell_type": "code",
   "execution_count": 153,
   "metadata": {},
   "outputs": [
    {
     "name": "stdout",
     "output_type": "stream",
     "text": [
      "kor    665.666667\n",
      "eng    142.333333\n",
      "mat    183.300000\n",
      "dtype: float64\n"
     ]
    }
   ],
   "source": [
    "print(df.loc[:,'kor':'mat'].var())"
   ]
  },
  {
   "cell_type": "code",
   "execution_count": 154,
   "metadata": {},
   "outputs": [
    {
     "name": "stdout",
     "output_type": "stream",
     "text": [
      "kor    25.800517\n",
      "eng    11.930353\n",
      "mat    13.538833\n",
      "dtype: float64\n"
     ]
    }
   ],
   "source": [
    "print(df.loc[:,'kor':'mat'].std())"
   ]
  },
  {
   "cell_type": "code",
   "execution_count": 155,
   "metadata": {},
   "outputs": [
    {
     "name": "stdout",
     "output_type": "stream",
     "text": [
      "   name   kor   eng   mat    tot\n",
      "0   kim  90.0  80.0  70.0  240.0\n",
      "1   lee  45.0   NaN  55.0  100.0\n",
      "2  park  76.0  77.0  83.0  236.0\n",
      "3  hong   NaN   NaN  77.0   77.0\n",
      "4  kang  35.0  58.0  52.0  145.0\n",
      "5  jang   NaN   NaN   NaN    0.0\n"
     ]
    }
   ],
   "source": [
    "df['tot'] = df.loc[:,'kor':'mat'].sum(axis=1)\n",
    "print(df)"
   ]
  },
  {
   "cell_type": "code",
   "execution_count": 157,
   "metadata": {},
   "outputs": [
    {
     "name": "stdout",
     "output_type": "stream",
     "text": [
      "   name   kor   eng   mat    tot        avg\n",
      "0   kim  90.0  80.0  70.0  240.0  80.000000\n",
      "1   lee  45.0   NaN  55.0  100.0  50.000000\n",
      "2  park  76.0  77.0  83.0  236.0  78.666667\n",
      "3  hong   NaN   NaN  77.0   77.0  77.000000\n",
      "4  kang  35.0  58.0  52.0  145.0  48.333333\n",
      "5  jang   NaN   NaN   NaN    0.0        NaN\n"
     ]
    }
   ],
   "source": [
    "df['avg'] = df.loc[:,'kor':'mat'].mean(axis=1)\n",
    "print(df)"
   ]
  },
  {
   "cell_type": "code",
   "execution_count": 159,
   "metadata": {},
   "outputs": [
    {
     "name": "stdout",
     "output_type": "stream",
     "text": [
      "0.9926458576614517\n"
     ]
    }
   ],
   "source": [
    "print(df['kor'].corr(df['eng']))\n",
    "#1 : 양의 상관관계, -1 : 음의 상관관계, 0 : 상관관계가 낮다"
   ]
  }
 ],
 "metadata": {
  "kernelspec": {
   "display_name": "Python 3",
   "language": "python",
   "name": "python3"
  },
  "language_info": {
   "codemirror_mode": {
    "name": "ipython",
    "version": 3
   },
   "file_extension": ".py",
   "mimetype": "text/x-python",
   "name": "python",
   "nbconvert_exporter": "python",
   "pygments_lexer": "ipython3",
   "version": "3.9.6"
  }
 },
 "nbformat": 4,
 "nbformat_minor": 2
}
