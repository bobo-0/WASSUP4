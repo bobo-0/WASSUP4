{
 "cells": [
  {
   "cell_type": "markdown",
   "id": "6f17d151",
   "metadata": {
    "tags": [],
    "toc-hr-collapsed": true
   },
   "source": [
    "# Numpy Quiz"
   ]
  },
  {
   "cell_type": "markdown",
   "id": "822f98fc",
   "metadata": {},
   "source": [
    "## Q1. 다음과 같은 리스트를 이용하여 넘파이 배열을 만들고 전체 갯수, 차원, 데이터형, 구조를 출력하여라\n",
    "```\n",
    "['강아지', '원숭이', '꽃', '45', '100']\n",
    "\n",
    "array(['강아지', '원숭이', '꽃', '45', '100'], dtype='<U3')\n",
    "차원 ? 1\n",
    "전체 갯수 ? 5\n",
    "데이터형 ? <U3\n",
    "전체 구조  ? (5,)\n",
    "```"
   ]
  },
  {
   "cell_type": "code",
   "execution_count": 1,
   "id": "57a5c6c5-660c-4f82-99a1-a578a300f8cd",
   "metadata": {},
   "outputs": [],
   "source": [
    "import numpy as np"
   ]
  },
  {
   "cell_type": "code",
   "execution_count": 50,
   "id": "3f1ce840",
   "metadata": {},
   "outputs": [
    {
     "data": {
      "text/plain": [
       "array(['강아지', '원숭이', '꽃', '45', '100'], dtype='<U3')"
      ]
     },
     "execution_count": 50,
     "metadata": {},
     "output_type": "execute_result"
    }
   ],
   "source": [
    "nplist = np.array(['강아지', '원숭이', '꽃', '45', '100'])\n",
    "nplist"
   ]
  },
  {
   "cell_type": "code",
   "execution_count": 51,
   "id": "1a4654c8",
   "metadata": {},
   "outputs": [
    {
     "name": "stdout",
     "output_type": "stream",
     "text": [
      "1\n",
      "5\n",
      "<U3\n",
      "(5,)\n"
     ]
    }
   ],
   "source": [
    "print(nplist.ndim)\n",
    "print(nplist.size)\n",
    "print(nplist.dtype)\n",
    "print(nplist.shape)"
   ]
  },
  {
   "cell_type": "markdown",
   "id": "e1cef698",
   "metadata": {},
   "source": [
    "## Q2. np.ones()를 이용하여2행 3열의 넘파이 배열을 생성하여라\n",
    "\n",
    "array([[1., 1., 1.],\n",
    "       [1., 1., 1.]])"
   ]
  },
  {
   "cell_type": "code",
   "execution_count": 52,
   "id": "fc428147-8468-487e-96e3-21141f9dfe88",
   "metadata": {},
   "outputs": [
    {
     "name": "stdout",
     "output_type": "stream",
     "text": [
      "[[1. 1. 1.]\n",
      " [1. 1. 1.]]\n"
     ]
    }
   ],
   "source": [
    "a = np.ones((2,3))\n",
    "\n",
    "print(a)"
   ]
  },
  {
   "cell_type": "markdown",
   "id": "42c9b79e",
   "metadata": {},
   "source": [
    "## Q3. np.arange(), np.reshape()를 이용하여 다음과 같은 넘파이 배열을 생성하여라\n",
    "```\n",
    "array([[51, 52, 53, 54, 55],\n",
    "       [56, 57, 58, 59, 60],\n",
    "       [61, 62, 63, 64, 65],\n",
    "       [66, 67, 68, 69, 70],\n",
    "       [71, 72, 73, 74, 75],\n",
    "       [76, 77, 78, 79, 80]])\n",
    "```"
   ]
  },
  {
   "cell_type": "code",
   "execution_count": 3,
   "id": "f36d1318-abab-4e6a-8ba3-87e71b36d100",
   "metadata": {},
   "outputs": [
    {
     "name": "stdout",
     "output_type": "stream",
     "text": [
      "[51 52 53 54 55 56 57 58 59 60 61 62 63 64 65 66 67 68 69 70 71 72 73 74\n",
      " 75 76 77 78 79 80]\n",
      "[[51 52 53 54 55]\n",
      " [56 57 58 59 60]\n",
      " [61 62 63 64 65]\n",
      " [66 67 68 69 70]\n",
      " [71 72 73 74 75]\n",
      " [76 77 78 79 80]]\n"
     ]
    }
   ],
   "source": [
    "a = np.arange(51,81)\n",
    "print(a)\n",
    "a = np.arange(51,81).reshape(6,5)\n",
    "print(a)"
   ]
  },
  {
   "cell_type": "markdown",
   "id": "6b0dd4b5",
   "metadata": {},
   "source": [
    "## Q4. Q3의 넘파이 배열의 자료형을 float로 변경하고 데이터형을 출력하여라\n",
    "```\n",
    "array([[51., 52., 53., 54., 55.],\n",
    "       [56., 57., 58., 59., 60.],\n",
    "       [61., 62., 63., 64., 65.],\n",
    "       [66., 67., 68., 69., 70.],\n",
    "       [71., 72., 73., 74., 75.],\n",
    "       [76., 77., 78., 79., 80.]])\n",
    "```\n",
    "-------------------------------------  \n",
    "\n",
    "dtype('float64')"
   ]
  },
  {
   "cell_type": "code",
   "execution_count": 54,
   "id": "200dc541-ca25-4797-a0e8-cec3aae25b4c",
   "metadata": {},
   "outputs": [
    {
     "name": "stdout",
     "output_type": "stream",
     "text": [
      "int64\n",
      "float64\n"
     ]
    }
   ],
   "source": [
    "a = np.arange(51,81)\n",
    "print(a.dtype)\n",
    "# b =  np.arange(51,81, dtype=float)\n",
    "# print(b.dtype)\n",
    "b = a.astype(float)\n",
    "print(b.dtype)"
   ]
  },
  {
   "cell_type": "markdown",
   "id": "906cf1f4",
   "metadata": {},
   "source": [
    "## Q5. 다음과 같이 넘파이 배열을 생성한 후 1차원 배열로 변경하고 슬라이싱하여라 \n",
    "\n",
    "```\n",
    "array([[ 1,  4,  5,  6],\n",
    "       [56, 23, 45, 67],\n",
    "       [ 8,  4,  6, 10]])\n",
    "       \n",
    "array([ 1,  4,  5,  6, 56, 23, 45, 67,  8,  4,  6, 10])\n",
    "\n",
    "\n",
    "array([23, 45, 67,  8,  4,  6])\n",
    "```       "
   ]
  },
  {
   "cell_type": "code",
   "execution_count": 57,
   "id": "90724111-e79d-4da8-a30f-bfa15e788f7e",
   "metadata": {},
   "outputs": [
    {
     "name": "stdout",
     "output_type": "stream",
     "text": [
      "[[ 1  4  5  6]\n",
      " [56 23 45 67]\n",
      " [ 8  4  6 10]]\n",
      "[ 1  4  5  6 56 23 45 67  8  4  6 10]\n",
      "[23 45 67  8  4  6]\n"
     ]
    }
   ],
   "source": [
    "a = np.array([[1,4,5,6],[56,23,45,67],[8,4,6,10]])\n",
    "print(a)\n",
    "b = a.flatten()\n",
    "print(b)\n",
    "print(b[5:-1])"
   ]
  },
  {
   "cell_type": "markdown",
   "id": "46e67feb",
   "metadata": {},
   "source": [
    "## Q6. 다음과 같은 넘파이 배열을 생성한 후 아이템을 교체하여라 \n",
    "\n",
    "```\n",
    "array([ 1,  2,  3,  4,  5,  6,  7,  8,  9, 10])\n",
    "\n",
    "array([10,  2,  3,  4,  5,  6,  7,  0,  0,  0])\n",
    "\n",
    "```"
   ]
  },
  {
   "cell_type": "code",
   "execution_count": 61,
   "id": "c7cd6fbe-380b-4e29-98f8-902b110a7207",
   "metadata": {},
   "outputs": [
    {
     "name": "stdout",
     "output_type": "stream",
     "text": [
      "[ 1  2  3  4  5  6  7  8  9 10]\n",
      "[10  2  3  4  5  6  7  0  0  0]\n"
     ]
    }
   ],
   "source": [
    "a = np.arange(1,11)\n",
    "print(a)\n",
    "a[0] = 10\n",
    "a[7:] = 0\n",
    "print(a)"
   ]
  },
  {
   "cell_type": "markdown",
   "id": "cf265b90",
   "metadata": {},
   "source": [
    "## Q7. 2자리의 숫자로 구성된 넘파이 배열(5행5열)을 만들어라. 숫자는 난수를 이용한다. \n",
    "\n",
    "```\n",
    "[[63 85 71 67 15]\n",
    " [31 81 69 17 97]\n",
    " [25 41 33 23 39]\n",
    " [39 43 59 33 43]\n",
    " [23 51 65 91 23]]\n",
    "\n",
    "```"
   ]
  },
  {
   "cell_type": "code",
   "execution_count": 30,
   "id": "0520d5ad-2e3a-4aca-acc5-3f08a08845aa",
   "metadata": {},
   "outputs": [
    {
     "name": "stdout",
     "output_type": "stream",
     "text": [
      "[[95 23 29 82 85]\n",
      " [45 65 66 12 79]\n",
      " [88 39 29 29 59]\n",
      " [97 70 98 43 23]\n",
      " [72 52 68 45 74]]\n"
     ]
    }
   ],
   "source": [
    "a = np.random.randint(10,100,(5,5))\n",
    "print(a)"
   ]
  },
  {
   "cell_type": "markdown",
   "id": "5c5ccecf",
   "metadata": {},
   "source": [
    "## Q8. 1~100 사이의 정수중 7개의 숫자를 무작위로 추출한 후 가장 큰값과 가장 작은 값을 출력하여라.\n",
    "[91, 65, 14, 66, 65, 98, 34]\n",
    "\n",
    "max = 98\n",
    "min = 14"
   ]
  },
  {
   "cell_type": "code",
   "execution_count": 64,
   "id": "54209548-9daf-4b72-aec9-c6c8c60c7c13",
   "metadata": {},
   "outputs": [
    {
     "name": "stdout",
     "output_type": "stream",
     "text": [
      "[31 99 59 88 44 10 98]\n",
      "99 10\n"
     ]
    }
   ],
   "source": [
    "a = np.random.randint(1,100,7)\n",
    "print(a)\n",
    "amax, amin = np.max(a), np.min(a)\n",
    "print(amax, amin)"
   ]
  },
  {
   "cell_type": "markdown",
   "id": "24dcaa28",
   "metadata": {},
   "source": [
    "## Q9. 다음과 같은 3개의 넘파이 배열을 생성한 후 다음과 같이 합쳐라\n",
    "```\n",
    "[[1, 2, 3],\n",
    " [4, 5, 6],\n",
    " [7, 8, 9]]\n",
    "\n",
    "\n",
    "[[11, 12, 13],\n",
    " [14, 15, 16],\n",
    " [17, 18, 19]]\n",
    "\n",
    "\n",
    "[[21, 22, 23],\n",
    " [24, 25, 26],\n",
    " [27, 28, 29]]\n",
    "```\n",
    " ----------\n",
    "  Result1 \n",
    "```\n",
    " [[ 1,  2,  3, 11, 12, 13, 21, 22, 23],\n",
    "  [ 4,  5,  6, 14, 15, 16, 24, 25, 26],\n",
    "  [ 7,  8,  9, 17, 18, 19, 27, 28, 29]] \n",
    "```\n",
    "\n",
    "  ----------\n",
    "  Result2\n",
    "```\n",
    " [[ 1,  2,  3],\n",
    "  [ 4,  5,  6],\n",
    "  [ 7,  8,  9],\n",
    "  [11, 12, 13],\n",
    "  [14, 15, 16],\n",
    "  [17, 18, 19],\n",
    "  [21, 22, 23],\n",
    "  [24, 25, 26],\n",
    "  [27, 28, 29]]\n",
    "```"
   ]
  },
  {
   "cell_type": "code",
   "execution_count": 35,
   "id": "b1f24b08",
   "metadata": {},
   "outputs": [],
   "source": [
    "a = np.arange(1,10).reshape(3,3)\n",
    "b = np.arange(11,20).reshape(3,3)\n",
    "c = np.arange(21,30).reshape(3,3)"
   ]
  },
  {
   "cell_type": "code",
   "execution_count": 42,
   "id": "346d2333",
   "metadata": {},
   "outputs": [
    {
     "name": "stdout",
     "output_type": "stream",
     "text": [
      "[[ 1  2  3 11 12 13 21 22 23]\n",
      " [ 4  5  6 14 15 16 24 25 26]\n",
      " [ 7  8  9 17 18 19 27 28 29]]\n"
     ]
    }
   ],
   "source": [
    "print(np.hstack((a,b,c)))"
   ]
  },
  {
   "cell_type": "code",
   "execution_count": 44,
   "id": "a0442d46-bff4-4b28-b7ff-65ddffd05292",
   "metadata": {},
   "outputs": [
    {
     "name": "stdout",
     "output_type": "stream",
     "text": [
      "[[ 1  2  3]\n",
      " [ 4  5  6]\n",
      " [ 7  8  9]\n",
      " [11 12 13]\n",
      " [14 15 16]\n",
      " [17 18 19]\n",
      " [21 22 23]\n",
      " [24 25 26]\n",
      " [27 28 29]]\n"
     ]
    }
   ],
   "source": [
    "print(np.vstack((a,b,c)))"
   ]
  },
  {
   "cell_type": "markdown",
   "id": "2d8638be",
   "metadata": {},
   "source": [
    "## Q10. 아래와 같이 넘파이 배열을 생성한 후 50보다 큰 숫자만 필터링하여라. \n",
    "\n",
    "```\n",
    "arr = np.random.choice(100, 40, replace=False)\n",
    "\n",
    "Before => \n",
    "\n",
    "[40, 63,  8,  2, 35, 84, 72, 48, 78, 86, 87, 58,  0, 49, 14, 55, 11,\n",
    "       73, 39, 26, 75, 27, 99, 46, 25, 22, 34, 83, 24, 47, 31, 57, 62, 19,\n",
    "       36, 15, 17, 10, 98, 90]\n",
    "\n",
    "After =>\n",
    "\n",
    "[63, 84, 72, 78, 86, 87, 58, 55, 73, 75, 99, 83, 57, 62, 98, 90]\n",
    "\n",
    "```"
   ]
  },
  {
   "cell_type": "code",
   "execution_count": 68,
   "id": "03c22039-7e21-48fd-9cba-bec220da6ee2",
   "metadata": {},
   "outputs": [
    {
     "name": "stdout",
     "output_type": "stream",
     "text": [
      "[25 52 87 46 76 99 28 42 86 24 96 26 58  0 61 33 48 27 60 77 70 81 30 39\n",
      " 88 97 95  5 35 64 98  4  9 79  2 94 38 74 91 67]\n",
      "[52 87 76 99 86 96 58 61 60 77 70 81 88 97 95 64 98 79 94 74 91 67]\n",
      "[52 87 76 99 86 96 58 61 60 77 70 81 88 97 95 64 98 79 94 74 91 67]\n"
     ]
    }
   ],
   "source": [
    "# 중복없이, 100까지 숫자중 40개를 추출가능, randint는 중복생김\n",
    "a = np.random.choice(100,40, replace=False)\n",
    "print(a)\n",
    "# 50보다 큰 숫자만 필터링\n",
    "b = a[np.where(a>50)]\n",
    "print(b)\n",
    "c = a[a>50]\n",
    "print(c)"
   ]
  },
  {
   "cell_type": "markdown",
   "id": "249ef810",
   "metadata": {},
   "source": [
    "## Quiz11. 종합\n",
    "```\n",
    "kor = np.array( [60,55,70,30,20,90])\n",
    "1. 국어점수가 가장큰값을 구하여라\n",
    "2. 국어점수가 80점이상인 값을 구하여라\n",
    "3. 국어 점수가 50점이상 80점 이하인 값을 구하여라\n",
    "4. 국어점수의 평균을 구하여라\n",
    "5. 국어점수의 총합을 구하여라.\n",
    "6. 국어점수가 40점이하인 데이터를 삭제하여라\n",
    "7. 국어점수가 50점이상인 데이터에 가산점 10%를 부여하여라\n",
    "8. 국어점수 top 3를 구하여라\n",
    "9. 국어점수가 70점이상이면 '합격' , 아니면 '불합격'으로 출력하라\n",
    "```"
   ]
  },
  {
   "cell_type": "code",
   "execution_count": 15,
   "id": "f687ef7c-4da0-4839-bfff-f2baf4879093",
   "metadata": {
    "ExecuteTime": {
     "end_time": "2021-11-24T02:33:52.238430Z",
     "start_time": "2021-11-24T02:33:52.227460Z"
    }
   },
   "outputs": [],
   "source": [
    "kor = np.array( [60,55,70,30,20,90])"
   ]
  },
  {
   "cell_type": "code",
   "execution_count": 16,
   "id": "9dc86b8d-6bae-45e1-b4ea-0861802b8537",
   "metadata": {
    "ExecuteTime": {
     "end_time": "2021-11-24T02:34:53.359039Z",
     "start_time": "2021-11-24T02:34:53.339106Z"
    }
   },
   "outputs": [
    {
     "data": {
      "text/plain": [
       "90"
      ]
     },
     "execution_count": 16,
     "metadata": {},
     "output_type": "execute_result"
    }
   ],
   "source": [
    "# 국어 점수가 가장 큰값\n",
    "max(kor)"
   ]
  },
  {
   "cell_type": "code",
   "execution_count": 17,
   "id": "c592a269-4fa5-4b02-b83e-2da40fe23907",
   "metadata": {
    "ExecuteTime": {
     "end_time": "2021-11-24T02:37:02.636995Z",
     "start_time": "2021-11-24T02:37:02.618045Z"
    }
   },
   "outputs": [
    {
     "data": {
      "text/plain": [
       "array([90])"
      ]
     },
     "execution_count": 17,
     "metadata": {},
     "output_type": "execute_result"
    }
   ],
   "source": [
    "# 국어점수가 80점이상인 값을 구하여라\n",
    "kor[(kor>=80)]"
   ]
  },
  {
   "cell_type": "code",
   "execution_count": 18,
   "id": "74053d31-5ee6-4769-90c0-f5a312817c1f",
   "metadata": {
    "ExecuteTime": {
     "end_time": "2021-11-24T02:37:21.108369Z",
     "start_time": "2021-11-24T02:37:21.098396Z"
    }
   },
   "outputs": [
    {
     "data": {
      "text/plain": [
       "array([60, 55, 70])"
      ]
     },
     "execution_count": 18,
     "metadata": {},
     "output_type": "execute_result"
    }
   ],
   "source": [
    "#  국어 점수가 50점이상 80점 이하인 값을 구하여라\n",
    "kor[(kor>= 50) & (kor <=80)]"
   ]
  },
  {
   "cell_type": "code",
   "execution_count": 19,
   "id": "6ff5d373-eaf9-49de-9601-6164c57430e8",
   "metadata": {
    "ExecuteTime": {
     "end_time": "2021-11-24T04:18:29.200637Z",
     "start_time": "2021-11-24T04:18:29.187672Z"
    }
   },
   "outputs": [
    {
     "data": {
      "text/plain": [
       "(54.166666666666664, 54.167)"
      ]
     },
     "execution_count": 19,
     "metadata": {},
     "output_type": "execute_result"
    }
   ],
   "source": [
    "# 국어점수의 평균을 구하여라\n",
    "np.average(kor), round(kor.mean(),3)"
   ]
  },
  {
   "cell_type": "code",
   "execution_count": 20,
   "id": "d315d1ca-4ae4-404e-afd9-836d86154d11",
   "metadata": {
    "ExecuteTime": {
     "end_time": "2021-11-24T02:38:01.791001Z",
     "start_time": "2021-11-24T02:38:01.783024Z"
    },
    "scrolled": true
   },
   "outputs": [
    {
     "data": {
      "text/plain": [
       "325"
      ]
     },
     "execution_count": 20,
     "metadata": {},
     "output_type": "execute_result"
    }
   ],
   "source": [
    "# 국어점수의 총합을 구하여라.\n",
    "np.sum(kor)"
   ]
  },
  {
   "cell_type": "code",
   "execution_count": 22,
   "id": "13650b0b-007b-4029-ae7f-cb466a30ccaf",
   "metadata": {
    "ExecuteTime": {
     "end_time": "2021-11-24T04:19:34.284000Z",
     "start_time": "2021-11-24T04:19:34.270051Z"
    }
   },
   "outputs": [
    {
     "data": {
      "text/plain": [
       "(array([60, 55, 70, 30, 20, 90]), array([30, 20]), array([60, 55, 70, 90]))"
      ]
     },
     "execution_count": 22,
     "metadata": {},
     "output_type": "execute_result"
    }
   ],
   "source": [
    "# 국어점수가 40점이하인 데이터를 삭제하여라\n",
    "import copy\n",
    "kor1 = kor.copy()\n",
    "num = kor[kor<=40]\n",
    "kor1, num, np.delete(kor1, np.where(kor<=40))"
   ]
  },
  {
   "cell_type": "code",
   "execution_count": 23,
   "id": "55f33212-3a16-4bdf-b75a-c4027f35b1c7",
   "metadata": {
    "ExecuteTime": {
     "end_time": "2021-11-24T04:20:29.720042Z",
     "start_time": "2021-11-24T04:20:29.705082Z"
    }
   },
   "outputs": [
    {
     "data": {
      "text/plain": [
       "array([66. , 60.5, 77. , 30. , 20. , 99. ])"
      ]
     },
     "execution_count": 23,
     "metadata": {},
     "output_type": "execute_result"
    }
   ],
   "source": [
    "# 국어점수가 50점이상인 데이터에 가산점 10%를 부여하여라\n",
    "np.where(kor>=50, kor*1.1, kor )"
   ]
  },
  {
   "cell_type": "code",
   "execution_count": 24,
   "id": "5c2169fb-39da-450a-884d-51bc50428a39",
   "metadata": {},
   "outputs": [
    {
     "data": {
      "text/plain": [
       "array([20, 30, 55, 60, 70, 90])"
      ]
     },
     "execution_count": 24,
     "metadata": {},
     "output_type": "execute_result"
    }
   ],
   "source": [
    "# 국어점수 top 3를 구하여라\n",
    "np.sort(kor)"
   ]
  },
  {
   "cell_type": "code",
   "execution_count": 26,
   "id": "947a4647-1b8f-46d8-8547-32e51b478a05",
   "metadata": {},
   "outputs": [
    {
     "data": {
      "text/plain": [
       "array([90, 70, 60, 55, 30, 20])"
      ]
     },
     "execution_count": 26,
     "metadata": {},
     "output_type": "execute_result"
    }
   ],
   "source": [
    "np.sort(kor)[::-1]"
   ]
  },
  {
   "cell_type": "code",
   "execution_count": 27,
   "id": "2aeb822b-7f6c-498e-b0f6-ec9cb279d3ba",
   "metadata": {},
   "outputs": [
    {
     "data": {
      "text/plain": [
       "array([5, 2, 0], dtype=int64)"
      ]
     },
     "execution_count": 27,
     "metadata": {},
     "output_type": "execute_result"
    }
   ],
   "source": [
    "np.argsort(kor)[::-1][:3]"
   ]
  },
  {
   "cell_type": "code",
   "execution_count": 22,
   "id": "53bea385-daca-404a-b49d-83aaec5e7265",
   "metadata": {
    "ExecuteTime": {
     "end_time": "2021-11-24T04:27:03.562255Z",
     "start_time": "2021-11-24T04:27:03.553279Z"
    }
   },
   "outputs": [
    {
     "data": {
      "text/plain": [
       "(array([90, 70, 60]), array([90, 70, 60]))"
      ]
     },
     "execution_count": 22,
     "metadata": {},
     "output_type": "execute_result"
    }
   ],
   "source": [
    "# 국어점수 top 3를 구하여라\n",
    "np.sort(kor)[::-1][:3], kor[np.argsort(kor)[::-1][:3]] # 인덱스값으로 실제 값 출력"
   ]
  },
  {
   "cell_type": "code",
   "execution_count": 28,
   "id": "00b94db0-f268-436a-a523-d1284a8b1b20",
   "metadata": {
    "ExecuteTime": {
     "end_time": "2021-11-24T04:29:56.679622Z",
     "start_time": "2021-11-24T04:29:56.669649Z"
    }
   },
   "outputs": [
    {
     "data": {
      "text/plain": [
       "(array([60, 55, 70, 30, 20, 90]),\n",
       " array(['불합격', '불합격', '합격', '불합격', '불합격', '합격'], dtype='<U3'))"
      ]
     },
     "execution_count": 28,
     "metadata": {},
     "output_type": "execute_result"
    }
   ],
   "source": [
    "# 국어점수가 70점이상이면 '합격' , 아니면 '불합격으로' 아래와 같이 출력하시요\n",
    "kor, np.where(kor>=70, \"합격\", \"불합격\")"
   ]
  }
 ],
 "metadata": {
  "kernelspec": {
   "display_name": "Python 3 (ipykernel)",
   "language": "python",
   "name": "python3"
  },
  "language_info": {
   "codemirror_mode": {
    "name": "ipython",
    "version": 3
   },
   "file_extension": ".py",
   "mimetype": "text/x-python",
   "name": "python",
   "nbconvert_exporter": "python",
   "pygments_lexer": "ipython3",
   "version": "3.9.6"
  },
  "toc": {
   "base_numbering": 1,
   "nav_menu": {},
   "number_sections": true,
   "sideBar": true,
   "skip_h1_title": false,
   "title_cell": "Table of Contents",
   "title_sidebar": "Contents",
   "toc_cell": false,
   "toc_position": {
    "height": "calc(100% - 180px)",
    "left": "10px",
    "top": "150px",
    "width": "232px"
   },
   "toc_section_display": true,
   "toc_window_display": true
  },
  "varInspector": {
   "cols": {
    "lenName": 16,
    "lenType": 16,
    "lenVar": 40
   },
   "kernels_config": {
    "python": {
     "delete_cmd_postfix": "",
     "delete_cmd_prefix": "del ",
     "library": "var_list.py",
     "varRefreshCmd": "print(var_dic_list())"
    },
    "r": {
     "delete_cmd_postfix": ") ",
     "delete_cmd_prefix": "rm(",
     "library": "var_list.r",
     "varRefreshCmd": "cat(var_dic_list()) "
    }
   },
   "types_to_exclude": [
    "module",
    "function",
    "builtin_function_or_method",
    "instance",
    "_Feature"
   ],
   "window_display": false
  }
 },
 "nbformat": 4,
 "nbformat_minor": 5
}
