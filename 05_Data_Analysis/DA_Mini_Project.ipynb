{
 "cells": [
  {
   "cell_type": "markdown",
   "id": "f2e12719",
   "metadata": {},
   "source": [
    "# 데이터 분석 미니 프로젝트"
   ]
  },
  {
   "cell_type": "markdown",
   "id": "9d8c5b71",
   "metadata": {},
   "source": [
    "## 요구사항 명세"
   ]
  },
  {
   "cell_type": "markdown",
   "id": "27d61ddc",
   "metadata": {},
   "source": [
    "* 온라인 학습 플랫폼 사용자 행동 패턴 분석\n",
    "    * 유저들의 학습 습관\n",
    "    * 학습 선호도\n",
    "    * 이용 형태"
   ]
  },
  {
   "cell_type": "markdown",
   "id": "859bd60d",
   "metadata": {},
   "source": [
    "## 데이터 형태"
   ]
  },
  {
   "cell_type": "markdown",
   "id": "bd424b44",
   "metadata": {},
   "source": [
    "* 데이터셋 : mini.csv\n",
    "    * 메타데이터\n",
    "        * user_id: 사용자의 고유 식별자\n",
    "        * subscription_duration: 사용자가 서비스에 가입한 기간 (월)\n",
    "        * recent_login_time: 사용자가 마지막으로 로그인한 시간 (일)\n",
    "        * average_login_time:  사용자의 일반적인 로그인 시간\n",
    "        * average_time_per_learning_session: 각 학습 세션에 소요된 평균 시간 (분)\n",
    "        * monthly_active_learning_days: 월간 활동적인 학습 일수\n",
    "        * total_completed_courses: 완료한 총 코스 수\n",
    "        * recent_learning_achievement: 최근 학습 성취도\n",
    "        * abandoned_learning_sessions: 중단된 학습 세션 수\n",
    "        * community_engagement_level: 커뮤니티 참여도\n",
    "        * preferred_difficulty_level: 선호하는 난이도\n",
    "        * subscription_type: 구독 유형\n",
    "        * customer_inquiry_history: 고객 문의 이력\n",
    "        * payment_pattern : 사용자의 지난 3개월 간의 결제 패턴을 10진수로 표현한 값.\n",
    "          - 7: 3개월 모두 결제함\n",
    "          - 6: 첫 2개월은 결제했으나 마지막 달에는 결제하지 않음\n",
    "          - 5: 첫 달과 마지막 달에 결제함\n",
    "          - 4: 첫 달에만 결제함\n",
    "          - 3: 마지막 2개월에 결제함\n",
    "          - 2: 가운데 달에만 결제함\n",
    "          - 1: 마지막 달에만 결제함\n",
    "          - 0: 3개월 동안 결제하지 않음\n",
    "        * target: 사용자가 다음 달에도 구독을 계속할지 (1) 또는 취소할지 (0)를 나타냄"
   ]
  },
  {
   "cell_type": "markdown",
   "id": "671cc80b",
   "metadata": {},
   "source": [
    "## 데이터를 보고 드는 생각"
   ]
  },
  {
   "cell_type": "markdown",
   "id": "bdb13e2b",
   "metadata": {},
   "source": [
    "### 1) 가입 및 서비스 사용 패턴을 파악해보자\n",
    "* 서비스에 가입한 기간?\n",
    "* 사용자가 마지막으로 로그인한 시간(일)\n",
    "* 사용자의 일반적인 로그인 시간\n",
    "* 평균 학습 시간"
   ]
  },
  {
   "cell_type": "markdown",
   "id": "71afa87b",
   "metadata": {},
   "source": [
    "### 2) 학습 패턴을 파악해보자\n",
    "* 완료한 총 코스 수\n",
    "* 최근 학습 성취도\n",
    "* 중단된 학습 세션 수\n",
    "* 선호하는 난이도\n"
   ]
  },
  {
   "cell_type": "markdown",
   "id": "e8e31c84",
   "metadata": {},
   "source": [
    "### 3) 기타 패턴을 파악해보자\n",
    "* 커뮤니티 참여도\n",
    "    * 커뮤니티 참여도와 target의 관계 (커뮤니티 활동이 높을수록 다음달 구독할 확률이 높지 않을까?)\n",
    "* 구독유형\n",
    "    * 구독 유형과 target의 관계 (Premium 구독자일수록 플랫폼에 더 만족한다는 뜻이 아닐까? 다음달 구독 확률이 높지 않을까?)\n",
    "* 고객 문의 이력\n",
    "    * 구매 문의 이력과 target의 관계 (구매 문의를 많이 한다는 것이 긍정적인 시그널일까? 부정적인 시그널일까?)\n",
    "* 결제 패턴\n",
    "    * 연속적으로 결제한 달이 있는 사람은 또 구독할 가능성이 높지 않을까? (target 1인 경우/0인 경우?)\n",
    "    * 두 달 이상 결제한 사람이 구독할 가능성이 높지 않을까? (target 1인 경우/0인 경우?)"
   ]
  },
  {
   "cell_type": "markdown",
   "id": "1a292e2a",
   "metadata": {},
   "source": [
    "## 데이터 로드 및 전처리"
   ]
  },
  {
   "cell_type": "code",
   "execution_count": 1,
   "id": "d3f3248e-d47c-460e-bf22-a982f98694ef",
   "metadata": {},
   "outputs": [],
   "source": [
    "import pandas as pd\n",
    "all_data = pd.read_table('data/mini.csv',sep=',')"
   ]
  },
  {
   "cell_type": "markdown",
   "id": "f8f472c8",
   "metadata": {},
   "source": [
    "### 데이터 살펴보기"
   ]
  },
  {
   "cell_type": "code",
   "execution_count": 2,
   "id": "fc48daa9",
   "metadata": {},
   "outputs": [
    {
     "data": {
      "text/html": [
       "<div>\n",
       "<style scoped>\n",
       "    .dataframe tbody tr th:only-of-type {\n",
       "        vertical-align: middle;\n",
       "    }\n",
       "\n",
       "    .dataframe tbody tr th {\n",
       "        vertical-align: top;\n",
       "    }\n",
       "\n",
       "    .dataframe thead th {\n",
       "        text-align: right;\n",
       "    }\n",
       "</style>\n",
       "<table border=\"1\" class=\"dataframe\">\n",
       "  <thead>\n",
       "    <tr style=\"text-align: right;\">\n",
       "      <th></th>\n",
       "      <th>user_id</th>\n",
       "      <th>subscription_duration</th>\n",
       "      <th>recent_login_time</th>\n",
       "      <th>average_login_time</th>\n",
       "      <th>average_time_per_learning_session</th>\n",
       "      <th>monthly_active_learning_days</th>\n",
       "      <th>total_completed_courses</th>\n",
       "      <th>recent_learning_achievement</th>\n",
       "      <th>abandoned_learning_sessions</th>\n",
       "      <th>community_engagement_level</th>\n",
       "      <th>preferred_difficulty_level</th>\n",
       "      <th>subscription_type</th>\n",
       "      <th>customer_inquiry_history</th>\n",
       "      <th>payment_pattern</th>\n",
       "      <th>target</th>\n",
       "    </tr>\n",
       "  </thead>\n",
       "  <tbody>\n",
       "    <tr>\n",
       "      <th>0</th>\n",
       "      <td>b919c29d</td>\n",
       "      <td>13</td>\n",
       "      <td>14</td>\n",
       "      <td>14.946163</td>\n",
       "      <td>8.427187</td>\n",
       "      <td>18</td>\n",
       "      <td>16</td>\n",
       "      <td>68.360455</td>\n",
       "      <td>3</td>\n",
       "      <td>4</td>\n",
       "      <td>Low</td>\n",
       "      <td>Basic</td>\n",
       "      <td>4</td>\n",
       "      <td>5</td>\n",
       "      <td>0</td>\n",
       "    </tr>\n",
       "    <tr>\n",
       "      <th>1</th>\n",
       "      <td>a0a60abb</td>\n",
       "      <td>16</td>\n",
       "      <td>18</td>\n",
       "      <td>18.453224</td>\n",
       "      <td>72.646087</td>\n",
       "      <td>16</td>\n",
       "      <td>13</td>\n",
       "      <td>97.567322</td>\n",
       "      <td>2</td>\n",
       "      <td>3</td>\n",
       "      <td>Medium</td>\n",
       "      <td>Basic</td>\n",
       "      <td>1</td>\n",
       "      <td>6</td>\n",
       "      <td>1</td>\n",
       "    </tr>\n",
       "    <tr>\n",
       "      <th>2</th>\n",
       "      <td>b9f171ae</td>\n",
       "      <td>22</td>\n",
       "      <td>1</td>\n",
       "      <td>16.195228</td>\n",
       "      <td>21.774492</td>\n",
       "      <td>13</td>\n",
       "      <td>14</td>\n",
       "      <td>94.358763</td>\n",
       "      <td>3</td>\n",
       "      <td>4</td>\n",
       "      <td>Medium</td>\n",
       "      <td>Premium</td>\n",
       "      <td>0</td>\n",
       "      <td>7</td>\n",
       "      <td>1</td>\n",
       "    </tr>\n",
       "    <tr>\n",
       "      <th>3</th>\n",
       "      <td>5dc0ba8b</td>\n",
       "      <td>1</td>\n",
       "      <td>19</td>\n",
       "      <td>17.628656</td>\n",
       "      <td>42.659066</td>\n",
       "      <td>19</td>\n",
       "      <td>18</td>\n",
       "      <td>70.153228</td>\n",
       "      <td>0</td>\n",
       "      <td>3</td>\n",
       "      <td>Low</td>\n",
       "      <td>Basic</td>\n",
       "      <td>1</td>\n",
       "      <td>0</td>\n",
       "      <td>1</td>\n",
       "    </tr>\n",
       "    <tr>\n",
       "      <th>4</th>\n",
       "      <td>65c83654</td>\n",
       "      <td>4</td>\n",
       "      <td>5</td>\n",
       "      <td>21.390656</td>\n",
       "      <td>30.744287</td>\n",
       "      <td>19</td>\n",
       "      <td>10</td>\n",
       "      <td>81.917908</td>\n",
       "      <td>2</td>\n",
       "      <td>4</td>\n",
       "      <td>Medium</td>\n",
       "      <td>Basic</td>\n",
       "      <td>3</td>\n",
       "      <td>0</td>\n",
       "      <td>1</td>\n",
       "    </tr>\n",
       "    <tr>\n",
       "      <th>5</th>\n",
       "      <td>b7586b82</td>\n",
       "      <td>4</td>\n",
       "      <td>4</td>\n",
       "      <td>17.274007</td>\n",
       "      <td>34.034189</td>\n",
       "      <td>21</td>\n",
       "      <td>8</td>\n",
       "      <td>74.371028</td>\n",
       "      <td>2</td>\n",
       "      <td>4</td>\n",
       "      <td>High</td>\n",
       "      <td>Basic</td>\n",
       "      <td>5</td>\n",
       "      <td>7</td>\n",
       "      <td>0</td>\n",
       "    </tr>\n",
       "    <tr>\n",
       "      <th>6</th>\n",
       "      <td>682ca511</td>\n",
       "      <td>8</td>\n",
       "      <td>23</td>\n",
       "      <td>10.629897</td>\n",
       "      <td>116.455949</td>\n",
       "      <td>12</td>\n",
       "      <td>10</td>\n",
       "      <td>58.708390</td>\n",
       "      <td>0</td>\n",
       "      <td>2</td>\n",
       "      <td>Low</td>\n",
       "      <td>Basic</td>\n",
       "      <td>0</td>\n",
       "      <td>6</td>\n",
       "      <td>1</td>\n",
       "    </tr>\n",
       "    <tr>\n",
       "      <th>7</th>\n",
       "      <td>8c948022</td>\n",
       "      <td>10</td>\n",
       "      <td>20</td>\n",
       "      <td>14.751713</td>\n",
       "      <td>67.821393</td>\n",
       "      <td>10</td>\n",
       "      <td>16</td>\n",
       "      <td>88.567777</td>\n",
       "      <td>3</td>\n",
       "      <td>5</td>\n",
       "      <td>Low</td>\n",
       "      <td>Premium</td>\n",
       "      <td>1</td>\n",
       "      <td>1</td>\n",
       "      <td>1</td>\n",
       "    </tr>\n",
       "    <tr>\n",
       "      <th>8</th>\n",
       "      <td>9e6713d2</td>\n",
       "      <td>20</td>\n",
       "      <td>4</td>\n",
       "      <td>12.624582</td>\n",
       "      <td>37.384210</td>\n",
       "      <td>8</td>\n",
       "      <td>8</td>\n",
       "      <td>63.624395</td>\n",
       "      <td>4</td>\n",
       "      <td>4</td>\n",
       "      <td>High</td>\n",
       "      <td>Basic</td>\n",
       "      <td>0</td>\n",
       "      <td>0</td>\n",
       "      <td>1</td>\n",
       "    </tr>\n",
       "    <tr>\n",
       "      <th>9</th>\n",
       "      <td>0eac44aa</td>\n",
       "      <td>22</td>\n",
       "      <td>8</td>\n",
       "      <td>10.545536</td>\n",
       "      <td>18.696273</td>\n",
       "      <td>5</td>\n",
       "      <td>10</td>\n",
       "      <td>57.646992</td>\n",
       "      <td>5</td>\n",
       "      <td>4</td>\n",
       "      <td>Medium</td>\n",
       "      <td>Basic</td>\n",
       "      <td>4</td>\n",
       "      <td>7</td>\n",
       "      <td>1</td>\n",
       "    </tr>\n",
       "  </tbody>\n",
       "</table>\n",
       "</div>"
      ],
      "text/plain": [
       "    user_id  subscription_duration  recent_login_time  average_login_time  \\\n",
       "0  b919c29d                     13                 14           14.946163   \n",
       "1  a0a60abb                     16                 18           18.453224   \n",
       "2  b9f171ae                     22                  1           16.195228   \n",
       "3  5dc0ba8b                      1                 19           17.628656   \n",
       "4  65c83654                      4                  5           21.390656   \n",
       "5  b7586b82                      4                  4           17.274007   \n",
       "6  682ca511                      8                 23           10.629897   \n",
       "7  8c948022                     10                 20           14.751713   \n",
       "8  9e6713d2                     20                  4           12.624582   \n",
       "9  0eac44aa                     22                  8           10.545536   \n",
       "\n",
       "   average_time_per_learning_session  monthly_active_learning_days  \\\n",
       "0                           8.427187                            18   \n",
       "1                          72.646087                            16   \n",
       "2                          21.774492                            13   \n",
       "3                          42.659066                            19   \n",
       "4                          30.744287                            19   \n",
       "5                          34.034189                            21   \n",
       "6                         116.455949                            12   \n",
       "7                          67.821393                            10   \n",
       "8                          37.384210                             8   \n",
       "9                          18.696273                             5   \n",
       "\n",
       "   total_completed_courses  recent_learning_achievement  \\\n",
       "0                       16                    68.360455   \n",
       "1                       13                    97.567322   \n",
       "2                       14                    94.358763   \n",
       "3                       18                    70.153228   \n",
       "4                       10                    81.917908   \n",
       "5                        8                    74.371028   \n",
       "6                       10                    58.708390   \n",
       "7                       16                    88.567777   \n",
       "8                        8                    63.624395   \n",
       "9                       10                    57.646992   \n",
       "\n",
       "   abandoned_learning_sessions  community_engagement_level  \\\n",
       "0                            3                           4   \n",
       "1                            2                           3   \n",
       "2                            3                           4   \n",
       "3                            0                           3   \n",
       "4                            2                           4   \n",
       "5                            2                           4   \n",
       "6                            0                           2   \n",
       "7                            3                           5   \n",
       "8                            4                           4   \n",
       "9                            5                           4   \n",
       "\n",
       "  preferred_difficulty_level subscription_type  customer_inquiry_history  \\\n",
       "0                        Low             Basic                         4   \n",
       "1                     Medium             Basic                         1   \n",
       "2                     Medium           Premium                         0   \n",
       "3                        Low             Basic                         1   \n",
       "4                     Medium             Basic                         3   \n",
       "5                       High             Basic                         5   \n",
       "6                        Low             Basic                         0   \n",
       "7                        Low           Premium                         1   \n",
       "8                       High             Basic                         0   \n",
       "9                     Medium             Basic                         4   \n",
       "\n",
       "   payment_pattern  target  \n",
       "0                5       0  \n",
       "1                6       1  \n",
       "2                7       1  \n",
       "3                0       1  \n",
       "4                0       1  \n",
       "5                7       0  \n",
       "6                6       1  \n",
       "7                1       1  \n",
       "8                0       1  \n",
       "9                7       1  "
      ]
     },
     "execution_count": 2,
     "metadata": {},
     "output_type": "execute_result"
    }
   ],
   "source": [
    "all_data.head(10)"
   ]
  },
  {
   "cell_type": "code",
   "execution_count": 3,
   "id": "a8ffa670",
   "metadata": {},
   "outputs": [
    {
     "name": "stdout",
     "output_type": "stream",
     "text": [
      "<class 'pandas.core.frame.DataFrame'>\n",
      "RangeIndex: 10000 entries, 0 to 9999\n",
      "Data columns (total 15 columns):\n",
      " #   Column                             Non-Null Count  Dtype  \n",
      "---  ------                             --------------  -----  \n",
      " 0   user_id                            10000 non-null  object \n",
      " 1   subscription_duration              10000 non-null  int64  \n",
      " 2   recent_login_time                  10000 non-null  int64  \n",
      " 3   average_login_time                 10000 non-null  float64\n",
      " 4   average_time_per_learning_session  10000 non-null  float64\n",
      " 5   monthly_active_learning_days       10000 non-null  int64  \n",
      " 6   total_completed_courses            10000 non-null  int64  \n",
      " 7   recent_learning_achievement        10000 non-null  float64\n",
      " 8   abandoned_learning_sessions        10000 non-null  int64  \n",
      " 9   community_engagement_level         10000 non-null  int64  \n",
      " 10  preferred_difficulty_level         10000 non-null  object \n",
      " 11  subscription_type                  10000 non-null  object \n",
      " 12  customer_inquiry_history           10000 non-null  int64  \n",
      " 13  payment_pattern                    10000 non-null  int64  \n",
      " 14  target                             10000 non-null  int64  \n",
      "dtypes: float64(3), int64(9), object(3)\n",
      "memory usage: 1.1+ MB\n"
     ]
    }
   ],
   "source": [
    "all_data.info()"
   ]
  },
  {
   "cell_type": "code",
   "execution_count": 4,
   "id": "89e4dfd5",
   "metadata": {},
   "outputs": [
    {
     "data": {
      "text/html": [
       "<div>\n",
       "<style scoped>\n",
       "    .dataframe tbody tr th:only-of-type {\n",
       "        vertical-align: middle;\n",
       "    }\n",
       "\n",
       "    .dataframe tbody tr th {\n",
       "        vertical-align: top;\n",
       "    }\n",
       "\n",
       "    .dataframe thead th {\n",
       "        text-align: right;\n",
       "    }\n",
       "</style>\n",
       "<table border=\"1\" class=\"dataframe\">\n",
       "  <thead>\n",
       "    <tr style=\"text-align: right;\">\n",
       "      <th></th>\n",
       "      <th>user_id</th>\n",
       "      <th>subscription_duration</th>\n",
       "      <th>recent_login_time</th>\n",
       "      <th>average_login_time</th>\n",
       "      <th>average_time_per_learning_session</th>\n",
       "      <th>monthly_active_learning_days</th>\n",
       "      <th>total_completed_courses</th>\n",
       "      <th>recent_learning_achievement</th>\n",
       "      <th>abandoned_learning_sessions</th>\n",
       "      <th>community_engagement_level</th>\n",
       "      <th>preferred_difficulty_level</th>\n",
       "      <th>subscription_type</th>\n",
       "      <th>customer_inquiry_history</th>\n",
       "      <th>payment_pattern</th>\n",
       "      <th>target</th>\n",
       "    </tr>\n",
       "  </thead>\n",
       "  <tbody>\n",
       "    <tr>\n",
       "      <th>count</th>\n",
       "      <td>10000</td>\n",
       "      <td>10000.000000</td>\n",
       "      <td>10000.000000</td>\n",
       "      <td>10000.000000</td>\n",
       "      <td>10000.000000</td>\n",
       "      <td>10000.000000</td>\n",
       "      <td>10000.000000</td>\n",
       "      <td>10000.000000</td>\n",
       "      <td>10000.000000</td>\n",
       "      <td>10000.000000</td>\n",
       "      <td>10000</td>\n",
       "      <td>10000</td>\n",
       "      <td>10000.000000</td>\n",
       "      <td>10000.000000</td>\n",
       "      <td>10000.000000</td>\n",
       "    </tr>\n",
       "    <tr>\n",
       "      <th>unique</th>\n",
       "      <td>10000</td>\n",
       "      <td>NaN</td>\n",
       "      <td>NaN</td>\n",
       "      <td>NaN</td>\n",
       "      <td>NaN</td>\n",
       "      <td>NaN</td>\n",
       "      <td>NaN</td>\n",
       "      <td>NaN</td>\n",
       "      <td>NaN</td>\n",
       "      <td>NaN</td>\n",
       "      <td>3</td>\n",
       "      <td>2</td>\n",
       "      <td>NaN</td>\n",
       "      <td>NaN</td>\n",
       "      <td>NaN</td>\n",
       "    </tr>\n",
       "    <tr>\n",
       "      <th>top</th>\n",
       "      <td>b919c29d</td>\n",
       "      <td>NaN</td>\n",
       "      <td>NaN</td>\n",
       "      <td>NaN</td>\n",
       "      <td>NaN</td>\n",
       "      <td>NaN</td>\n",
       "      <td>NaN</td>\n",
       "      <td>NaN</td>\n",
       "      <td>NaN</td>\n",
       "      <td>NaN</td>\n",
       "      <td>Low</td>\n",
       "      <td>Basic</td>\n",
       "      <td>NaN</td>\n",
       "      <td>NaN</td>\n",
       "      <td>NaN</td>\n",
       "    </tr>\n",
       "    <tr>\n",
       "      <th>freq</th>\n",
       "      <td>1</td>\n",
       "      <td>NaN</td>\n",
       "      <td>NaN</td>\n",
       "      <td>NaN</td>\n",
       "      <td>NaN</td>\n",
       "      <td>NaN</td>\n",
       "      <td>NaN</td>\n",
       "      <td>NaN</td>\n",
       "      <td>NaN</td>\n",
       "      <td>NaN</td>\n",
       "      <td>4992</td>\n",
       "      <td>5979</td>\n",
       "      <td>NaN</td>\n",
       "      <td>NaN</td>\n",
       "      <td>NaN</td>\n",
       "    </tr>\n",
       "    <tr>\n",
       "      <th>mean</th>\n",
       "      <td>NaN</td>\n",
       "      <td>11.897400</td>\n",
       "      <td>15.013200</td>\n",
       "      <td>14.994076</td>\n",
       "      <td>54.917720</td>\n",
       "      <td>12.545400</td>\n",
       "      <td>12.227500</td>\n",
       "      <td>75.029513</td>\n",
       "      <td>3.043600</td>\n",
       "      <td>3.886100</td>\n",
       "      <td>NaN</td>\n",
       "      <td>NaN</td>\n",
       "      <td>2.010500</td>\n",
       "      <td>3.502900</td>\n",
       "      <td>0.619900</td>\n",
       "    </tr>\n",
       "    <tr>\n",
       "      <th>std</th>\n",
       "      <td>NaN</td>\n",
       "      <td>6.600896</td>\n",
       "      <td>8.362573</td>\n",
       "      <td>3.001869</td>\n",
       "      <td>56.024310</td>\n",
       "      <td>6.932239</td>\n",
       "      <td>3.634125</td>\n",
       "      <td>9.968529</td>\n",
       "      <td>1.755052</td>\n",
       "      <td>1.262175</td>\n",
       "      <td>NaN</td>\n",
       "      <td>NaN</td>\n",
       "      <td>1.420983</td>\n",
       "      <td>2.311261</td>\n",
       "      <td>0.485435</td>\n",
       "    </tr>\n",
       "    <tr>\n",
       "      <th>min</th>\n",
       "      <td>NaN</td>\n",
       "      <td>1.000000</td>\n",
       "      <td>1.000000</td>\n",
       "      <td>2.366189</td>\n",
       "      <td>0.011515</td>\n",
       "      <td>1.000000</td>\n",
       "      <td>1.000000</td>\n",
       "      <td>35.941755</td>\n",
       "      <td>0.000000</td>\n",
       "      <td>1.000000</td>\n",
       "      <td>NaN</td>\n",
       "      <td>NaN</td>\n",
       "      <td>0.000000</td>\n",
       "      <td>0.000000</td>\n",
       "      <td>0.000000</td>\n",
       "    </tr>\n",
       "    <tr>\n",
       "      <th>25%</th>\n",
       "      <td>NaN</td>\n",
       "      <td>6.000000</td>\n",
       "      <td>8.000000</td>\n",
       "      <td>13.025597</td>\n",
       "      <td>15.276611</td>\n",
       "      <td>7.000000</td>\n",
       "      <td>10.000000</td>\n",
       "      <td>68.278054</td>\n",
       "      <td>2.000000</td>\n",
       "      <td>3.000000</td>\n",
       "      <td>NaN</td>\n",
       "      <td>NaN</td>\n",
       "      <td>1.000000</td>\n",
       "      <td>1.000000</td>\n",
       "      <td>0.000000</td>\n",
       "    </tr>\n",
       "    <tr>\n",
       "      <th>50%</th>\n",
       "      <td>NaN</td>\n",
       "      <td>12.000000</td>\n",
       "      <td>15.000000</td>\n",
       "      <td>14.979228</td>\n",
       "      <td>37.578818</td>\n",
       "      <td>13.000000</td>\n",
       "      <td>12.000000</td>\n",
       "      <td>75.126061</td>\n",
       "      <td>3.000000</td>\n",
       "      <td>4.000000</td>\n",
       "      <td>NaN</td>\n",
       "      <td>NaN</td>\n",
       "      <td>2.000000</td>\n",
       "      <td>4.000000</td>\n",
       "      <td>1.000000</td>\n",
       "    </tr>\n",
       "    <tr>\n",
       "      <th>75%</th>\n",
       "      <td>NaN</td>\n",
       "      <td>18.000000</td>\n",
       "      <td>22.000000</td>\n",
       "      <td>16.995340</td>\n",
       "      <td>75.584200</td>\n",
       "      <td>19.000000</td>\n",
       "      <td>15.000000</td>\n",
       "      <td>81.718976</td>\n",
       "      <td>4.000000</td>\n",
       "      <td>5.000000</td>\n",
       "      <td>NaN</td>\n",
       "      <td>NaN</td>\n",
       "      <td>3.000000</td>\n",
       "      <td>6.000000</td>\n",
       "      <td>1.000000</td>\n",
       "    </tr>\n",
       "    <tr>\n",
       "      <th>max</th>\n",
       "      <td>NaN</td>\n",
       "      <td>23.000000</td>\n",
       "      <td>29.000000</td>\n",
       "      <td>26.998490</td>\n",
       "      <td>503.372616</td>\n",
       "      <td>24.000000</td>\n",
       "      <td>27.000000</td>\n",
       "      <td>112.643828</td>\n",
       "      <td>12.000000</td>\n",
       "      <td>5.000000</td>\n",
       "      <td>NaN</td>\n",
       "      <td>NaN</td>\n",
       "      <td>10.000000</td>\n",
       "      <td>7.000000</td>\n",
       "      <td>1.000000</td>\n",
       "    </tr>\n",
       "  </tbody>\n",
       "</table>\n",
       "</div>"
      ],
      "text/plain": [
       "         user_id  subscription_duration  recent_login_time  \\\n",
       "count      10000           10000.000000       10000.000000   \n",
       "unique     10000                    NaN                NaN   \n",
       "top     b919c29d                    NaN                NaN   \n",
       "freq           1                    NaN                NaN   \n",
       "mean         NaN              11.897400          15.013200   \n",
       "std          NaN               6.600896           8.362573   \n",
       "min          NaN               1.000000           1.000000   \n",
       "25%          NaN               6.000000           8.000000   \n",
       "50%          NaN              12.000000          15.000000   \n",
       "75%          NaN              18.000000          22.000000   \n",
       "max          NaN              23.000000          29.000000   \n",
       "\n",
       "        average_login_time  average_time_per_learning_session  \\\n",
       "count         10000.000000                       10000.000000   \n",
       "unique                 NaN                                NaN   \n",
       "top                    NaN                                NaN   \n",
       "freq                   NaN                                NaN   \n",
       "mean             14.994076                          54.917720   \n",
       "std               3.001869                          56.024310   \n",
       "min               2.366189                           0.011515   \n",
       "25%              13.025597                          15.276611   \n",
       "50%              14.979228                          37.578818   \n",
       "75%              16.995340                          75.584200   \n",
       "max              26.998490                         503.372616   \n",
       "\n",
       "        monthly_active_learning_days  total_completed_courses  \\\n",
       "count                   10000.000000             10000.000000   \n",
       "unique                           NaN                      NaN   \n",
       "top                              NaN                      NaN   \n",
       "freq                             NaN                      NaN   \n",
       "mean                       12.545400                12.227500   \n",
       "std                         6.932239                 3.634125   \n",
       "min                         1.000000                 1.000000   \n",
       "25%                         7.000000                10.000000   \n",
       "50%                        13.000000                12.000000   \n",
       "75%                        19.000000                15.000000   \n",
       "max                        24.000000                27.000000   \n",
       "\n",
       "        recent_learning_achievement  abandoned_learning_sessions  \\\n",
       "count                  10000.000000                 10000.000000   \n",
       "unique                          NaN                          NaN   \n",
       "top                             NaN                          NaN   \n",
       "freq                            NaN                          NaN   \n",
       "mean                      75.029513                     3.043600   \n",
       "std                        9.968529                     1.755052   \n",
       "min                       35.941755                     0.000000   \n",
       "25%                       68.278054                     2.000000   \n",
       "50%                       75.126061                     3.000000   \n",
       "75%                       81.718976                     4.000000   \n",
       "max                      112.643828                    12.000000   \n",
       "\n",
       "        community_engagement_level preferred_difficulty_level  \\\n",
       "count                 10000.000000                      10000   \n",
       "unique                         NaN                          3   \n",
       "top                            NaN                        Low   \n",
       "freq                           NaN                       4992   \n",
       "mean                      3.886100                        NaN   \n",
       "std                       1.262175                        NaN   \n",
       "min                       1.000000                        NaN   \n",
       "25%                       3.000000                        NaN   \n",
       "50%                       4.000000                        NaN   \n",
       "75%                       5.000000                        NaN   \n",
       "max                       5.000000                        NaN   \n",
       "\n",
       "       subscription_type  customer_inquiry_history  payment_pattern  \\\n",
       "count              10000              10000.000000     10000.000000   \n",
       "unique                 2                       NaN              NaN   \n",
       "top                Basic                       NaN              NaN   \n",
       "freq                5979                       NaN              NaN   \n",
       "mean                 NaN                  2.010500         3.502900   \n",
       "std                  NaN                  1.420983         2.311261   \n",
       "min                  NaN                  0.000000         0.000000   \n",
       "25%                  NaN                  1.000000         1.000000   \n",
       "50%                  NaN                  2.000000         4.000000   \n",
       "75%                  NaN                  3.000000         6.000000   \n",
       "max                  NaN                 10.000000         7.000000   \n",
       "\n",
       "              target  \n",
       "count   10000.000000  \n",
       "unique           NaN  \n",
       "top              NaN  \n",
       "freq             NaN  \n",
       "mean        0.619900  \n",
       "std         0.485435  \n",
       "min         0.000000  \n",
       "25%         0.000000  \n",
       "50%         1.000000  \n",
       "75%         1.000000  \n",
       "max         1.000000  "
      ]
     },
     "execution_count": 4,
     "metadata": {},
     "output_type": "execute_result"
    }
   ],
   "source": [
    "all_data.describe(include='all')"
   ]
  },
  {
   "cell_type": "code",
   "execution_count": 5,
   "id": "8ed124e2",
   "metadata": {},
   "outputs": [
    {
     "name": "stdout",
     "output_type": "stream",
     "text": [
      "['Low' 'Medium' 'High']\n",
      "['Basic' 'Premium']\n"
     ]
    }
   ],
   "source": [
    "print(all_data['preferred_difficulty_level'].unique())\n",
    "print(all_data['subscription_type'].unique())"
   ]
  },
  {
   "cell_type": "markdown",
   "id": "39f25835",
   "metadata": {},
   "source": [
    "### 데이터 해석"
   ]
  },
  {
   "cell_type": "markdown",
   "id": "a1790fa6",
   "metadata": {},
   "source": [
    "* subscription_duration : 1월~12월이 아니라, 총 23개월 가입했다는 의미인듯?\n",
    "* recent_login_time : 지난달 N일에 로그인\n",
    "* average_login_time : 단위가 시간?\n",
    "* average_time_per_learning_session : maxrk 503으로 이상치인듯! 박스플랏 그려볼 것\n",
    "* monthly_active_learning_days: 1~31사이여야함 -> 그러함!\n",
    "* total_completed_courses: 별 다른 이상 없어보임\n",
    "* recent_learning_achievement: 학습 달성도는 1% ~ 100% 가 끝이 아닌가? 112가 있다. 박스플랏 그려볼 것!\n",
    "* abandoned_learning_sessions: 별 다른 이상 없어보임\n",
    "* community_engagement_level: 1~5 수준으로 나타낸듯\n",
    "* preferred_difficulty_level: Low, Medium, High로 나타남 -> 0, 1, 2로 치환\n",
    "* subscription_type은 Basic과 Premium -> 0, 1로 치환\n",
    "* customer_inquiry_history: 별 다른 이상 없어보임\n",
    "* payment_pattern : 사용자의 지난 3개월 간의 결제 패턴을 10진수로 표현한 값\n",
    "* target: 어떤 기준으로 1, 0이 된건지 도저히 알 수 없음! 그냥 자동 결제 시스템 등록했으면 1인가?!"
   ]
  },
  {
   "cell_type": "markdown",
   "id": "34cafe81",
   "metadata": {},
   "source": [
    "### 데이터 치환"
   ]
  },
  {
   "cell_type": "code",
   "execution_count": 6,
   "id": "5083dc1f",
   "metadata": {},
   "outputs": [
    {
     "name": "stderr",
     "output_type": "stream",
     "text": [
      "/var/folders/5n/kjkw6sh12dx20bbd340zn1pr0000gn/T/ipykernel_36211/3165905919.py:1: FutureWarning: Downcasting behavior in `replace` is deprecated and will be removed in a future version. To retain the old behavior, explicitly call `result.infer_objects(copy=False)`. To opt-in to the future behavior, set `pd.set_option('future.no_silent_downcasting', True)`\n",
      "  all_data['preferred_difficulty_level']=all_data['preferred_difficulty_level'].replace({'Low':0,'Medium':1,'High':2})\n",
      "/var/folders/5n/kjkw6sh12dx20bbd340zn1pr0000gn/T/ipykernel_36211/3165905919.py:2: FutureWarning: Downcasting behavior in `replace` is deprecated and will be removed in a future version. To retain the old behavior, explicitly call `result.infer_objects(copy=False)`. To opt-in to the future behavior, set `pd.set_option('future.no_silent_downcasting', True)`\n",
      "  all_data['subscription_type']=all_data['subscription_type'].replace({'Basic':0,'Premium':1})\n"
     ]
    }
   ],
   "source": [
    "all_data['preferred_difficulty_level']=all_data['preferred_difficulty_level'].replace({'Low':0,'Medium':1,'High':2})\n",
    "all_data['subscription_type']=all_data['subscription_type'].replace({'Basic':0,'Premium':1})"
   ]
  },
  {
   "cell_type": "code",
   "execution_count": 7,
   "id": "5e0c0215",
   "metadata": {},
   "outputs": [
    {
     "data": {
      "text/html": [
       "<div>\n",
       "<style scoped>\n",
       "    .dataframe tbody tr th:only-of-type {\n",
       "        vertical-align: middle;\n",
       "    }\n",
       "\n",
       "    .dataframe tbody tr th {\n",
       "        vertical-align: top;\n",
       "    }\n",
       "\n",
       "    .dataframe thead th {\n",
       "        text-align: right;\n",
       "    }\n",
       "</style>\n",
       "<table border=\"1\" class=\"dataframe\">\n",
       "  <thead>\n",
       "    <tr style=\"text-align: right;\">\n",
       "      <th></th>\n",
       "      <th>user_id</th>\n",
       "      <th>subscription_duration</th>\n",
       "      <th>recent_login_time</th>\n",
       "      <th>average_login_time</th>\n",
       "      <th>average_time_per_learning_session</th>\n",
       "      <th>monthly_active_learning_days</th>\n",
       "      <th>total_completed_courses</th>\n",
       "      <th>recent_learning_achievement</th>\n",
       "      <th>abandoned_learning_sessions</th>\n",
       "      <th>community_engagement_level</th>\n",
       "      <th>preferred_difficulty_level</th>\n",
       "      <th>subscription_type</th>\n",
       "      <th>customer_inquiry_history</th>\n",
       "      <th>payment_pattern</th>\n",
       "      <th>target</th>\n",
       "    </tr>\n",
       "  </thead>\n",
       "  <tbody>\n",
       "    <tr>\n",
       "      <th>0</th>\n",
       "      <td>b919c29d</td>\n",
       "      <td>13</td>\n",
       "      <td>14</td>\n",
       "      <td>14.946163</td>\n",
       "      <td>8.427187</td>\n",
       "      <td>18</td>\n",
       "      <td>16</td>\n",
       "      <td>68.360455</td>\n",
       "      <td>3</td>\n",
       "      <td>4</td>\n",
       "      <td>0</td>\n",
       "      <td>0</td>\n",
       "      <td>4</td>\n",
       "      <td>5</td>\n",
       "      <td>0</td>\n",
       "    </tr>\n",
       "    <tr>\n",
       "      <th>1</th>\n",
       "      <td>a0a60abb</td>\n",
       "      <td>16</td>\n",
       "      <td>18</td>\n",
       "      <td>18.453224</td>\n",
       "      <td>72.646087</td>\n",
       "      <td>16</td>\n",
       "      <td>13</td>\n",
       "      <td>97.567322</td>\n",
       "      <td>2</td>\n",
       "      <td>3</td>\n",
       "      <td>1</td>\n",
       "      <td>0</td>\n",
       "      <td>1</td>\n",
       "      <td>6</td>\n",
       "      <td>1</td>\n",
       "    </tr>\n",
       "    <tr>\n",
       "      <th>2</th>\n",
       "      <td>b9f171ae</td>\n",
       "      <td>22</td>\n",
       "      <td>1</td>\n",
       "      <td>16.195228</td>\n",
       "      <td>21.774492</td>\n",
       "      <td>13</td>\n",
       "      <td>14</td>\n",
       "      <td>94.358763</td>\n",
       "      <td>3</td>\n",
       "      <td>4</td>\n",
       "      <td>1</td>\n",
       "      <td>1</td>\n",
       "      <td>0</td>\n",
       "      <td>7</td>\n",
       "      <td>1</td>\n",
       "    </tr>\n",
       "    <tr>\n",
       "      <th>3</th>\n",
       "      <td>5dc0ba8b</td>\n",
       "      <td>1</td>\n",
       "      <td>19</td>\n",
       "      <td>17.628656</td>\n",
       "      <td>42.659066</td>\n",
       "      <td>19</td>\n",
       "      <td>18</td>\n",
       "      <td>70.153228</td>\n",
       "      <td>0</td>\n",
       "      <td>3</td>\n",
       "      <td>0</td>\n",
       "      <td>0</td>\n",
       "      <td>1</td>\n",
       "      <td>0</td>\n",
       "      <td>1</td>\n",
       "    </tr>\n",
       "    <tr>\n",
       "      <th>4</th>\n",
       "      <td>65c83654</td>\n",
       "      <td>4</td>\n",
       "      <td>5</td>\n",
       "      <td>21.390656</td>\n",
       "      <td>30.744287</td>\n",
       "      <td>19</td>\n",
       "      <td>10</td>\n",
       "      <td>81.917908</td>\n",
       "      <td>2</td>\n",
       "      <td>4</td>\n",
       "      <td>1</td>\n",
       "      <td>0</td>\n",
       "      <td>3</td>\n",
       "      <td>0</td>\n",
       "      <td>1</td>\n",
       "    </tr>\n",
       "    <tr>\n",
       "      <th>5</th>\n",
       "      <td>b7586b82</td>\n",
       "      <td>4</td>\n",
       "      <td>4</td>\n",
       "      <td>17.274007</td>\n",
       "      <td>34.034189</td>\n",
       "      <td>21</td>\n",
       "      <td>8</td>\n",
       "      <td>74.371028</td>\n",
       "      <td>2</td>\n",
       "      <td>4</td>\n",
       "      <td>2</td>\n",
       "      <td>0</td>\n",
       "      <td>5</td>\n",
       "      <td>7</td>\n",
       "      <td>0</td>\n",
       "    </tr>\n",
       "    <tr>\n",
       "      <th>6</th>\n",
       "      <td>682ca511</td>\n",
       "      <td>8</td>\n",
       "      <td>23</td>\n",
       "      <td>10.629897</td>\n",
       "      <td>116.455949</td>\n",
       "      <td>12</td>\n",
       "      <td>10</td>\n",
       "      <td>58.708390</td>\n",
       "      <td>0</td>\n",
       "      <td>2</td>\n",
       "      <td>0</td>\n",
       "      <td>0</td>\n",
       "      <td>0</td>\n",
       "      <td>6</td>\n",
       "      <td>1</td>\n",
       "    </tr>\n",
       "    <tr>\n",
       "      <th>7</th>\n",
       "      <td>8c948022</td>\n",
       "      <td>10</td>\n",
       "      <td>20</td>\n",
       "      <td>14.751713</td>\n",
       "      <td>67.821393</td>\n",
       "      <td>10</td>\n",
       "      <td>16</td>\n",
       "      <td>88.567777</td>\n",
       "      <td>3</td>\n",
       "      <td>5</td>\n",
       "      <td>0</td>\n",
       "      <td>1</td>\n",
       "      <td>1</td>\n",
       "      <td>1</td>\n",
       "      <td>1</td>\n",
       "    </tr>\n",
       "    <tr>\n",
       "      <th>8</th>\n",
       "      <td>9e6713d2</td>\n",
       "      <td>20</td>\n",
       "      <td>4</td>\n",
       "      <td>12.624582</td>\n",
       "      <td>37.384210</td>\n",
       "      <td>8</td>\n",
       "      <td>8</td>\n",
       "      <td>63.624395</td>\n",
       "      <td>4</td>\n",
       "      <td>4</td>\n",
       "      <td>2</td>\n",
       "      <td>0</td>\n",
       "      <td>0</td>\n",
       "      <td>0</td>\n",
       "      <td>1</td>\n",
       "    </tr>\n",
       "    <tr>\n",
       "      <th>9</th>\n",
       "      <td>0eac44aa</td>\n",
       "      <td>22</td>\n",
       "      <td>8</td>\n",
       "      <td>10.545536</td>\n",
       "      <td>18.696273</td>\n",
       "      <td>5</td>\n",
       "      <td>10</td>\n",
       "      <td>57.646992</td>\n",
       "      <td>5</td>\n",
       "      <td>4</td>\n",
       "      <td>1</td>\n",
       "      <td>0</td>\n",
       "      <td>4</td>\n",
       "      <td>7</td>\n",
       "      <td>1</td>\n",
       "    </tr>\n",
       "  </tbody>\n",
       "</table>\n",
       "</div>"
      ],
      "text/plain": [
       "    user_id  subscription_duration  recent_login_time  average_login_time  \\\n",
       "0  b919c29d                     13                 14           14.946163   \n",
       "1  a0a60abb                     16                 18           18.453224   \n",
       "2  b9f171ae                     22                  1           16.195228   \n",
       "3  5dc0ba8b                      1                 19           17.628656   \n",
       "4  65c83654                      4                  5           21.390656   \n",
       "5  b7586b82                      4                  4           17.274007   \n",
       "6  682ca511                      8                 23           10.629897   \n",
       "7  8c948022                     10                 20           14.751713   \n",
       "8  9e6713d2                     20                  4           12.624582   \n",
       "9  0eac44aa                     22                  8           10.545536   \n",
       "\n",
       "   average_time_per_learning_session  monthly_active_learning_days  \\\n",
       "0                           8.427187                            18   \n",
       "1                          72.646087                            16   \n",
       "2                          21.774492                            13   \n",
       "3                          42.659066                            19   \n",
       "4                          30.744287                            19   \n",
       "5                          34.034189                            21   \n",
       "6                         116.455949                            12   \n",
       "7                          67.821393                            10   \n",
       "8                          37.384210                             8   \n",
       "9                          18.696273                             5   \n",
       "\n",
       "   total_completed_courses  recent_learning_achievement  \\\n",
       "0                       16                    68.360455   \n",
       "1                       13                    97.567322   \n",
       "2                       14                    94.358763   \n",
       "3                       18                    70.153228   \n",
       "4                       10                    81.917908   \n",
       "5                        8                    74.371028   \n",
       "6                       10                    58.708390   \n",
       "7                       16                    88.567777   \n",
       "8                        8                    63.624395   \n",
       "9                       10                    57.646992   \n",
       "\n",
       "   abandoned_learning_sessions  community_engagement_level  \\\n",
       "0                            3                           4   \n",
       "1                            2                           3   \n",
       "2                            3                           4   \n",
       "3                            0                           3   \n",
       "4                            2                           4   \n",
       "5                            2                           4   \n",
       "6                            0                           2   \n",
       "7                            3                           5   \n",
       "8                            4                           4   \n",
       "9                            5                           4   \n",
       "\n",
       "   preferred_difficulty_level  subscription_type  customer_inquiry_history  \\\n",
       "0                           0                  0                         4   \n",
       "1                           1                  0                         1   \n",
       "2                           1                  1                         0   \n",
       "3                           0                  0                         1   \n",
       "4                           1                  0                         3   \n",
       "5                           2                  0                         5   \n",
       "6                           0                  0                         0   \n",
       "7                           0                  1                         1   \n",
       "8                           2                  0                         0   \n",
       "9                           1                  0                         4   \n",
       "\n",
       "   payment_pattern  target  \n",
       "0                5       0  \n",
       "1                6       1  \n",
       "2                7       1  \n",
       "3                0       1  \n",
       "4                0       1  \n",
       "5                7       0  \n",
       "6                6       1  \n",
       "7                1       1  \n",
       "8                0       1  \n",
       "9                7       1  "
      ]
     },
     "execution_count": 7,
     "metadata": {},
     "output_type": "execute_result"
    }
   ],
   "source": [
    "all_data.head(10)"
   ]
  },
  {
   "cell_type": "code",
   "execution_count": 8,
   "id": "8bec3a68",
   "metadata": {},
   "outputs": [
    {
     "data": {
      "text/html": [
       "<div>\n",
       "<style scoped>\n",
       "    .dataframe tbody tr th:only-of-type {\n",
       "        vertical-align: middle;\n",
       "    }\n",
       "\n",
       "    .dataframe tbody tr th {\n",
       "        vertical-align: top;\n",
       "    }\n",
       "\n",
       "    .dataframe thead th {\n",
       "        text-align: right;\n",
       "    }\n",
       "</style>\n",
       "<table border=\"1\" class=\"dataframe\">\n",
       "  <thead>\n",
       "    <tr style=\"text-align: right;\">\n",
       "      <th></th>\n",
       "      <th>subscription_duration</th>\n",
       "      <th>recent_login_time</th>\n",
       "      <th>average_login_time</th>\n",
       "      <th>average_time_per_learning_session</th>\n",
       "      <th>monthly_active_learning_days</th>\n",
       "      <th>total_completed_courses</th>\n",
       "      <th>recent_learning_achievement</th>\n",
       "      <th>abandoned_learning_sessions</th>\n",
       "      <th>community_engagement_level</th>\n",
       "      <th>preferred_difficulty_level</th>\n",
       "      <th>subscription_type</th>\n",
       "      <th>customer_inquiry_history</th>\n",
       "      <th>payment_pattern</th>\n",
       "      <th>target</th>\n",
       "    </tr>\n",
       "  </thead>\n",
       "  <tbody>\n",
       "    <tr>\n",
       "      <th>count</th>\n",
       "      <td>10000.000000</td>\n",
       "      <td>10000.000000</td>\n",
       "      <td>10000.000000</td>\n",
       "      <td>10000.000000</td>\n",
       "      <td>10000.000000</td>\n",
       "      <td>10000.000000</td>\n",
       "      <td>10000.000000</td>\n",
       "      <td>10000.000000</td>\n",
       "      <td>10000.000000</td>\n",
       "      <td>10000.000000</td>\n",
       "      <td>10000.000000</td>\n",
       "      <td>10000.000000</td>\n",
       "      <td>10000.000000</td>\n",
       "      <td>10000.000000</td>\n",
       "    </tr>\n",
       "    <tr>\n",
       "      <th>mean</th>\n",
       "      <td>11.897400</td>\n",
       "      <td>15.013200</td>\n",
       "      <td>14.994076</td>\n",
       "      <td>54.917720</td>\n",
       "      <td>12.545400</td>\n",
       "      <td>12.227500</td>\n",
       "      <td>75.029513</td>\n",
       "      <td>3.043600</td>\n",
       "      <td>3.886100</td>\n",
       "      <td>0.700800</td>\n",
       "      <td>0.402100</td>\n",
       "      <td>2.010500</td>\n",
       "      <td>3.502900</td>\n",
       "      <td>0.619900</td>\n",
       "    </tr>\n",
       "    <tr>\n",
       "      <th>std</th>\n",
       "      <td>6.600896</td>\n",
       "      <td>8.362573</td>\n",
       "      <td>3.001869</td>\n",
       "      <td>56.024310</td>\n",
       "      <td>6.932239</td>\n",
       "      <td>3.634125</td>\n",
       "      <td>9.968529</td>\n",
       "      <td>1.755052</td>\n",
       "      <td>1.262175</td>\n",
       "      <td>0.780859</td>\n",
       "      <td>0.490346</td>\n",
       "      <td>1.420983</td>\n",
       "      <td>2.311261</td>\n",
       "      <td>0.485435</td>\n",
       "    </tr>\n",
       "    <tr>\n",
       "      <th>min</th>\n",
       "      <td>1.000000</td>\n",
       "      <td>1.000000</td>\n",
       "      <td>2.366189</td>\n",
       "      <td>0.011515</td>\n",
       "      <td>1.000000</td>\n",
       "      <td>1.000000</td>\n",
       "      <td>35.941755</td>\n",
       "      <td>0.000000</td>\n",
       "      <td>1.000000</td>\n",
       "      <td>0.000000</td>\n",
       "      <td>0.000000</td>\n",
       "      <td>0.000000</td>\n",
       "      <td>0.000000</td>\n",
       "      <td>0.000000</td>\n",
       "    </tr>\n",
       "    <tr>\n",
       "      <th>25%</th>\n",
       "      <td>6.000000</td>\n",
       "      <td>8.000000</td>\n",
       "      <td>13.025597</td>\n",
       "      <td>15.276611</td>\n",
       "      <td>7.000000</td>\n",
       "      <td>10.000000</td>\n",
       "      <td>68.278054</td>\n",
       "      <td>2.000000</td>\n",
       "      <td>3.000000</td>\n",
       "      <td>0.000000</td>\n",
       "      <td>0.000000</td>\n",
       "      <td>1.000000</td>\n",
       "      <td>1.000000</td>\n",
       "      <td>0.000000</td>\n",
       "    </tr>\n",
       "    <tr>\n",
       "      <th>50%</th>\n",
       "      <td>12.000000</td>\n",
       "      <td>15.000000</td>\n",
       "      <td>14.979228</td>\n",
       "      <td>37.578818</td>\n",
       "      <td>13.000000</td>\n",
       "      <td>12.000000</td>\n",
       "      <td>75.126061</td>\n",
       "      <td>3.000000</td>\n",
       "      <td>4.000000</td>\n",
       "      <td>1.000000</td>\n",
       "      <td>0.000000</td>\n",
       "      <td>2.000000</td>\n",
       "      <td>4.000000</td>\n",
       "      <td>1.000000</td>\n",
       "    </tr>\n",
       "    <tr>\n",
       "      <th>75%</th>\n",
       "      <td>18.000000</td>\n",
       "      <td>22.000000</td>\n",
       "      <td>16.995340</td>\n",
       "      <td>75.584200</td>\n",
       "      <td>19.000000</td>\n",
       "      <td>15.000000</td>\n",
       "      <td>81.718976</td>\n",
       "      <td>4.000000</td>\n",
       "      <td>5.000000</td>\n",
       "      <td>1.000000</td>\n",
       "      <td>1.000000</td>\n",
       "      <td>3.000000</td>\n",
       "      <td>6.000000</td>\n",
       "      <td>1.000000</td>\n",
       "    </tr>\n",
       "    <tr>\n",
       "      <th>max</th>\n",
       "      <td>23.000000</td>\n",
       "      <td>29.000000</td>\n",
       "      <td>26.998490</td>\n",
       "      <td>503.372616</td>\n",
       "      <td>24.000000</td>\n",
       "      <td>27.000000</td>\n",
       "      <td>112.643828</td>\n",
       "      <td>12.000000</td>\n",
       "      <td>5.000000</td>\n",
       "      <td>2.000000</td>\n",
       "      <td>1.000000</td>\n",
       "      <td>10.000000</td>\n",
       "      <td>7.000000</td>\n",
       "      <td>1.000000</td>\n",
       "    </tr>\n",
       "  </tbody>\n",
       "</table>\n",
       "</div>"
      ],
      "text/plain": [
       "       subscription_duration  recent_login_time  average_login_time  \\\n",
       "count           10000.000000       10000.000000        10000.000000   \n",
       "mean               11.897400          15.013200           14.994076   \n",
       "std                 6.600896           8.362573            3.001869   \n",
       "min                 1.000000           1.000000            2.366189   \n",
       "25%                 6.000000           8.000000           13.025597   \n",
       "50%                12.000000          15.000000           14.979228   \n",
       "75%                18.000000          22.000000           16.995340   \n",
       "max                23.000000          29.000000           26.998490   \n",
       "\n",
       "       average_time_per_learning_session  monthly_active_learning_days  \\\n",
       "count                       10000.000000                  10000.000000   \n",
       "mean                           54.917720                     12.545400   \n",
       "std                            56.024310                      6.932239   \n",
       "min                             0.011515                      1.000000   \n",
       "25%                            15.276611                      7.000000   \n",
       "50%                            37.578818                     13.000000   \n",
       "75%                            75.584200                     19.000000   \n",
       "max                           503.372616                     24.000000   \n",
       "\n",
       "       total_completed_courses  recent_learning_achievement  \\\n",
       "count             10000.000000                 10000.000000   \n",
       "mean                 12.227500                    75.029513   \n",
       "std                   3.634125                     9.968529   \n",
       "min                   1.000000                    35.941755   \n",
       "25%                  10.000000                    68.278054   \n",
       "50%                  12.000000                    75.126061   \n",
       "75%                  15.000000                    81.718976   \n",
       "max                  27.000000                   112.643828   \n",
       "\n",
       "       abandoned_learning_sessions  community_engagement_level  \\\n",
       "count                 10000.000000                10000.000000   \n",
       "mean                      3.043600                    3.886100   \n",
       "std                       1.755052                    1.262175   \n",
       "min                       0.000000                    1.000000   \n",
       "25%                       2.000000                    3.000000   \n",
       "50%                       3.000000                    4.000000   \n",
       "75%                       4.000000                    5.000000   \n",
       "max                      12.000000                    5.000000   \n",
       "\n",
       "       preferred_difficulty_level  subscription_type  \\\n",
       "count                10000.000000       10000.000000   \n",
       "mean                     0.700800           0.402100   \n",
       "std                      0.780859           0.490346   \n",
       "min                      0.000000           0.000000   \n",
       "25%                      0.000000           0.000000   \n",
       "50%                      1.000000           0.000000   \n",
       "75%                      1.000000           1.000000   \n",
       "max                      2.000000           1.000000   \n",
       "\n",
       "       customer_inquiry_history  payment_pattern        target  \n",
       "count              10000.000000     10000.000000  10000.000000  \n",
       "mean                   2.010500         3.502900      0.619900  \n",
       "std                    1.420983         2.311261      0.485435  \n",
       "min                    0.000000         0.000000      0.000000  \n",
       "25%                    1.000000         1.000000      0.000000  \n",
       "50%                    2.000000         4.000000      1.000000  \n",
       "75%                    3.000000         6.000000      1.000000  \n",
       "max                   10.000000         7.000000      1.000000  "
      ]
     },
     "execution_count": 8,
     "metadata": {},
     "output_type": "execute_result"
    }
   ],
   "source": [
    "all_data.describe()"
   ]
  },
  {
   "cell_type": "markdown",
   "id": "97460cef",
   "metadata": {},
   "source": [
    "## 데이터 시각화 및 분석"
   ]
  },
  {
   "cell_type": "code",
   "execution_count": 9,
   "id": "db0f5946",
   "metadata": {},
   "outputs": [],
   "source": [
    "import matplotlib.pyplot as plt\n",
    "import numpy as np\n",
    "import koreanize_matplotlib"
   ]
  },
  {
   "cell_type": "markdown",
   "id": "8f720f1a",
   "metadata": {},
   "source": [
    "### 1) 가입 및 서비스 사용 패턴을 파악해보자"
   ]
  },
  {
   "cell_type": "markdown",
   "id": "a3db522e",
   "metadata": {},
   "source": [
    "* 서비스에 가입한 기간?\n",
    "* 사용자가 마지막으로 로그인한 시간(일)\n",
    "* 사용자의 일반적인 로그인 시간"
   ]
  },
  {
   "cell_type": "code",
   "execution_count": 10,
   "id": "7b56d46c",
   "metadata": {},
   "outputs": [
    {
     "data": {
      "image/png": "[encoded data removed]",
      "text/plain": [
       "<Figure size 1500x500 with 1 Axes>"
      ]
     },
     "metadata": {},
     "output_type": "display_data"
    }
   ],
   "source": [
    "idx = np.arange(1, 4)\n",
    "labels = ['서비스 가입 기간', '마지막으로 로그인한 시간', '사용자의 일반적인 로그인 시간']\n",
    "\n",
    "#그래프 사이즈 변경\n",
    "plt.figure(figsize=(15,5))\n",
    "\n",
    "#그래프 x축 y축\n",
    "plt.boxplot([all_data['subscription_duration'],all_data['recent_login_time'],all_data['average_login_time']],whis = 1.5)\n",
    "# whis 는 이상치와 관련된 하이퍼파라미터, default = 1.5\n",
    "# [Q1-whis*(Q3-Q1), Q3+whis*(Q3-Q10)]을 벗어나면 이상치로 봄!\n",
    "\n",
    "#그래프 명\n",
    "plt.xticks(idx, labels)\n",
    "\n",
    "#그래프 출력\n",
    "plt.show()"
   ]
  },
  {
   "cell_type": "code",
   "execution_count": 11,
   "id": "06032d9a",
   "metadata": {},
   "outputs": [
    {
     "data": {
      "text/plain": [
       "(array([   9.,   43.,  348., 1342., 2845., 3042., 1745.,  532.,   83.,\n",
       "          11.]),\n",
       " array([ 2.3661894 ,  4.8294195 ,  7.2926496 ,  9.7558797 , 12.2191098 ,\n",
       "        14.6823399 , 17.14557   , 19.6088001 , 22.0720302 , 24.5352603 ,\n",
       "        26.99849039]),\n",
       " <BarContainer object of 10 artists>)"
      ]
     },
     "execution_count": 11,
     "metadata": {},
     "output_type": "execute_result"
    },
    {
     "data": {
      "image/png": "[encoded data removed]",
      "text/plain": [
       "<Figure size 640x480 with 1 Axes>"
      ]
     },
     "metadata": {},
     "output_type": "display_data"
    }
   ],
   "source": [
    "plt.hist(all_data['average_login_time'])"
   ]
  },
  {
   "cell_type": "code",
   "execution_count": 12,
   "id": "a4a0b0b4",
   "metadata": {},
   "outputs": [],
   "source": [
    "# IQR 기준 이상치 개수 확인\n",
    "def findOutliers(x,column):\n",
    "    q1 = x[column].quantile(0.25)\n",
    "    q3 = x[column].quantile(0.75)\n",
    "    iqr = q3 - q1\n",
    "    Max = q3 + 1.5*iqr\n",
    "    Min = q1 - 1.5*iqr\n",
    "    if Min<0 : Min = 0\n",
    "    y = x[(x[column] > Max) | (x[column] < Min)]\n",
    "    print(\"IQR outliers: \",len(y))\n",
    "    print(\"max : \", Max)\n",
    "    print(\"min : \", Min)\n",
    "    return len(y), Max, Min"
   ]
  },
  {
   "cell_type": "code",
   "execution_count": 13,
   "id": "8771b408",
   "metadata": {},
   "outputs": [
    {
     "name": "stdout",
     "output_type": "stream",
     "text": [
      "IQR outliers:  90\n",
      "max :  22.949955636222207\n",
      "min :  7.070981860296825\n"
     ]
    }
   ],
   "source": [
    "# IQR 기준 이상치 개수 확인\n",
    "y, Max_alt, Min_alt = findOutliers(all_data,'average_login_time')"
   ]
  },
  {
   "cell_type": "code",
   "execution_count": 14,
   "id": "2609f060",
   "metadata": {},
   "outputs": [
    {
     "name": "stdout",
     "output_type": "stream",
     "text": [
      "Over Max :  23.301500037990657\n",
      "Over Min :  3.969999827393547\n"
     ]
    }
   ],
   "source": [
    "print(\"Over Max : \", all_data['average_login_time'][32])\n",
    "print(\"Over Min : \", all_data['average_login_time'][1968])"
   ]
  },
  {
   "cell_type": "markdown",
   "id": "9643a4b2",
   "metadata": {},
   "source": [
    "*INSIGHT*  \n",
    "\n",
    "* 서비스 가입 기간과 마지막으로 로그인한 시간은 이상치 데이터가 없다.\n",
    "* 사용자의 일반적인 로그인 시간은 너무 짧거나 너무 긴 경우가 있다. (90개)\n",
    "    * 잘 못 로그인 했거나\n",
    "    * 로그인하고 깜빡 했거나\n",
    "    -> Q1보다 작으면 Q1, Q3보다 크면 Q3 값으로 대체"
   ]
  },
  {
   "cell_type": "code",
   "execution_count": 15,
   "id": "ae3d1866",
   "metadata": {},
   "outputs": [],
   "source": [
    "def editOutliers(x,column,Min,Max):\n",
    "    x.loc[(x[column]>Max),column] = Max\n",
    "    x.loc[(x[column]<Min),column] = Min"
   ]
  },
  {
   "cell_type": "code",
   "execution_count": 16,
   "id": "69cea92a",
   "metadata": {},
   "outputs": [],
   "source": [
    "editOutliers(all_data,'average_login_time', Min_alt,Max_alt)"
   ]
  },
  {
   "cell_type": "code",
   "execution_count": 17,
   "id": "ea47f1df",
   "metadata": {},
   "outputs": [
    {
     "name": "stdout",
     "output_type": "stream",
     "text": [
      "Over Max :  22.949955636222207\n",
      "Over Min :  7.070981860296825\n"
     ]
    }
   ],
   "source": [
    "print(\"Over Max : \", all_data['average_login_time'][32])\n",
    "print(\"Over Min : \", all_data['average_login_time'][1968])"
   ]
  },
  {
   "cell_type": "code",
   "execution_count": 18,
   "id": "ebecadd4",
   "metadata": {},
   "outputs": [
    {
     "data": {
      "text/plain": [
       "{'whiskers': [<matplotlib.lines.Line2D at 0x1398f5670>,\n",
       "  <matplotlib.lines.Line2D at 0x1398f5910>],\n",
       " 'caps': [<matplotlib.lines.Line2D at 0x1398f5bb0>,\n",
       "  <matplotlib.lines.Line2D at 0x1398f5e50>],\n",
       " 'boxes': [<matplotlib.lines.Line2D at 0x1398f53d0>],\n",
       " 'medians': [<matplotlib.lines.Line2D at 0x139905130>],\n",
       " 'fliers': [<matplotlib.lines.Line2D at 0x1399053d0>],\n",
       " 'means': []}"
      ]
     },
     "execution_count": 18,
     "metadata": {},
     "output_type": "execute_result"
    },
    {
     "data": {
      "image/png": "[encoded data removed]",
      "text/plain": [
       "<Figure size 640x480 with 3 Axes>"
      ]
     },
     "metadata": {},
     "output_type": "display_data"
    }
   ],
   "source": [
    "plt.title('사용자의 일반적인 로그인 시간')\n",
    "plt.tick_params(left = False, right = False , labelleft = False , \n",
    "                labelbottom = False, bottom = False) \n",
    "\n",
    "plt.subplot(1,2,1)\n",
    "plt.hist(all_data['average_login_time'])\n",
    "\n",
    "plt.subplot(1,2,2)\n",
    "plt.boxplot(all_data['average_login_time'],whis = 1.5)"
   ]
  },
  {
   "cell_type": "markdown",
   "id": "23baf781",
   "metadata": {},
   "source": [
    "* 평균 학습 시간"
   ]
  },
  {
   "cell_type": "code",
   "execution_count": 19,
   "id": "93863b9b",
   "metadata": {},
   "outputs": [
    {
     "data": {
      "image/png": "[encoded data removed]",
      "text/plain": [
       "<Figure size 640x480 with 2 Axes>"
      ]
     },
     "metadata": {},
     "output_type": "display_data"
    }
   ],
   "source": [
    "import seaborn as sns\n",
    "\n",
    "x = all_data['average_time_per_learning_session']\n",
    "f, (ax_box, ax_hist) = plt.subplots(2, sharex=True, gridspec_kw={\"height_ratios\": (.15, .85)})\n",
    "\n",
    "sns.boxplot(x=x, ax=ax_box)\n",
    "sns.histplot(x=x, bins=12, kde=True, stat='density', ax=ax_hist)\n",
    "\n",
    "ax_box.set(yticks=[])\n",
    "sns.despine(ax=ax_hist)\n",
    "sns.despine(ax=ax_box, left=True)"
   ]
  },
  {
   "cell_type": "code",
   "execution_count": 20,
   "id": "3e4f35fa",
   "metadata": {},
   "outputs": [
    {
     "name": "stdout",
     "output_type": "stream",
     "text": [
      "IQR outliers:  512\n",
      "max :  166.04558435741137\n",
      "min :  0\n"
     ]
    }
   ],
   "source": [
    "# IQR 기준 이상치 개수 확인\n",
    "y, Max_atpls, Min_atpls = findOutliers(all_data,'average_time_per_learning_session')"
   ]
  },
  {
   "cell_type": "code",
   "execution_count": 21,
   "id": "04fe312c",
   "metadata": {},
   "outputs": [],
   "source": [
    "editOutliers(all_data,'average_time_per_learning_session', Min_atpls,Max_atpls)"
   ]
  },
  {
   "cell_type": "code",
   "execution_count": 22,
   "id": "3bb6a81d",
   "metadata": {},
   "outputs": [
    {
     "data": {
      "image/png": "[encoded data removed]",
      "text/plain": [
       "<Figure size 640x480 with 2 Axes>"
      ]
     },
     "metadata": {},
     "output_type": "display_data"
    }
   ],
   "source": [
    "import seaborn as sns\n",
    "\n",
    "x = all_data['average_time_per_learning_session']\n",
    "f, (ax_box, ax_hist) = plt.subplots(2, sharex=True, gridspec_kw={\"height_ratios\": (.15, .85)})\n",
    "\n",
    "sns.boxplot(x=x, ax=ax_box)\n",
    "sns.histplot(x=x, bins=12, kde=True, stat='density', ax=ax_hist)\n",
    "\n",
    "ax_box.set(yticks=[])\n",
    "sns.despine(ax=ax_hist)\n",
    "sns.despine(ax=ax_box, left=True)"
   ]
  },
  {
   "cell_type": "markdown",
   "id": "d781ac15",
   "metadata": {},
   "source": [
    "*INSIGHT*  \n",
    "* 일반적인 로그인 시간의 이상치 변경 방법으로 했더니 max값이 너무 커져서 원래 분포의 모양이 사라짐"
   ]
  },
  {
   "cell_type": "markdown",
   "id": "a223f38b",
   "metadata": {},
   "source": [
    "### 2) 학습 패턴을 파악해보자"
   ]
  },
  {
   "cell_type": "markdown",
   "id": "03ff2e70",
   "metadata": {},
   "source": [
    "* 완료한 총 코스 수"
   ]
  },
  {
   "cell_type": "code",
   "execution_count": 23,
   "id": "e9210f53",
   "metadata": {},
   "outputs": [
    {
     "data": {
      "text/plain": [
       "{'whiskers': [<matplotlib.lines.Line2D at 0x149bb75b0>,\n",
       "  <matplotlib.lines.Line2D at 0x149bb7850>],\n",
       " 'caps': [<matplotlib.lines.Line2D at 0x149bb7af0>,\n",
       "  <matplotlib.lines.Line2D at 0x149bb7d90>],\n",
       " 'boxes': [<matplotlib.lines.Line2D at 0x149bb7310>],\n",
       " 'medians': [<matplotlib.lines.Line2D at 0x149bc5070>],\n",
       " 'fliers': [<matplotlib.lines.Line2D at 0x149bc5310>],\n",
       " 'means': []}"
      ]
     },
     "execution_count": 23,
     "metadata": {},
     "output_type": "execute_result"
    },
    {
     "data": {
      "image/png": "[encoded data removed]",
      "text/plain": [
       "<Figure size 640x480 with 3 Axes>"
      ]
     },
     "metadata": {},
     "output_type": "display_data"
    }
   ],
   "source": [
    "plt.title('완료한 총 코스 수')\n",
    "plt.tick_params(left = False, right = False , labelleft = False , \n",
    "                labelbottom = False, bottom = False) \n",
    "\n",
    "plt.subplot(1,2,1)\n",
    "plt.hist(all_data['total_completed_courses'])\n",
    "\n",
    "plt.subplot(1,2,2)\n",
    "plt.boxplot(all_data['total_completed_courses'],whis = 1.5)"
   ]
  },
  {
   "cell_type": "code",
   "execution_count": 24,
   "id": "4ead4a11",
   "metadata": {},
   "outputs": [
    {
     "name": "stdout",
     "output_type": "stream",
     "text": [
      "IQR outliers:  65\n",
      "max :  22.5\n",
      "min :  2.5\n"
     ]
    }
   ],
   "source": [
    "# IQR 기준 이상치 개수 확인\n",
    "y, Max_atpls, Min_atpls = findOutliers(all_data,'total_completed_courses')"
   ]
  },
  {
   "cell_type": "markdown",
   "id": "dfc8be98",
   "metadata": {},
   "source": [
    "*INSIGHT*\n",
    "  \n",
    "아웃라이어가 있긴 하지만, 열혈 수강생일 수 있기에 무시할 수 없음!"
   ]
  },
  {
   "cell_type": "markdown",
   "id": "57e51a78",
   "metadata": {},
   "source": [
    "* 최근 학습 성취도"
   ]
  },
  {
   "cell_type": "code",
   "execution_count": 25,
   "id": "498be8c0",
   "metadata": {},
   "outputs": [
    {
     "data": {
      "text/plain": [
       "{'whiskers': [<matplotlib.lines.Line2D at 0x149cf04c0>,\n",
       "  <matplotlib.lines.Line2D at 0x149cf0760>],\n",
       " 'caps': [<matplotlib.lines.Line2D at 0x149cf0a00>,\n",
       "  <matplotlib.lines.Line2D at 0x149cf0ca0>],\n",
       " 'boxes': [<matplotlib.lines.Line2D at 0x149cf0220>],\n",
       " 'medians': [<matplotlib.lines.Line2D at 0x149cf0f40>],\n",
       " 'fliers': [<matplotlib.lines.Line2D at 0x149cfc220>],\n",
       " 'means': []}"
      ]
     },
     "execution_count": 25,
     "metadata": {},
     "output_type": "execute_result"
    },
    {
     "data": {
      "image/png": "[encoded data removed]",
      "text/plain": [
       "<Figure size 640x480 with 3 Axes>"
      ]
     },
     "metadata": {},
     "output_type": "display_data"
    }
   ],
   "source": [
    "plt.title('최근 학습 성취도')\n",
    "plt.tick_params(left = False, right = False , labelleft = False , \n",
    "                labelbottom = False, bottom = False) \n",
    "\n",
    "plt.subplot(1,2,1)\n",
    "plt.hist(all_data['recent_learning_achievement'])\n",
    "\n",
    "plt.subplot(1,2,2)\n",
    "plt.boxplot(all_data['recent_learning_achievement'],whis = 1.5)"
   ]
  },
  {
   "cell_type": "code",
   "execution_count": 26,
   "id": "eb2bdfeb",
   "metadata": {},
   "outputs": [
    {
     "name": "stdout",
     "output_type": "stream",
     "text": [
      "IQR outliers:  67\n",
      "max :  101.88035723082587\n",
      "min :  48.116672703278\n"
     ]
    }
   ],
   "source": [
    "# IQR 기준 이상치 개수 확인\n",
    "y, Max_atpls, Min_atpls = findOutliers(all_data,'recent_learning_achievement')"
   ]
  },
  {
   "cell_type": "markdown",
   "id": "ceb6710e",
   "metadata": {},
   "source": [
    "*INSIGHT*\n",
    "  \n",
    "[성취도 = 수강 완료한 코스 수 / 수강 시작한 코스 수] 라고 생각  \n",
    "100이 넘으면 안될 것이라 판단 -> 100 이상인 것은 모두 100으로 치환"
   ]
  },
  {
   "cell_type": "code",
   "execution_count": 27,
   "id": "1dce9023",
   "metadata": {},
   "outputs": [],
   "source": [
    "all_data.loc[(all_data['recent_learning_achievement']>100),'recent_learning_achievement'] = 100"
   ]
  },
  {
   "cell_type": "code",
   "execution_count": 28,
   "id": "ed5c5faa",
   "metadata": {},
   "outputs": [
    {
     "data": {
      "text/plain": [
       "{'whiskers': [<matplotlib.lines.Line2D at 0x14a35ea60>,\n",
       "  <matplotlib.lines.Line2D at 0x14a35ed00>],\n",
       " 'caps': [<matplotlib.lines.Line2D at 0x14a35efa0>,\n",
       "  <matplotlib.lines.Line2D at 0x14a300580>],\n",
       " 'boxes': [<matplotlib.lines.Line2D at 0x14a35e7c0>],\n",
       " 'medians': [<matplotlib.lines.Line2D at 0x14a36d2e0>],\n",
       " 'fliers': [<matplotlib.lines.Line2D at 0x14a36d580>],\n",
       " 'means': []}"
      ]
     },
     "execution_count": 28,
     "metadata": {},
     "output_type": "execute_result"
    },
    {
     "data": {
      "image/png": "[encoded data removed]",
      "text/plain": [
       "<Figure size 640x480 with 3 Axes>"
      ]
     },
     "metadata": {},
     "output_type": "display_data"
    }
   ],
   "source": [
    "plt.title('최근 학습 성취도')\n",
    "plt.tick_params(left = False, right = False , labelleft = False , \n",
    "                labelbottom = False, bottom = False) \n",
    "\n",
    "plt.subplot(1,2,1)\n",
    "plt.hist(all_data['recent_learning_achievement'])\n",
    "\n",
    "plt.subplot(1,2,2)\n",
    "plt.boxplot(all_data['recent_learning_achievement'],whis = 1.5)"
   ]
  },
  {
   "cell_type": "markdown",
   "id": "194c2803",
   "metadata": {},
   "source": [
    "* 중단된 학습 세션 수"
   ]
  },
  {
   "cell_type": "code",
   "execution_count": 29,
   "id": "e20972d2",
   "metadata": {},
   "outputs": [
    {
     "data": {
      "text/plain": [
       "{'whiskers': [<matplotlib.lines.Line2D at 0x14a499ac0>,\n",
       "  <matplotlib.lines.Line2D at 0x14a499d60>],\n",
       " 'caps': [<matplotlib.lines.Line2D at 0x14a499fd0>,\n",
       "  <matplotlib.lines.Line2D at 0x14a4a82e0>],\n",
       " 'boxes': [<matplotlib.lines.Line2D at 0x14a499820>],\n",
       " 'medians': [<matplotlib.lines.Line2D at 0x14a4a8580>],\n",
       " 'fliers': [<matplotlib.lines.Line2D at 0x14a4a8820>],\n",
       " 'means': []}"
      ]
     },
     "execution_count": 29,
     "metadata": {},
     "output_type": "execute_result"
    },
    {
     "data": {
      "image/png": "[encoded data removed]",
      "text/plain": [
       "<Figure size 640x480 with 3 Axes>"
      ]
     },
     "metadata": {},
     "output_type": "display_data"
    }
   ],
   "source": [
    "plt.title('중단된 학습 세선 수')\n",
    "plt.tick_params(left = False, right = False , labelleft = False , \n",
    "                labelbottom = False, bottom = False) \n",
    "\n",
    "plt.subplot(1,2,1)\n",
    "plt.hist(all_data['abandoned_learning_sessions'])\n",
    "\n",
    "plt.subplot(1,2,2)\n",
    "plt.boxplot(all_data['abandoned_learning_sessions'],whis = 1.5)"
   ]
  },
  {
   "cell_type": "markdown",
   "id": "fc437664",
   "metadata": {},
   "source": [
    "*INSIGHT*  \n",
    "별 특이사항 없음.. 대부분 시작하면 잘 듣는 것으로 보임  \n",
    "다양한 강의 오리엔테이션만 듣고 안 듣는 경우 Outlier가 될 것 같음, 무시할 필요 없다 생각"
   ]
  },
  {
   "cell_type": "markdown",
   "id": "ac2f221d",
   "metadata": {},
   "source": [
    "* 선호하는 난이도"
   ]
  },
  {
   "cell_type": "code",
   "execution_count": 30,
   "id": "b7e2d7f0",
   "metadata": {},
   "outputs": [
    {
     "data": {
      "text/plain": [
       "(array([4992.,    0.,    0.,    0.,    0., 3008.,    0.,    0.,    0.,\n",
       "        2000.]),\n",
       " array([0. , 0.2, 0.4, 0.6, 0.8, 1. , 1.2, 1.4, 1.6, 1.8, 2. ]),\n",
       " <BarContainer object of 10 artists>)"
      ]
     },
     "execution_count": 30,
     "metadata": {},
     "output_type": "execute_result"
    },
    {
     "data": {
      "image/png": "[encoded data removed]",
      "text/plain": [
       "<Figure size 640x480 with 1 Axes>"
      ]
     },
     "metadata": {},
     "output_type": "display_data"
    }
   ],
   "source": [
    "plt.title('선호하는 난이도')\n",
    "plt.hist(all_data['preferred_difficulty_level'])"
   ]
  },
  {
   "cell_type": "markdown",
   "id": "35a153ec",
   "metadata": {},
   "source": [
    "*INSIGHT*  \n",
    "쉬운걸 선호하는것은 당연하다 생각 ㅎㅎ"
   ]
  },
  {
   "cell_type": "markdown",
   "id": "839f4f05",
   "metadata": {},
   "source": [
    "* 선호하는 학습 난이도에 따른 평균 학습 완료 수"
   ]
  },
  {
   "cell_type": "code",
   "execution_count": 31,
   "id": "6ce4051d",
   "metadata": {},
   "outputs": [
    {
     "data": {
      "text/html": [
       "<div>\n",
       "<style scoped>\n",
       "    .dataframe tbody tr th:only-of-type {\n",
       "        vertical-align: middle;\n",
       "    }\n",
       "\n",
       "    .dataframe tbody tr th {\n",
       "        vertical-align: top;\n",
       "    }\n",
       "\n",
       "    .dataframe thead th {\n",
       "        text-align: right;\n",
       "    }\n",
       "</style>\n",
       "<table border=\"1\" class=\"dataframe\">\n",
       "  <thead>\n",
       "    <tr style=\"text-align: right;\">\n",
       "      <th></th>\n",
       "      <th>total_completed_courses</th>\n",
       "    </tr>\n",
       "    <tr>\n",
       "      <th>preferred_difficulty_level</th>\n",
       "      <th></th>\n",
       "    </tr>\n",
       "  </thead>\n",
       "  <tbody>\n",
       "    <tr>\n",
       "      <th>0</th>\n",
       "      <td>13.271434</td>\n",
       "    </tr>\n",
       "    <tr>\n",
       "      <th>1</th>\n",
       "      <td>11.176862</td>\n",
       "    </tr>\n",
       "    <tr>\n",
       "      <th>2</th>\n",
       "      <td>11.202000</td>\n",
       "    </tr>\n",
       "  </tbody>\n",
       "</table>\n",
       "</div>"
      ],
      "text/plain": [
       "                            total_completed_courses\n",
       "preferred_difficulty_level                         \n",
       "0                                         13.271434\n",
       "1                                         11.176862\n",
       "2                                         11.202000"
      ]
     },
     "execution_count": 31,
     "metadata": {},
     "output_type": "execute_result"
    }
   ],
   "source": [
    "# group by\n",
    "all_data.groupby('preferred_difficulty_level')[['total_completed_courses']].mean()\n",
    "# group by에 [] 찍어주면 DF로 뽑을 수 있음!"
   ]
  },
  {
   "cell_type": "markdown",
   "id": "72dcd267",
   "metadata": {},
   "source": [
    "평균적으로는 큰 차이가 없음!"
   ]
  },
  {
   "cell_type": "markdown",
   "id": "70bc3f75",
   "metadata": {},
   "source": [
    "### 3) 기타 패턴을 파악해보자"
   ]
  },
  {
   "cell_type": "markdown",
   "id": "77cd201e",
   "metadata": {},
   "source": [
    "* 커뮤니티 참여도"
   ]
  },
  {
   "cell_type": "code",
   "execution_count": 32,
   "id": "4989e9ae",
   "metadata": {},
   "outputs": [
    {
     "data": {
      "image/png": "[encoded data removed]",
      "text/plain": [
       "<Figure size 500x500 with 1 Axes>"
      ]
     },
     "metadata": {},
     "output_type": "display_data"
    }
   ],
   "source": [
    "df2  = all_data.groupby('community_engagement_level').count()\n",
    "\n",
    "plt.figure(figsize=(5,5))\n",
    "plt.bar(df2.index, df2['user_id'])\n",
    "\n",
    "plt.title('커뮤니티 참여도')\n",
    "plt.xlabel('참여 정도')\n",
    "plt.ylabel('수강생(명)')\n",
    "plt.xticks()\n",
    "plt.show()"
   ]
  },
  {
   "cell_type": "markdown",
   "id": "541e7aa1",
   "metadata": {},
   "source": [
    "*INSIGHT*  \n",
    "별 특이사항 없음.."
   ]
  },
  {
   "cell_type": "markdown",
   "id": "435a4681",
   "metadata": {},
   "source": [
    "* 구독유형"
   ]
  },
  {
   "cell_type": "code",
   "execution_count": 33,
   "id": "92104e5f",
   "metadata": {},
   "outputs": [
    {
     "data": {
      "text/plain": [
       "(array([5979.,    0.,    0.,    0.,    0.,    0.,    0.,    0.,    0.,\n",
       "        4021.]),\n",
       " array([0. , 0.1, 0.2, 0.3, 0.4, 0.5, 0.6, 0.7, 0.8, 0.9, 1. ]),\n",
       " <BarContainer object of 10 artists>)"
      ]
     },
     "execution_count": 33,
     "metadata": {},
     "output_type": "execute_result"
    },
    {
     "data": {
      "image/png": "[encoded data removed]",
      "text/plain": [
       "<Figure size 640x480 with 1 Axes>"
      ]
     },
     "metadata": {},
     "output_type": "display_data"
    }
   ],
   "source": [
    "plt.title('구독 유형')\n",
    "plt.hist(all_data['subscription_type'])"
   ]
  },
  {
   "cell_type": "markdown",
   "id": "a64c3a03",
   "metadata": {},
   "source": [
    "*INSIGHT*  \n",
    "Premium이 더 비싸니까 적게 구매하는거겠지? ㅎ"
   ]
  },
  {
   "cell_type": "markdown",
   "id": "421aa4bc",
   "metadata": {},
   "source": [
    "* 고객 문의 이력"
   ]
  },
  {
   "cell_type": "code",
   "execution_count": 34,
   "id": "6b23a47d",
   "metadata": {},
   "outputs": [
    {
     "data": {
      "text/plain": [
       "{'whiskers': [<matplotlib.lines.Line2D at 0x1499d63a0>,\n",
       "  <matplotlib.lines.Line2D at 0x1499d6eb0>],\n",
       " 'caps': [<matplotlib.lines.Line2D at 0x1499d6370>,\n",
       "  <matplotlib.lines.Line2D at 0x1499d6280>],\n",
       " 'boxes': [<matplotlib.lines.Line2D at 0x1498fb040>],\n",
       " 'medians': [<matplotlib.lines.Line2D at 0x1499d6fd0>],\n",
       " 'fliers': [<matplotlib.lines.Line2D at 0x1499d62b0>],\n",
       " 'means': []}"
      ]
     },
     "execution_count": 34,
     "metadata": {},
     "output_type": "execute_result"
    },
    {
     "data": {
      "image/png": "[encoded data removed]",
      "text/plain": [
       "<Figure size 640x480 with 3 Axes>"
      ]
     },
     "metadata": {},
     "output_type": "display_data"
    }
   ],
   "source": [
    "plt.title('고객 문의 이력')\n",
    "plt.tick_params(left = False, right = False , labelleft = False , \n",
    "                labelbottom = False, bottom = False) \n",
    "\n",
    "plt.subplot(1,2,1)\n",
    "plt.hist(all_data['customer_inquiry_history'])\n",
    "\n",
    "plt.subplot(1,2,2)\n",
    "plt.boxplot(all_data['customer_inquiry_history'],whis = 1.5)"
   ]
  },
  {
   "cell_type": "markdown",
   "id": "0969e2fd",
   "metadata": {},
   "source": [
    "*INSIGHT*  \n",
    "별 특이사항 없음..  \n",
    "문의사항을 많이 할 수록 구독률이 높아질까?에 대해 고민해볼 필요 있을 듯.  \n",
    "하지만 문의가 많음 -> 긍정이라고는 볼 수 없을듯! 불만 많이 표출하는 사람도 있을테니...!}"
   ]
  },
  {
   "cell_type": "markdown",
   "id": "4e3ab1c5",
   "metadata": {},
   "source": [
    "* 결제 패턴"
   ]
  },
  {
   "cell_type": "code",
   "execution_count": 35,
   "id": "395f5fff",
   "metadata": {},
   "outputs": [
    {
     "data": {
      "image/png": "[encoded data removed]",
      "text/plain": [
       "<Figure size 500x500 with 1 Axes>"
      ]
     },
     "metadata": {},
     "output_type": "display_data"
    }
   ],
   "source": [
    "df2  = all_data.groupby('payment_pattern').count()\n",
    "\n",
    "plt.figure(figsize=(5,5))\n",
    "plt.bar(df2.index, df2['user_id'])\n",
    "\n",
    "plt.title('결제 패턴')\n",
    "plt.xlabel('결제 패턴')\n",
    "plt.ylabel('수강생(명)')\n",
    "plt.xticks()\n",
    "plt.show()"
   ]
  },
  {
   "cell_type": "markdown",
   "id": "f84b0440",
   "metadata": {},
   "source": [
    "*INSIGHT*  \n",
    "별 특이사항 없음.. 골고루 분포,,"
   ]
  },
  {
   "cell_type": "markdown",
   "id": "ca193f33",
   "metadata": {},
   "source": [
    "## 가설과 검증"
   ]
  },
  {
   "cell_type": "markdown",
   "id": "d0e1f039",
   "metadata": {},
   "source": [
    "### 가설 1. 커뮤니티 활동이 높을수록 다음달 구독할 확률이 높지 않을까?"
   ]
  },
  {
   "cell_type": "code",
   "execution_count": 36,
   "id": "8deab554",
   "metadata": {},
   "outputs": [
    {
     "data": {
      "text/html": [
       "<div>\n",
       "<style scoped>\n",
       "    .dataframe tbody tr th:only-of-type {\n",
       "        vertical-align: middle;\n",
       "    }\n",
       "\n",
       "    .dataframe tbody tr th {\n",
       "        vertical-align: top;\n",
       "    }\n",
       "\n",
       "    .dataframe thead th {\n",
       "        text-align: right;\n",
       "    }\n",
       "</style>\n",
       "<table border=\"1\" class=\"dataframe\">\n",
       "  <thead>\n",
       "    <tr style=\"text-align: right;\">\n",
       "      <th></th>\n",
       "      <th></th>\n",
       "      <th>user_id</th>\n",
       "    </tr>\n",
       "    <tr>\n",
       "      <th>community_engagement_level</th>\n",
       "      <th>target</th>\n",
       "      <th></th>\n",
       "    </tr>\n",
       "  </thead>\n",
       "  <tbody>\n",
       "    <tr>\n",
       "      <th rowspan=\"2\" valign=\"top\">1</th>\n",
       "      <th>0</th>\n",
       "      <td>211</td>\n",
       "    </tr>\n",
       "    <tr>\n",
       "      <th>1</th>\n",
       "      <td>348</td>\n",
       "    </tr>\n",
       "    <tr>\n",
       "      <th rowspan=\"2\" valign=\"top\">2</th>\n",
       "      <th>0</th>\n",
       "      <td>468</td>\n",
       "    </tr>\n",
       "    <tr>\n",
       "      <th>1</th>\n",
       "      <td>751</td>\n",
       "    </tr>\n",
       "    <tr>\n",
       "      <th rowspan=\"2\" valign=\"top\">3</th>\n",
       "      <th>0</th>\n",
       "      <td>620</td>\n",
       "    </tr>\n",
       "    <tr>\n",
       "      <th>1</th>\n",
       "      <td>968</td>\n",
       "    </tr>\n",
       "    <tr>\n",
       "      <th rowspan=\"2\" valign=\"top\">4</th>\n",
       "      <th>0</th>\n",
       "      <td>805</td>\n",
       "    </tr>\n",
       "    <tr>\n",
       "      <th>1</th>\n",
       "      <td>1265</td>\n",
       "    </tr>\n",
       "    <tr>\n",
       "      <th rowspan=\"2\" valign=\"top\">5</th>\n",
       "      <th>0</th>\n",
       "      <td>1697</td>\n",
       "    </tr>\n",
       "    <tr>\n",
       "      <th>1</th>\n",
       "      <td>2867</td>\n",
       "    </tr>\n",
       "  </tbody>\n",
       "</table>\n",
       "</div>"
      ],
      "text/plain": [
       "                                   user_id\n",
       "community_engagement_level target         \n",
       "1                          0           211\n",
       "                           1           348\n",
       "2                          0           468\n",
       "                           1           751\n",
       "3                          0           620\n",
       "                           1           968\n",
       "4                          0           805\n",
       "                           1          1265\n",
       "5                          0          1697\n",
       "                           1          2867"
      ]
     },
     "execution_count": 36,
     "metadata": {},
     "output_type": "execute_result"
    }
   ],
   "source": [
    "grouped = all_data.groupby(['community_engagement_level','target'])[['user_id']]\n",
    "group = grouped.count()\n",
    "group"
   ]
  },
  {
   "cell_type": "code",
   "execution_count": 37,
   "id": "f78aca27",
   "metadata": {},
   "outputs": [
    {
     "data": {
      "text/html": [
       "<div>\n",
       "<style scoped>\n",
       "    .dataframe tbody tr th:only-of-type {\n",
       "        vertical-align: middle;\n",
       "    }\n",
       "\n",
       "    .dataframe tbody tr th {\n",
       "        vertical-align: top;\n",
       "    }\n",
       "\n",
       "    .dataframe thead th {\n",
       "        text-align: right;\n",
       "    }\n",
       "</style>\n",
       "<table border=\"1\" class=\"dataframe\">\n",
       "  <thead>\n",
       "    <tr style=\"text-align: right;\">\n",
       "      <th>target</th>\n",
       "      <th>0</th>\n",
       "      <th>1</th>\n",
       "    </tr>\n",
       "    <tr>\n",
       "      <th>community_engagement_level</th>\n",
       "      <th></th>\n",
       "      <th></th>\n",
       "    </tr>\n",
       "  </thead>\n",
       "  <tbody>\n",
       "    <tr>\n",
       "      <th>1</th>\n",
       "      <td>211</td>\n",
       "      <td>348</td>\n",
       "    </tr>\n",
       "    <tr>\n",
       "      <th>2</th>\n",
       "      <td>468</td>\n",
       "      <td>751</td>\n",
       "    </tr>\n",
       "    <tr>\n",
       "      <th>3</th>\n",
       "      <td>620</td>\n",
       "      <td>968</td>\n",
       "    </tr>\n",
       "    <tr>\n",
       "      <th>4</th>\n",
       "      <td>805</td>\n",
       "      <td>1265</td>\n",
       "    </tr>\n",
       "    <tr>\n",
       "      <th>5</th>\n",
       "      <td>1697</td>\n",
       "      <td>2867</td>\n",
       "    </tr>\n",
       "  </tbody>\n",
       "</table>\n",
       "</div>"
      ],
      "text/plain": [
       "target                         0     1\n",
       "community_engagement_level            \n",
       "1                            211   348\n",
       "2                            468   751\n",
       "3                            620   968\n",
       "4                            805  1265\n",
       "5                           1697  2867"
      ]
     },
     "execution_count": 37,
     "metadata": {},
     "output_type": "execute_result"
    }
   ],
   "source": [
    "community_pivot_table = pd.pivot_table(all_data, values='user_id',\n",
    "                       index=['community_engagement_level'],\n",
    "                       columns=['target'],  \n",
    "                       aggfunc=\"count\")\n",
    "community_pivot_table"
   ]
  },
  {
   "cell_type": "code",
   "execution_count": 38,
   "id": "cbc808a0",
   "metadata": {},
   "outputs": [
    {
     "data": {
      "image/png": "[encoded data removed]",
      "text/plain": [
       "<Figure size 500x500 with 2 Axes>"
      ]
     },
     "metadata": {},
     "output_type": "display_data"
    }
   ],
   "source": [
    "# 히트맵으로 나타내기\n",
    "#그래프 사이즈 변경\n",
    "plt.figure(figsize=(5,5))\n",
    "\n",
    "plt.pcolor(community_pivot_table)\n",
    "\n",
    "plt.xticks(np.arange(0.5, len(community_pivot_table.columns), 1), community_pivot_table.columns)\n",
    "plt.yticks(np.arange(0.5, len(community_pivot_table.index), 1), community_pivot_table.index)\n",
    "\n",
    "plt.title('커뮤니티 참여도와 구독 수')\n",
    "plt.xlabel('구독 유무')\n",
    "plt.ylabel('커뮤니티 참여도')\n",
    "\n",
    "plt.colorbar()\n",
    "plt.show()"
   ]
  },
  {
   "cell_type": "markdown",
   "id": "e7a0193d",
   "metadata": {},
   "source": [
    "!!!!!!!!!!  \n",
    "커뮤니티 참여도가 높아질 수록 다음달에도 구속을 계속하는 경우가 많아지는 경향 발견  \n",
    "  \n",
    "?  \n",
    "하지만 커뮤니티의 참여도가 높아지면서 구독을 안하는 경우도 많아짐.  \n",
    "비율을 따져보자?"
   ]
  },
  {
   "cell_type": "code",
   "execution_count": 39,
   "id": "e2f05495",
   "metadata": {},
   "outputs": [
    {
     "data": {
      "text/html": [
       "<div>\n",
       "<style scoped>\n",
       "    .dataframe tbody tr th:only-of-type {\n",
       "        vertical-align: middle;\n",
       "    }\n",
       "\n",
       "    .dataframe tbody tr th {\n",
       "        vertical-align: top;\n",
       "    }\n",
       "\n",
       "    .dataframe thead th {\n",
       "        text-align: right;\n",
       "    }\n",
       "</style>\n",
       "<table border=\"1\" class=\"dataframe\">\n",
       "  <thead>\n",
       "    <tr style=\"text-align: right;\">\n",
       "      <th>target</th>\n",
       "      <th>0</th>\n",
       "      <th>1</th>\n",
       "    </tr>\n",
       "    <tr>\n",
       "      <th>community_engagement_level</th>\n",
       "      <th></th>\n",
       "      <th></th>\n",
       "    </tr>\n",
       "  </thead>\n",
       "  <tbody>\n",
       "    <tr>\n",
       "      <th>1</th>\n",
       "      <td>0.055512</td>\n",
       "      <td>0.056138</td>\n",
       "    </tr>\n",
       "    <tr>\n",
       "      <th>2</th>\n",
       "      <td>0.123125</td>\n",
       "      <td>0.121149</td>\n",
       "    </tr>\n",
       "    <tr>\n",
       "      <th>3</th>\n",
       "      <td>0.163115</td>\n",
       "      <td>0.156154</td>\n",
       "    </tr>\n",
       "    <tr>\n",
       "      <th>4</th>\n",
       "      <td>0.211786</td>\n",
       "      <td>0.204065</td>\n",
       "    </tr>\n",
       "    <tr>\n",
       "      <th>5</th>\n",
       "      <td>0.446461</td>\n",
       "      <td>0.462494</td>\n",
       "    </tr>\n",
       "  </tbody>\n",
       "</table>\n",
       "</div>"
      ],
      "text/plain": [
       "target                             0         1\n",
       "community_engagement_level                    \n",
       "1                           0.055512  0.056138\n",
       "2                           0.123125  0.121149\n",
       "3                           0.163115  0.156154\n",
       "4                           0.211786  0.204065\n",
       "5                           0.446461  0.462494"
      ]
     },
     "execution_count": 39,
     "metadata": {},
     "output_type": "execute_result"
    }
   ],
   "source": [
    "zeros = all_data['target'].value_counts()[0]\n",
    "ones = all_data['target'].value_counts()[1]\n",
    "counts = [zeros, ones]\n",
    "\n",
    "community_pivot_table_part = pd.pivot_table(all_data, values='user_id',\n",
    "                       index=['community_engagement_level'],\n",
    "                       columns=['target'],  \n",
    "                       aggfunc=\"count\").div(counts)\n",
    "community_pivot_table_part"
   ]
  },
  {
   "cell_type": "code",
   "execution_count": 40,
   "id": "f569bc13",
   "metadata": {},
   "outputs": [
    {
     "data": {
      "text/html": [
       "<div>\n",
       "<style scoped>\n",
       "    .dataframe tbody tr th:only-of-type {\n",
       "        vertical-align: middle;\n",
       "    }\n",
       "\n",
       "    .dataframe tbody tr th {\n",
       "        vertical-align: top;\n",
       "    }\n",
       "\n",
       "    .dataframe thead th {\n",
       "        text-align: right;\n",
       "    }\n",
       "</style>\n",
       "<table border=\"1\" class=\"dataframe\">\n",
       "  <thead>\n",
       "    <tr style=\"text-align: right;\">\n",
       "      <th>target</th>\n",
       "      <th>0</th>\n",
       "      <th>1</th>\n",
       "    </tr>\n",
       "    <tr>\n",
       "      <th>community_engagement_level</th>\n",
       "      <th></th>\n",
       "      <th></th>\n",
       "    </tr>\n",
       "  </thead>\n",
       "  <tbody>\n",
       "    <tr>\n",
       "      <th>1</th>\n",
       "      <td>0.0211</td>\n",
       "      <td>0.0348</td>\n",
       "    </tr>\n",
       "    <tr>\n",
       "      <th>2</th>\n",
       "      <td>0.0468</td>\n",
       "      <td>0.0751</td>\n",
       "    </tr>\n",
       "    <tr>\n",
       "      <th>3</th>\n",
       "      <td>0.0620</td>\n",
       "      <td>0.0968</td>\n",
       "    </tr>\n",
       "    <tr>\n",
       "      <th>4</th>\n",
       "      <td>0.0805</td>\n",
       "      <td>0.1265</td>\n",
       "    </tr>\n",
       "    <tr>\n",
       "      <th>5</th>\n",
       "      <td>0.1697</td>\n",
       "      <td>0.2867</td>\n",
       "    </tr>\n",
       "  </tbody>\n",
       "</table>\n",
       "</div>"
      ],
      "text/plain": [
       "target                           0       1\n",
       "community_engagement_level                \n",
       "1                           0.0211  0.0348\n",
       "2                           0.0468  0.0751\n",
       "3                           0.0620  0.0968\n",
       "4                           0.0805  0.1265\n",
       "5                           0.1697  0.2867"
      ]
     },
     "execution_count": 40,
     "metadata": {},
     "output_type": "execute_result"
    }
   ],
   "source": [
    "community_pivot_table_total = pd.pivot_table(all_data, values='user_id',\n",
    "                       index=['community_engagement_level'],\n",
    "                       columns=['target'],  \n",
    "                       aggfunc=\"count\").div(len(all_data))\n",
    "community_pivot_table_total"
   ]
  },
  {
   "cell_type": "code",
   "execution_count": 41,
   "id": "0ef51fcb",
   "metadata": {},
   "outputs": [
    {
     "data": {
      "text/plain": [
       "<matplotlib.colorbar.Colorbar at 0x14f14bd30>"
      ]
     },
     "execution_count": 41,
     "metadata": {},
     "output_type": "execute_result"
    },
    {
     "data": {
      "image/png": "[encoded data removed]",
      "text/plain": [
       "<Figure size 1500x500 with 5 Axes>"
      ]
     },
     "metadata": {},
     "output_type": "display_data"
    }
   ],
   "source": [
    "plt.figure(figsize=(15,5))\n",
    "plt.tick_params(left = False, right = False , labelleft = False , \n",
    "                labelbottom = False, bottom = False) \n",
    "plt.subplot(1,3,1)\n",
    "fig1 = plt.pcolor(community_pivot_table)\n",
    "plt.title('커뮤니티 참여도와 구독 수')\n",
    "\n",
    "plt.subplot(1,3,2)\n",
    "fig2 = plt.pcolor(community_pivot_table_part)\n",
    "plt.title('커뮤니티 참여도와 구독 수/counts')\n",
    "\n",
    "\n",
    "plt.subplot(1,3,3)\n",
    "fig3 = plt.pcolor(community_pivot_table_total)\n",
    "plt.title('커뮤니티 참여도와 구독 수/total')\n",
    "\n",
    "plt.colorbar()"
   ]
  },
  {
   "cell_type": "markdown",
   "id": "e27d6c11",
   "metadata": {},
   "source": [
    "* 커뮤니티의 참여도가 높아질수록 구독을 유지하는 경우가 높아짐\n",
    "* 커뮤니티의 참여도가 높아질수록 구독을 안 하는 경우도 높아지긴 함\n",
    "* 구독을 유지하는 경우가 좀 더 높은 수치로 유지되긴 함. 어느정도 상관은 있지만 무조건적인 관계라고는 볼 수 없을듯!"
   ]
  },
  {
   "cell_type": "markdown",
   "id": "3f13b217",
   "metadata": {},
   "source": [
    "### 가설 2. 평균 시간에 맞춰 수강한 사람들은 다음달에 수강할 확률이 높을 것이다?!"
   ]
  },
  {
   "cell_type": "markdown",
   "id": "5eaf0d1d",
   "metadata": {},
   "source": [
    "* 평균 강의 54분, [1.5배속(약 37분), 0.8배속(약 69분)] 사이인 사람의 target 분포와 그 외인 사람의 target 분포?!"
   ]
  },
  {
   "cell_type": "markdown",
   "id": "17da7bb2",
   "metadata": {},
   "source": [
    "### 가설 3. Premium 구독자일수록 플랫폼에 더 만족한다는 뜻이 아닐까? 다음달 구독 확률이 높지 않을까?"
   ]
  },
  {
   "cell_type": "markdown",
   "id": "25e38641",
   "metadata": {},
   "source": [
    "### 가설 4. 문의를 많이 한다는 것과 구독율은 어떤 관계가 있을까? 양의 상관관계면 긍정적인 문의,,?"
   ]
  },
  {
   "cell_type": "markdown",
   "id": "cf5cdbad",
   "metadata": {},
   "source": [
    "### 가설 5. 연속적으로 결제한 달이 있는 사람은 또 구독할 가능성이 높지 않을까?"
   ]
  },
  {
   "cell_type": "markdown",
   "id": "8efdf013",
   "metadata": {},
   "source": [
    "### 가설 6. 두 달 이상 결제한 사람이 구독할 가능성이 높지 않을까?"
   ]
  }
 ],
 "metadata": {
  "kernelspec": {
   "display_name": "Python 3 (ipykernel)",
   "language": "python",
   "name": "python3"
  },
  "language_info": {
   "codemirror_mode": {
    "name": "ipython",
    "version": 3
   },
   "file_extension": ".py",
   "mimetype": "text/x-python",
   "name": "python",
   "nbconvert_exporter": "python",
   "pygments_lexer": "ipython3",
   "version": "3.9.6"
  }
 },
 "nbformat": 4,
 "nbformat_minor": 5
}
