{
 "cells": [
  {
   "cell_type": "markdown",
   "metadata": {},
   "source": [
    "# 0911 Numpy\n",
    "\n",
    "- numerical python\n",
    "- 고성능 수치 계산을 위한 라이브러리\n",
    "- 벡터나 행렬 연산에 편리한 기능 제공\n",
    "- 모든 원소는 같은 자료형만 가능"
   ]
  },
  {
   "cell_type": "code",
   "execution_count": 1,
   "metadata": {},
   "outputs": [
    {
     "name": "stdout",
     "output_type": "stream",
     "text": [
      "[ 0  1  2  3  4  5  6  7  8  9 10 11 12 13 14]\n"
     ]
    }
   ],
   "source": [
    "import numpy as np\n",
    "a = np.arange(15)\n",
    "print(a)"
   ]
  },
  {
   "cell_type": "code",
   "execution_count": 2,
   "metadata": {},
   "outputs": [
    {
     "name": "stdout",
     "output_type": "stream",
     "text": [
      "[[ 0  1  2  3  4]\n",
      " [ 5  6  7  8  9]\n",
      " [10 11 12 13 14]]\n"
     ]
    }
   ],
   "source": [
    "a = a.reshape(3,5)\n",
    "print(a)"
   ]
  },
  {
   "cell_type": "code",
   "execution_count": 3,
   "metadata": {},
   "outputs": [
    {
     "name": "stdout",
     "output_type": "stream",
     "text": [
      "<class 'numpy.ndarray'>\n",
      "(3, 5)\n",
      "15\n",
      "int64\n"
     ]
    }
   ],
   "source": [
    "print(type(a))\n",
    "print(a.shape)\n",
    "print(a.size)\n",
    "print(a.dtype)"
   ]
  },
  {
   "cell_type": "code",
   "execution_count": 4,
   "metadata": {},
   "outputs": [
    {
     "name": "stdout",
     "output_type": "stream",
     "text": [
      "<class 'list'>\n"
     ]
    }
   ],
   "source": [
    "b = [-1, 2, 5, -3, 0, -7, -9, 1, -4, 7]\n",
    "print(type(b))"
   ]
  },
  {
   "cell_type": "code",
   "execution_count": 5,
   "metadata": {},
   "outputs": [
    {
     "name": "stdout",
     "output_type": "stream",
     "text": [
      "<class 'numpy.ndarray'>\n"
     ]
    }
   ],
   "source": [
    "b = np.array(b)\n",
    "print(type(b))"
   ]
  },
  {
   "cell_type": "code",
   "execution_count": 6,
   "metadata": {},
   "outputs": [
    {
     "name": "stdout",
     "output_type": "stream",
     "text": [
      "<class 'tuple'>\n"
     ]
    }
   ],
   "source": [
    "t = (10,20,30,40,50)\n",
    "print(type(t))"
   ]
  },
  {
   "cell_type": "code",
   "execution_count": 7,
   "metadata": {},
   "outputs": [
    {
     "name": "stdout",
     "output_type": "stream",
     "text": [
      "<class 'numpy.ndarray'>\n"
     ]
    }
   ],
   "source": [
    "t = np.array(t)\n",
    "print(type(t))"
   ]
  },
  {
   "cell_type": "code",
   "execution_count": 8,
   "metadata": {},
   "outputs": [
    {
     "name": "stdout",
     "output_type": "stream",
     "text": [
      "<class 'set'>\n"
     ]
    }
   ],
   "source": [
    "s = {10, 20, 30, 40, 50}\n",
    "print(type(s))"
   ]
  },
  {
   "cell_type": "code",
   "execution_count": 9,
   "metadata": {},
   "outputs": [
    {
     "name": "stdout",
     "output_type": "stream",
     "text": [
      "<class 'numpy.ndarray'>\n"
     ]
    }
   ],
   "source": [
    "s = np.array(s)\n",
    "print(type(s))"
   ]
  },
  {
   "cell_type": "code",
   "execution_count": 10,
   "metadata": {},
   "outputs": [
    {
     "name": "stdout",
     "output_type": "stream",
     "text": [
      "(10,)\n",
      "1\n",
      "int64\n"
     ]
    }
   ],
   "source": [
    "print(b.shape)\n",
    "print(b.ndim)\n",
    "print(b.dtype)"
   ]
  },
  {
   "cell_type": "code",
   "execution_count": 11,
   "metadata": {},
   "outputs": [
    {
     "name": "stdout",
     "output_type": "stream",
     "text": [
      "[-1  2  5 -3  0 -7 -9  1 -4  7]\n"
     ]
    }
   ],
   "source": [
    "print(b)"
   ]
  },
  {
   "cell_type": "code",
   "execution_count": 12,
   "metadata": {},
   "outputs": [
    {
     "name": "stdout",
     "output_type": "stream",
     "text": [
      "[1 2 5 3 0 7 9 1 4 7]\n"
     ]
    }
   ],
   "source": [
    "print(np.abs(b))"
   ]
  },
  {
   "cell_type": "code",
   "execution_count": 13,
   "metadata": {},
   "outputs": [
    {
     "name": "stdout",
     "output_type": "stream",
     "text": [
      "[       nan 1.41421356 2.23606798        nan 0.                nan\n",
      "        nan 1.                nan 2.64575131]\n"
     ]
    },
    {
     "name": "stderr",
     "output_type": "stream",
     "text": [
      "/var/folders/5n/kjkw6sh12dx20bbd340zn1pr0000gn/T/ipykernel_66881/1940396832.py:1: RuntimeWarning: invalid value encountered in sqrt\n",
      "  print(np.sqrt(b))\n"
     ]
    }
   ],
   "source": [
    "print(np.sqrt(b))"
   ]
  },
  {
   "cell_type": "code",
   "execution_count": 14,
   "metadata": {},
   "outputs": [
    {
     "name": "stdout",
     "output_type": "stream",
     "text": [
      "[ 1  4 25  9  0 49 81  1 16 49]\n"
     ]
    }
   ],
   "source": [
    "print(np.square(b))"
   ]
  },
  {
   "cell_type": "code",
   "execution_count": 15,
   "metadata": {},
   "outputs": [
    {
     "name": "stdout",
     "output_type": "stream",
     "text": [
      "[False False False False False False False False False False]\n"
     ]
    }
   ],
   "source": [
    "print(np.isnan(b))"
   ]
  },
  {
   "cell_type": "code",
   "execution_count": 16,
   "metadata": {},
   "outputs": [
    {
     "name": "stdout",
     "output_type": "stream",
     "text": [
      "-9\n"
     ]
    }
   ],
   "source": [
    "print(np.sum(b))"
   ]
  },
  {
   "cell_type": "code",
   "execution_count": 17,
   "metadata": {},
   "outputs": [
    {
     "name": "stdout",
     "output_type": "stream",
     "text": [
      "-0.9\n"
     ]
    }
   ],
   "source": [
    "print(np.mean(b))"
   ]
  },
  {
   "cell_type": "code",
   "execution_count": 18,
   "metadata": {},
   "outputs": [
    {
     "name": "stdout",
     "output_type": "stream",
     "text": [
      "7\n",
      "-9\n"
     ]
    }
   ],
   "source": [
    "print(np.max(b))\n",
    "print(np.min(b))"
   ]
  },
  {
   "cell_type": "code",
   "execution_count": 19,
   "metadata": {},
   "outputs": [
    {
     "name": "stdout",
     "output_type": "stream",
     "text": [
      "9\n",
      "6\n"
     ]
    }
   ],
   "source": [
    "# 최대/최소 값의 인덱스\n",
    "print(np.argmax(b))\n",
    "print(np.argmin(b))"
   ]
  },
  {
   "cell_type": "code",
   "execution_count": 20,
   "metadata": {},
   "outputs": [
    {
     "name": "stdout",
     "output_type": "stream",
     "text": [
      "[-9 -7 -4 -3 -1  0  1  2  5  7]\n",
      "[ 7  5  2  1  0 -1 -3 -4 -7 -9]\n",
      "[ 7  5  2  1  0 -1 -3 -4 -7 -9]\n"
     ]
    }
   ],
   "source": [
    "print(np.sort(b)) # ASC\n",
    "print(np.sort(b)[::-1]) # DSC\n",
    "print(-np.sort(-b)) # DSC"
   ]
  },
  {
   "cell_type": "code",
   "execution_count": 21,
   "metadata": {},
   "outputs": [
    {
     "name": "stdout",
     "output_type": "stream",
     "text": [
      "-0.5\n"
     ]
    }
   ],
   "source": [
    "print(np.median(b))"
   ]
  },
  {
   "cell_type": "code",
   "execution_count": 22,
   "metadata": {},
   "outputs": [
    {
     "data": {
      "text/plain": [
       "array([[0., 0., 0.],\n",
       "       [0., 0., 0.],\n",
       "       [0., 0., 0.]])"
      ]
     },
     "execution_count": 22,
     "metadata": {},
     "output_type": "execute_result"
    }
   ],
   "source": [
    "np.zeros((3,3))"
   ]
  },
  {
   "cell_type": "code",
   "execution_count": 23,
   "metadata": {},
   "outputs": [
    {
     "name": "stdout",
     "output_type": "stream",
     "text": [
      "[[1. 1. 1.]\n",
      " [1. 1. 1.]\n",
      " [1. 1. 1.]]\n"
     ]
    }
   ],
   "source": [
    "d = np.ones((3,3))\n",
    "print(d)"
   ]
  },
  {
   "cell_type": "code",
   "execution_count": 24,
   "metadata": {},
   "outputs": [
    {
     "data": {
      "text/plain": [
       "array([[0., 0., 0.],\n",
       "       [0., 0., 0.],\n",
       "       [0., 0., 0.]])"
      ]
     },
     "execution_count": 24,
     "metadata": {},
     "output_type": "execute_result"
    }
   ],
   "source": [
    "np.zeros_like(d)"
   ]
  },
  {
   "cell_type": "code",
   "execution_count": 25,
   "metadata": {},
   "outputs": [
    {
     "data": {
      "text/plain": [
       "array([[0.86976628, 0.8435109 , 0.10956951],\n",
       "       [0.19671491, 0.97052531, 0.80553112],\n",
       "       [0.07486585, 0.0362639 , 0.05907254]])"
      ]
     },
     "execution_count": 25,
     "metadata": {},
     "output_type": "execute_result"
    }
   ],
   "source": [
    "np.random.rand(3,3)"
   ]
  },
  {
   "cell_type": "code",
   "execution_count": 26,
   "metadata": {},
   "outputs": [
    {
     "data": {
      "text/plain": [
       "array([[[ 2, 11, 39],\n",
       "        [ 2, 22, 27],\n",
       "        [27, 34, 20]],\n",
       "\n",
       "       [[ 7,  9,  9],\n",
       "        [31,  7, 34],\n",
       "        [33, 12,  4]],\n",
       "\n",
       "       [[ 6, 16,  3],\n",
       "        [16, 33, 16],\n",
       "        [27, 15, 10]]])"
      ]
     },
     "execution_count": 26,
     "metadata": {},
     "output_type": "execute_result"
    }
   ],
   "source": [
    "np.random.randint(1,40,(3,3,3))"
   ]
  },
  {
   "cell_type": "markdown",
   "metadata": {},
   "source": [
    "# 0912 Numpy"
   ]
  },
  {
   "cell_type": "markdown",
   "metadata": {},
   "source": [
    "## numpy array의 계산"
   ]
  },
  {
   "cell_type": "code",
   "execution_count": 31,
   "metadata": {},
   "outputs": [],
   "source": [
    "import numpy as np"
   ]
  },
  {
   "cell_type": "code",
   "execution_count": 44,
   "metadata": {},
   "outputs": [
    {
     "name": "stdout",
     "output_type": "stream",
     "text": [
      "<class 'list'>\n"
     ]
    }
   ],
   "source": [
    "c = [[1,2,3],[41,51, 61]]\n",
    "print(type(c))"
   ]
  },
  {
   "cell_type": "code",
   "execution_count": 45,
   "metadata": {},
   "outputs": [
    {
     "name": "stdout",
     "output_type": "stream",
     "text": [
      "<class 'numpy.ndarray'>\n"
     ]
    }
   ],
   "source": [
    "c = np.array(c)\n",
    "print(type(c))"
   ]
  },
  {
   "cell_type": "markdown",
   "metadata": {},
   "source": [
    "### axis = 0 : 행 계산, axis = 1 : 열계산\n",
    "[행열계산 설명](https://velog.io/@jhdai_ly/%EB%84%98%ED%8C%8C%EC%9D%B4Numpy-%ED%8C%90%EB%8B%A4%EC%8A%A4Pandasaxis%EC%9D%98-%EC%9D%98%EB%AF%B8-%ED%96%89%EC%B6%95row%EA%B3%BC-%EC%97%B4column%EC%B6%95-axis0-axis1)"
   ]
  },
  {
   "cell_type": "code",
   "execution_count": 47,
   "metadata": {},
   "outputs": [
    {
     "name": "stdout",
     "output_type": "stream",
     "text": [
      "행계산 [42 53 64]\n",
      "열계산 [  6 153]\n",
      "전체 159\n"
     ]
    }
   ],
   "source": [
    "print(\"행계산\", np.sum(c, axis=0))\n",
    "print(\"열계산\",np.sum(c, axis=1))\n",
    "print(\"전체\",np.sum(c))"
   ]
  },
  {
   "cell_type": "code",
   "execution_count": 40,
   "metadata": {},
   "outputs": [
    {
     "name": "stdout",
     "output_type": "stream",
     "text": [
      "[2.5 3.5 4.5]\n",
      "[2. 5.]\n",
      "3.5\n"
     ]
    }
   ],
   "source": [
    "print(np.median(c, axis=0))\n",
    "print(np.median(c, axis=1))\n",
    "print(np.median(c))"
   ]
  },
  {
   "cell_type": "code",
   "execution_count": 42,
   "metadata": {},
   "outputs": [
    {
     "name": "stdout",
     "output_type": "stream",
     "text": [
      "[2.5 3.5 4.5]\n",
      "[2. 5.]\n",
      "3.5\n"
     ]
    }
   ],
   "source": [
    "print(np.mean(c, axis=0))\n",
    "print(np.mean(c, axis=1))\n",
    "print(np.mean(c))"
   ]
  },
  {
   "cell_type": "code",
   "execution_count": 43,
   "metadata": {},
   "outputs": [
    {
     "name": "stdout",
     "output_type": "stream",
     "text": [
      "6\n",
      "[4 5 6]\n",
      "[3 6]\n"
     ]
    }
   ],
   "source": [
    "print(np.max(c))\n",
    "print(np.max(c, axis=0))\n",
    "print(np.max(c, axis=1))"
   ]
  },
  {
   "cell_type": "code",
   "execution_count": null,
   "metadata": {},
   "outputs": [],
   "source": [
    "print(np.std(c))\n",
    "print(np.var(c))"
   ]
  },
  {
   "cell_type": "markdown",
   "metadata": {},
   "source": [
    "### element wise 계산"
   ]
  },
  {
   "cell_type": "code",
   "execution_count": 49,
   "metadata": {},
   "outputs": [
    {
     "name": "stdout",
     "output_type": "stream",
     "text": [
      "[12 22 32 42 52]\n",
      "[12 22 32 42 52]\n"
     ]
    }
   ],
   "source": [
    "d = np.array([10,20,30,40,50])\n",
    "print(d+2)\n",
    "e = np.array([1,2,3,4,5])\n",
    "print(d+2)"
   ]
  },
  {
   "cell_type": "code",
   "execution_count": 50,
   "metadata": {},
   "outputs": [
    {
     "name": "stdout",
     "output_type": "stream",
     "text": [
      "[ 100  400  900 1600 2500]\n"
     ]
    }
   ],
   "source": [
    "print(d**2)"
   ]
  },
  {
   "cell_type": "code",
   "execution_count": 52,
   "metadata": {},
   "outputs": [
    {
     "name": "stdout",
     "output_type": "stream",
     "text": [
      "[-0.54402111  0.91294525 -0.98803162  0.74511316 -0.26237485]\n"
     ]
    }
   ],
   "source": [
    "print(np.sin(d)) # sin 값"
   ]
  },
  {
   "cell_type": "code",
   "execution_count": 53,
   "metadata": {},
   "outputs": [
    {
     "name": "stdout",
     "output_type": "stream",
     "text": [
      "[False False False  True  True]\n"
     ]
    }
   ],
   "source": [
    "print(d>35)"
   ]
  },
  {
   "cell_type": "markdown",
   "metadata": {},
   "source": [
    "#### numpy array의 사칙연산 방법"
   ]
  },
  {
   "cell_type": "code",
   "execution_count": 56,
   "metadata": {},
   "outputs": [
    {
     "name": "stdout",
     "output_type": "stream",
     "text": [
      "[11 22 33 44 55]\n",
      "[ 9 18 27 36 45]\n",
      "[ 10  40  90 160 250]\n",
      "[10. 10. 10. 10. 10.]\n"
     ]
    }
   ],
   "source": [
    "print(np.add(d,e))\n",
    "print(np.subtract(d,e))\n",
    "print(np.multiply(d,e))\n",
    "print(np.divide(d,e))"
   ]
  },
  {
   "cell_type": "code",
   "execution_count": 57,
   "metadata": {},
   "outputs": [
    {
     "name": "stdout",
     "output_type": "stream",
     "text": [
      "[11 22 33 44 55]\n",
      "[ 9 18 27 36 45]\n",
      "[ 10  40  90 160 250]\n",
      "[10. 10. 10. 10. 10.]\n"
     ]
    }
   ],
   "source": [
    "print(d+e)\n",
    "print(d-e)\n",
    "print(d*e)\n",
    "print(d/e)"
   ]
  },
  {
   "cell_type": "code",
   "execution_count": 62,
   "metadata": {},
   "outputs": [
    {
     "name": "stdout",
     "output_type": "stream",
     "text": [
      "[[0 0]\n",
      " [3 4]]\n",
      "[[3 4]\n",
      " [5 4]]\n"
     ]
    }
   ],
   "source": [
    "f = np.array([[0,1], [1,1]])\n",
    "g = np.array([[2,0], [3,4]])\n",
    "\n",
    "print( f*g )\n",
    "print( f@g ) # 행렬곱\n",
    "print(np.dot(f,g)) # 행렬곱\n"
   ]
  },
  {
   "cell_type": "code",
   "execution_count": 64,
   "metadata": {},
   "outputs": [
    {
     "name": "stdout",
     "output_type": "stream",
     "text": [
      "[0. 0. 0. 0. 0. 0. 0. 0. 0. 0.]\n"
     ]
    }
   ],
   "source": [
    "h = np.zeros(10)\n",
    "print(h)"
   ]
  },
  {
   "cell_type": "code",
   "execution_count": 65,
   "metadata": {},
   "outputs": [
    {
     "name": "stdout",
     "output_type": "stream",
     "text": [
      "[[0. 0. 0. 0. 0.]\n",
      " [0. 0. 0. 0. 0.]\n",
      " [0. 0. 0. 0. 0.]\n",
      " [0. 0. 0. 0. 0.]\n",
      " [0. 0. 0. 0. 0.]]\n"
     ]
    }
   ],
   "source": [
    "i = np.zeros((5,5))\n",
    "print(i)"
   ]
  },
  {
   "cell_type": "code",
   "execution_count": 66,
   "metadata": {},
   "outputs": [
    {
     "name": "stdout",
     "output_type": "stream",
     "text": [
      "[1. 1. 1. 1. 1. 1. 1. 1. 1. 1.]\n"
     ]
    }
   ],
   "source": [
    "j = np.ones(10)\n",
    "print(j)"
   ]
  },
  {
   "cell_type": "markdown",
   "metadata": {},
   "source": [
    "## np.random"
   ]
  },
  {
   "cell_type": "markdown",
   "metadata": {},
   "source": [
    "- np.random.random : 0~1 사이 난수 발생\n",
    "- np.random.randint : 균일 분포의 정수 난수 발생\n",
    "- np.random.rand : 0~1 사이 균일 분포의 난수 matrix array 생생\n",
    "- np.random.randn : 가우시안 표준 정규분포 난수, matrix array 생성\n",
    "- np.random.normal : 평균, 표준편차, sample 개수 지정해서 생성"
   ]
  },
  {
   "cell_type": "code",
   "execution_count": 69,
   "metadata": {},
   "outputs": [
    {
     "name": "stdout",
     "output_type": "stream",
     "text": [
      "<class 'numpy.ndarray'>\n",
      "<class 'numpy.ndarray'>\n",
      "[32.18130119  4.59804826 67.75687664 78.16065937  4.68168709  8.30222685\n",
      " 21.33385987 41.35056946 50.6814818   3.45051659]\n",
      "[32  4 67 78  4  8 21 41 50  3]\n"
     ]
    }
   ],
   "source": [
    "k = np.random.random(10)*100\n",
    "kk = np.array([int(i)for i in k])\n",
    "print(type(k))\n",
    "print(type(kk))\n",
    "print(k)\n",
    "print(kk)"
   ]
  },
  {
   "cell_type": "code",
   "execution_count": 71,
   "metadata": {},
   "outputs": [
    {
     "name": "stdout",
     "output_type": "stream",
     "text": [
      "19\n",
      "[[0.92098147 0.14136318]\n",
      " [0.15156496 0.28966295]\n",
      " [0.37919565 0.94742041]\n",
      " [0.40594572 0.05984849]\n",
      " [0.43954946 0.27578731]]\n"
     ]
    }
   ],
   "source": [
    "print(np.random.randint(10,20))\n",
    "print(np.random.rand(5,2))"
   ]
  },
  {
   "cell_type": "markdown",
   "metadata": {},
   "source": [
    "#### 슬라이싱"
   ]
  },
  {
   "cell_type": "code",
   "execution_count": 72,
   "metadata": {},
   "outputs": [
    {
     "name": "stdout",
     "output_type": "stream",
     "text": [
      "[10, 11, 12, 13, 14]\n",
      "[10, 12, 14]\n",
      "[10, 11, 12, 13, 14, 15, 16, 17, 18, 19]\n",
      "[15, 16, 17, 18, 19]\n",
      "[10, 11, 12, 13, 14, 15, 16, 17, 18]\n",
      "[19, 18, 17, 16, 15, 14, 13, 12, 11, 10]\n"
     ]
    }
   ],
   "source": [
    "#list\n",
    "m = [i for i in range(10,20)]\n",
    "print(m[:5])\n",
    "print(m[:5:2])\n",
    "print(m[:])\n",
    "print(m[5:])\n",
    "print(m[:-1])\n",
    "print(m[::-1])"
   ]
  },
  {
   "cell_type": "code",
   "execution_count": 102,
   "metadata": {},
   "outputs": [
    {
     "name": "stdout",
     "output_type": "stream",
     "text": [
      "[10 11 12 13 14]\n",
      "[10 12 14]\n",
      "[10 11 12 13 14 15 16 17]\n"
     ]
    }
   ],
   "source": [
    "w = np.arange( 10, 20 )\n",
    "print( w[0:5] )\n",
    "print( w[0:5:2] )\n",
    "print( w[:-2] )"
   ]
  },
  {
   "cell_type": "code",
   "execution_count": 75,
   "metadata": {},
   "outputs": [
    {
     "name": "stdout",
     "output_type": "stream",
     "text": [
      "13\n",
      "[[1, 2, 3, 4, 5], [6, 7, 8, 9, 10], [11, 12, 13, 14, 15]]\n",
      "[11, 12, 13, 14, 15]\n",
      "[6, 7]\n"
     ]
    }
   ],
   "source": [
    "r = [[1,2,3,4,5],[6,7,8,9,10],[11,12,13,14,15]]\n",
    "print(r[2][2])\n",
    "print(r[:][:])\n",
    "print(r[2][:])\n",
    "print(r[1][:2])"
   ]
  },
  {
   "cell_type": "code",
   "execution_count": 76,
   "metadata": {},
   "outputs": [
    {
     "name": "stdout",
     "output_type": "stream",
     "text": [
      "[[1, 2, 3, 4, 5], [6, 7, 8, 9, 10]]\n"
     ]
    }
   ],
   "source": [
    "print(r[:2][:2])\n",
    "#1,2, /6,7만 나오는거 아냐? 아님!\n",
    "#r[:2]를 계산하면 0,1 행이 나온다\n",
    "#거기서 또 0,1의 행을 뽑으라고 하는것임!! 결국 전체가 나옴\n",
    "# 결국 (r[:2])[:2] 인것!"
   ]
  },
  {
   "cell_type": "code",
   "execution_count": 78,
   "metadata": {},
   "outputs": [
    {
     "name": "stdout",
     "output_type": "stream",
     "text": [
      "[[ 1  2  3  4  5]\n",
      " [ 6  7  8  9 10]\n",
      " [11 12 13 14 15]]\n"
     ]
    }
   ],
   "source": [
    "# np.array\n",
    "s = np.arange(1,16).reshape(3,5)\n",
    "print(s)"
   ]
  },
  {
   "cell_type": "code",
   "execution_count": 79,
   "metadata": {},
   "outputs": [
    {
     "name": "stdout",
     "output_type": "stream",
     "text": [
      "13\n",
      "[[ 1  2  3  4  5]\n",
      " [ 6  7  8  9 10]\n",
      " [11 12 13 14 15]]\n",
      "[11 12 13 14 15]\n",
      "[6 7]\n"
     ]
    }
   ],
   "source": [
    "print(s[2][2])\n",
    "print(s[:][:])\n",
    "print(s[2][:])\n",
    "print(s[1][:2])"
   ]
  },
  {
   "cell_type": "code",
   "execution_count": 81,
   "metadata": {},
   "outputs": [
    {
     "name": "stdout",
     "output_type": "stream",
     "text": [
      "[[ 1  2  3  4  5]\n",
      " [ 6  7  8  9 10]]\n"
     ]
    }
   ],
   "source": [
    "print(s[:2][:2])"
   ]
  },
  {
   "cell_type": "code",
   "execution_count": 82,
   "metadata": {},
   "outputs": [
    {
     "name": "stdout",
     "output_type": "stream",
     "text": [
      "[[1 2]\n",
      " [6 7]]\n"
     ]
    }
   ],
   "source": [
    "print(s[:2,:2])\n",
    "#위에서 내가 원했던 부분 행렬만 뽑을 수 있음!!!!!"
   ]
  },
  {
   "cell_type": "code",
   "execution_count": 83,
   "metadata": {},
   "outputs": [
    {
     "name": "stdout",
     "output_type": "stream",
     "text": [
      "[[15 14 13 12 11]\n",
      " [10  9  8  7  6]\n",
      " [ 5  4  3  2  1]]\n"
     ]
    }
   ],
   "source": [
    "print(s[::-1,::-1])"
   ]
  },
  {
   "cell_type": "code",
   "execution_count": 84,
   "metadata": {},
   "outputs": [
    {
     "name": "stdout",
     "output_type": "stream",
     "text": [
      "[[ 1  2  3  4  5]\n",
      " [ 6  7  8  9 10]\n",
      " [11 12 13 14 15]]\n"
     ]
    }
   ],
   "source": [
    "print(s[:,:])"
   ]
  },
  {
   "cell_type": "code",
   "execution_count": 85,
   "metadata": {},
   "outputs": [
    {
     "name": "stdout",
     "output_type": "stream",
     "text": [
      "[[1 2 3 4]\n",
      " [6 7 8 9]]\n"
     ]
    }
   ],
   "source": [
    "print(s[:-1,:-1])"
   ]
  },
  {
   "cell_type": "code",
   "execution_count": 87,
   "metadata": {},
   "outputs": [
    {
     "name": "stdout",
     "output_type": "stream",
     "text": [
      "13\n"
     ]
    }
   ],
   "source": [
    "print(s[2,2])"
   ]
  },
  {
   "cell_type": "code",
   "execution_count": 88,
   "metadata": {},
   "outputs": [
    {
     "name": "stdout",
     "output_type": "stream",
     "text": [
      "[[ 1  2  3  4  5]\n",
      " [11 12 13 14 15]]\n"
     ]
    }
   ],
   "source": [
    "print(s[[0,2]])"
   ]
  },
  {
   "cell_type": "code",
   "execution_count": 89,
   "metadata": {},
   "outputs": [
    {
     "name": "stdout",
     "output_type": "stream",
     "text": [
      "[[ 2  4  5]\n",
      " [ 7  9 10]\n",
      " [12 14 15]]\n"
     ]
    }
   ],
   "source": [
    "print(s[:,[1,3,4]])"
   ]
  },
  {
   "cell_type": "code",
   "execution_count": 94,
   "metadata": {},
   "outputs": [
    {
     "name": "stdout",
     "output_type": "stream",
     "text": [
      "[ 4 15]\n"
     ]
    }
   ],
   "source": [
    "print(s[[0,2],[3,4]])\n",
    "# 0행의 3열, 2행의 4열을 뽑아줌"
   ]
  },
  {
   "cell_type": "code",
   "execution_count": 97,
   "metadata": {},
   "outputs": [
    {
     "name": "stdout",
     "output_type": "stream",
     "text": [
      "[[ 1  2  3  4  5]\n",
      " [ 6  7  8  9 10]\n",
      " [11 12 13 14 15]]\n",
      "[[ 1  6 11]\n",
      " [ 2  7 12]\n",
      " [ 3  8 13]\n",
      " [ 4  9 14]\n",
      " [ 5 10 15]]\n"
     ]
    }
   ],
   "source": [
    "print(s)\n",
    "print(s.T)"
   ]
  },
  {
   "cell_type": "markdown",
   "metadata": {},
   "source": [
    "## numpy 데이터의 결합/분리"
   ]
  },
  {
   "cell_type": "code",
   "execution_count": 101,
   "metadata": {},
   "outputs": [
    {
     "name": "stdout",
     "output_type": "stream",
     "text": [
      "(1, 4)\n",
      "(2, 5)\n",
      "(3, 6)\n"
     ]
    }
   ],
   "source": [
    "a = [1, 2, 3]\n",
    "b = [4, 5, 6]\n",
    "c = zip(a,b)\n",
    "for i in c:\n",
    "    print(i)"
   ]
  },
  {
   "cell_type": "code",
   "execution_count": 105,
   "metadata": {},
   "outputs": [
    {
     "name": "stdout",
     "output_type": "stream",
     "text": [
      "[[39. 76.]\n",
      " [88. 88.]]\n",
      "[[66.  5.]\n",
      " [ 0. 62.]]\n"
     ]
    }
   ],
   "source": [
    "c = np.floor(np.random.rand(2,2)*100)\n",
    "print(c)\n",
    "d = np.floor(np.random.rand(2,2)*100)\n",
    "print(d)"
   ]
  },
  {
   "cell_type": "code",
   "execution_count": 111,
   "metadata": {},
   "outputs": [
    {
     "name": "stdout",
     "output_type": "stream",
     "text": [
      "[[105.  81.]\n",
      " [ 88. 150.]]\n",
      "[[39. 76. 66.  5.]\n",
      " [88. 88.  0. 62.]]\n",
      "[[39. 76.]\n",
      " [88. 88.]\n",
      " [66.  5.]\n",
      " [ 0. 62.]]\n",
      "[[41. 78.]\n",
      " [90. 90.]]\n"
     ]
    }
   ],
   "source": [
    "# 각 요소들을 더해버림!\n",
    "print(c+d)\n",
    "\n",
    "# np.array를 합쳐주려면 hstack, vstack 사용\n",
    "print(np.hstack((c,d)))\n",
    "print(np.vstack((c,d)))\n",
    "print(c+2)"
   ]
  },
  {
   "cell_type": "code",
   "execution_count": 113,
   "metadata": {},
   "outputs": [
    {
     "name": "stdout",
     "output_type": "stream",
     "text": [
      "[[51. 56. 26. 96. 98. 66. 12.  7. 36. 62. 87. 28. 54. 11. 41.]\n",
      " [65. 35. 24.  5. 13. 24. 94. 57. 64. 31. 35. 50. 29. 59. 48.]]\n"
     ]
    }
   ],
   "source": [
    "e = np.floor(np.random.rand(2,15)*100)\n",
    "print(e)"
   ]
  },
  {
   "cell_type": "code",
   "execution_count": 116,
   "metadata": {},
   "outputs": [
    {
     "name": "stdout",
     "output_type": "stream",
     "text": [
      "[[51. 56. 26. 96. 98.]\n",
      " [65. 35. 24.  5. 13.]]\n",
      "[[66. 12.  7. 36. 62.]\n",
      " [24. 94. 57. 64. 31.]]\n",
      "[[87. 28. 54. 11. 41.]\n",
      " [35. 50. 29. 59. 48.]]\n"
     ]
    }
   ],
   "source": [
    "a = np.hsplit(e,3) # e를 3개로 잘라라\n",
    "for arr in a:\n",
    "    print(arr)"
   ]
  },
  {
   "cell_type": "code",
   "execution_count": 117,
   "metadata": {},
   "outputs": [
    {
     "name": "stdout",
     "output_type": "stream",
     "text": [
      "[[51. 56. 26.]\n",
      " [65. 35. 24.]]\n",
      "[[96. 98. 66. 12.]\n",
      " [ 5. 13. 24. 94.]]\n",
      "[[ 7. 36. 62. 87. 28. 54. 11. 41.]\n",
      " [57. 64. 31. 35. 50. 29. 59. 48.]]\n"
     ]
    }
   ],
   "source": [
    "b = np.hsplit(e, (3,7)) # e를 [:3][3:7][7:]로 잘라라\n",
    "for arr in b:\n",
    "    print(arr)"
   ]
  },
  {
   "cell_type": "code",
   "execution_count": 118,
   "metadata": {},
   "outputs": [
    {
     "name": "stdout",
     "output_type": "stream",
     "text": [
      "[[51. 56. 26.]\n",
      " [65. 35. 24.]]\n",
      "[[96. 98. 66. 12.]\n",
      " [ 5. 13. 24. 94.]]\n",
      "[[ 7. 36. 62. 87. 28.]\n",
      " [57. 64. 31. 35. 50.]]\n",
      "[[54. 11. 41.]\n",
      " [29. 59. 48.]]\n"
     ]
    }
   ],
   "source": [
    "c = np.hsplit(e, (3,7,12)) # e를 [:3][3:7][7:12][12:로 잘라라\n",
    "for arr in c:\n",
    "    print(arr)"
   ]
  },
  {
   "cell_type": "markdown",
   "metadata": {},
   "source": [
    "### 삼함연산"
   ]
  },
  {
   "cell_type": "code",
   "execution_count": 123,
   "metadata": {},
   "outputs": [],
   "source": [
    "f = np.array([1,2,3,4,5])\n",
    "g = np.array(['a','b','c','d','e'])\n",
    "h = np.array([True, False, False, True, True])"
   ]
  },
  {
   "cell_type": "code",
   "execution_count": 124,
   "metadata": {},
   "outputs": [
    {
     "name": "stdout",
     "output_type": "stream",
     "text": [
      "1 a True\n",
      "2 b False\n",
      "3 c False\n",
      "4 d True\n",
      "5 e True\n"
     ]
    }
   ],
   "source": [
    "for x,y,z in zip(f,g,h):\n",
    "    print(x, y, z)"
   ]
  },
  {
   "cell_type": "code",
   "execution_count": 126,
   "metadata": {},
   "outputs": [
    {
     "name": "stdout",
     "output_type": "stream",
     "text": [
      "[1, 'b', 'c', 4, 5]\n"
     ]
    }
   ],
   "source": [
    "print([x if z else y for x, y, z in zip(f, g, h)])\n",
    "# z가 거짓이면 y, 참이면 x를 출력하라!"
   ]
  },
  {
   "cell_type": "code",
   "execution_count": 127,
   "metadata": {},
   "outputs": [
    {
     "name": "stdout",
     "output_type": "stream",
     "text": [
      "['1' 'b' 'c' '4' '5']\n"
     ]
    }
   ],
   "source": [
    "print(np.where(h, f, g)) #삼함연산을 쉽게 해줌!\n",
    "# h의 값 TF에 따라서 T면 f, F면 g"
   ]
  },
  {
   "cell_type": "code",
   "execution_count": 128,
   "metadata": {},
   "outputs": [
    {
     "name": "stdout",
     "output_type": "stream",
     "text": [
      "['3보다 작다' '3보다 작다' '3보다 크다' '3보다 크다' '3보다 크다']\n"
     ]
    }
   ],
   "source": [
    "print(np.where(f < 3, \"3보다 작다\", \"3보다 크다\"))"
   ]
  },
  {
   "cell_type": "code",
   "execution_count": 129,
   "metadata": {},
   "outputs": [
    {
     "name": "stdout",
     "output_type": "stream",
     "text": [
      "['True' 'False' 'False' 'True' 'True']\n"
     ]
    }
   ],
   "source": [
    "print(np.where(h, \"True\", \"False\"))"
   ]
  },
  {
   "cell_type": "code",
   "execution_count": 130,
   "metadata": {},
   "outputs": [
    {
     "name": "stdout",
     "output_type": "stream",
     "text": [
      "[0 1 2 3 4 5 6 7 8 9]\n"
     ]
    }
   ],
   "source": [
    "i = np.arange(10)\n",
    "np.save('i.npy',i)\n",
    "ii = np.load('i.npy')\n",
    "print(ii)"
   ]
  },
  {
   "cell_type": "code",
   "execution_count": 133,
   "metadata": {},
   "outputs": [
    {
     "name": "stdout",
     "output_type": "stream",
     "text": [
      "<class 'numpy.lib.npyio.NpzFile'>\n",
      "[1. 1. 1. 1. 1. 1. 1. 1. 1. 1.]\n",
      "[0 1 2 3 4 5 6 7 8 9]\n"
     ]
    }
   ],
   "source": [
    "j - np.arange(10)\n",
    "k = np.arange(10)\n",
    "np.savez('jk.npz', x = j, y = k)\n",
    "jk = np.load('jk.npz')\n",
    "print(type(jk))\n",
    "print(jk['x'])\n",
    "print(jk['y'])"
   ]
  }
 ],
 "metadata": {
  "kernelspec": {
   "display_name": "Python 3",
   "language": "python",
   "name": "python3"
  },
  "language_info": {
   "codemirror_mode": {
    "name": "ipython",
    "version": 3
   },
   "file_extension": ".py",
   "mimetype": "text/x-python",
   "name": "python",
   "nbconvert_exporter": "python",
   "pygments_lexer": "ipython3",
   "version": "3.9.6"
  }
 },
 "nbformat": 4,
 "nbformat_minor": 2
}
