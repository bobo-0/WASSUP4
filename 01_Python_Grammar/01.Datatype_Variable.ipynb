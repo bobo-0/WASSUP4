{
 "cells": [
  {
   "cell_type": "markdown",
   "id": "bedda337-de42-420d-a8fd-2b6200d3b38d",
   "metadata": {
    "jp-MarkdownHeadingCollapsed": true
   },
   "source": [
    "# 1. 변수"
   ]
  },
  {
   "cell_type": "markdown",
   "id": "c37a2cd9-f5dd-4cd9-83f1-2b5a8de339fa",
   "metadata": {
    "jp-MarkdownHeadingCollapsed": true
   },
   "source": [
    "## 자로형의 값을 저장하는 공간, 변수"
   ]
  },
  {
   "cell_type": "code",
   "execution_count": 1,
   "id": "37203d8b-2367-418e-ac72-92a5e885bff8",
   "metadata": {},
   "outputs": [
    {
     "name": "stdout",
     "output_type": "stream",
     "text": [
      "1\n"
     ]
    }
   ],
   "source": [
    "a = 1\n",
    "print(a)"
   ]
  },
  {
   "cell_type": "code",
   "execution_count": 2,
   "id": "65d87c9f-ce60-4408-8bbf-9ffb7c4e7007",
   "metadata": {},
   "outputs": [
    {
     "data": {
      "text/plain": [
       "'python'"
      ]
     },
     "execution_count": 2,
     "metadata": {},
     "output_type": "execute_result"
    }
   ],
   "source": [
    "b = 'python'\n",
    "b"
   ]
  },
  {
   "cell_type": "code",
   "execution_count": 3,
   "id": "83397296-73be-4835-94df-5cd6ee11a23e",
   "metadata": {},
   "outputs": [
    {
     "data": {
      "text/plain": [
       "[1, 2, 3]"
      ]
     },
     "execution_count": 3,
     "metadata": {},
     "output_type": "execute_result"
    }
   ],
   "source": [
    "c = [1, 2, 3]\n",
    "c"
   ]
  },
  {
   "cell_type": "markdown",
   "id": "68cf6152-4c79-4f62-8f01-5514a3a1960a",
   "metadata": {
    "jp-MarkdownHeadingCollapsed": true
   },
   "source": [
    "## 숫자형"
   ]
  },
  {
   "cell_type": "code",
   "execution_count": 4,
   "id": "87251eda-b64d-4b4c-bc80-d85aeac647c1",
   "metadata": {},
   "outputs": [
    {
     "data": {
      "text/plain": [
       "123"
      ]
     },
     "execution_count": 4,
     "metadata": {},
     "output_type": "execute_result"
    }
   ],
   "source": [
    "# 정수형\n",
    "a = 123\n",
    "a"
   ]
  },
  {
   "cell_type": "code",
   "execution_count": 6,
   "id": "0fb03b3c-69e2-475d-8cd4-7b0f6c216606",
   "metadata": {},
   "outputs": [
    {
     "data": {
      "text/plain": [
       "-178"
      ]
     },
     "execution_count": 6,
     "metadata": {},
     "output_type": "execute_result"
    }
   ],
   "source": [
    "a = -178\n",
    "a"
   ]
  },
  {
   "cell_type": "code",
   "execution_count": 7,
   "id": "29953c24-139a-42ab-b42d-8f5ee92f4f33",
   "metadata": {},
   "outputs": [
    {
     "data": {
      "text/plain": [
       "0"
      ]
     },
     "execution_count": 7,
     "metadata": {},
     "output_type": "execute_result"
    }
   ],
   "source": [
    "a = 0\n",
    "a"
   ]
  },
  {
   "cell_type": "code",
   "execution_count": 8,
   "id": "3aa7622f-aded-4014-87b3-0d6177bb251d",
   "metadata": {},
   "outputs": [
    {
     "data": {
      "text/plain": [
       "(1.2, -3.45)"
      ]
     },
     "execution_count": 8,
     "metadata": {},
     "output_type": "execute_result"
    }
   ],
   "source": [
    "# 실수형\n",
    "a = 1.2\n",
    "b = -3.45\n",
    "a,b"
   ]
  },
  {
   "cell_type": "code",
   "execution_count": 9,
   "id": "4e8d7b5c-cc79-4257-af44-0399c5e72e9b",
   "metadata": {},
   "outputs": [
    {
     "data": {
      "text/plain": [
       "42400000000.0"
      ]
     },
     "execution_count": 9,
     "metadata": {},
     "output_type": "execute_result"
    }
   ],
   "source": [
    "a = 4.24E10\n",
    "a"
   ]
  },
  {
   "cell_type": "code",
   "execution_count": 10,
   "id": "dddbc2e6-91ea-47bc-ad6f-b7192b5531ca",
   "metadata": {},
   "outputs": [
    {
     "data": {
      "text/plain": [
       "4.24e-10"
      ]
     },
     "execution_count": 10,
     "metadata": {},
     "output_type": "execute_result"
    }
   ],
   "source": [
    "a = 4.24E-10\n",
    "a"
   ]
  },
  {
   "cell_type": "code",
   "execution_count": 11,
   "id": "98b78141-c600-44cb-af06-0aeae1cbd680",
   "metadata": {},
   "outputs": [
    {
     "data": {
      "text/plain": [
       "575"
      ]
     },
     "execution_count": 11,
     "metadata": {},
     "output_type": "execute_result"
    }
   ],
   "source": [
    "a = 0o1077\n",
    "a"
   ]
  },
  {
   "cell_type": "code",
   "execution_count": 12,
   "id": "606907c5-de64-4588-aaf5-f3263b86f5ff",
   "metadata": {},
   "outputs": [
    {
     "data": {
      "text/plain": [
       "4215"
      ]
     },
     "execution_count": 12,
     "metadata": {},
     "output_type": "execute_result"
    }
   ],
   "source": [
    "a = 0x1077\n",
    "a"
   ]
  },
  {
   "cell_type": "markdown",
   "id": "a0349ddd-8fe5-4fab-8cf3-866772744284",
   "metadata": {
    "jp-MarkdownHeadingCollapsed": true
   },
   "source": [
    "## 문자열\n",
    "\"Life is too short, You need Python\"  \n",
    "\"a\"  \n",
    "\"123\""
   ]
  },
  {
   "cell_type": "code",
   "execution_count": 31,
   "id": "6d9669e4-3343-40e5-aedc-efd122e93f5a",
   "metadata": {},
   "outputs": [
    {
     "data": {
      "text/plain": [
       "'hello world'"
      ]
     },
     "execution_count": 31,
     "metadata": {},
     "output_type": "execute_result"
    }
   ],
   "source": [
    "\"hello world\""
   ]
  },
  {
   "cell_type": "code",
   "execution_count": 32,
   "id": "6c92c164-12bb-4dae-9f61-470d12ddd621",
   "metadata": {},
   "outputs": [
    {
     "data": {
      "text/plain": [
       "'python is fun'"
      ]
     },
     "execution_count": 32,
     "metadata": {},
     "output_type": "execute_result"
    }
   ],
   "source": [
    "'python is fun'"
   ]
  },
  {
   "cell_type": "code",
   "execution_count": 33,
   "id": "7937075c-0771-457d-9eba-10b91262253c",
   "metadata": {},
   "outputs": [
    {
     "data": {
      "text/plain": [
       "'Life is too short, You need python'"
      ]
     },
     "execution_count": 33,
     "metadata": {},
     "output_type": "execute_result"
    }
   ],
   "source": [
    "\"\"\"Life is too short, You need python\"\"\""
   ]
  },
  {
   "cell_type": "code",
   "execution_count": 35,
   "id": "e80cce68-5345-4455-bf56-413eee5f7913",
   "metadata": {},
   "outputs": [
    {
     "data": {
      "text/plain": [
       "'Life is too short, You need python'"
      ]
     },
     "execution_count": 35,
     "metadata": {},
     "output_type": "execute_result"
    }
   ],
   "source": [
    "'''Life is too short, You need python'''"
   ]
  },
  {
   "cell_type": "markdown",
   "id": "b17be689-38fa-4873-b28b-c79d8ad7557b",
   "metadata": {},
   "source": [
    "### 문자열에 작은 따옴표 포함하기\n",
    "\n",
    "Python's favorite food is perl"
   ]
  },
  {
   "cell_type": "code",
   "execution_count": 36,
   "id": "827da988-5519-466d-8826-85205645ea87",
   "metadata": {},
   "outputs": [
    {
     "data": {
      "text/plain": [
       "\"Python's favorite food is perl\""
      ]
     },
     "execution_count": 36,
     "metadata": {},
     "output_type": "execute_result"
    }
   ],
   "source": [
    "'''Python's favorite food is perl'''"
   ]
  },
  {
   "cell_type": "code",
   "execution_count": 37,
   "id": "8915b0e6-db31-4806-a56f-057f5e538f45",
   "metadata": {},
   "outputs": [
    {
     "data": {
      "text/plain": [
       "\"Python's favorite food is perl\""
      ]
     },
     "execution_count": 37,
     "metadata": {},
     "output_type": "execute_result"
    }
   ],
   "source": [
    "\"Python's favorite food is perl\""
   ]
  },
  {
   "cell_type": "markdown",
   "id": "99a623c8-e8ae-4559-96e5-5ceaf8f17a39",
   "metadata": {
    "jp-MarkdownHeadingCollapsed": true
   },
   "source": [
    "### 역슬래시를 사용해 작은 따옴표와 큰 따옴표를 문자열에 포함하기\n",
    "\n",
    "food = 'python\\'s favorite food is perl'  \n",
    "say = \"\\\"python is very easy.\\\" he says.\""
   ]
  },
  {
   "cell_type": "code",
   "execution_count": 38,
   "id": "9cdc38c2-0d85-4d93-9f8b-1f7b9d105afd",
   "metadata": {},
   "outputs": [
    {
     "data": {
      "text/plain": [
       "\"Python's favorite food is perl\""
      ]
     },
     "execution_count": 38,
     "metadata": {},
     "output_type": "execute_result"
    }
   ],
   "source": [
    "'Python\\'s favorite food is perl'"
   ]
  },
  {
   "cell_type": "markdown",
   "id": "89e128d6-1dd3-4ba6-bf32-29505ffebb5d",
   "metadata": {
    "jp-MarkdownHeadingCollapsed": true
   },
   "source": [
    "### 여러줄인 문자열을 변수에 대입하고 싶을 때"
   ]
  },
  {
   "cell_type": "code",
   "execution_count": 41,
   "id": "99cd306f-1c24-422b-8f02-3eb22ad92f52",
   "metadata": {},
   "outputs": [
    {
     "name": "stdout",
     "output_type": "stream",
     "text": [
      "Life is too short \n",
      " You need Python\n"
     ]
    }
   ],
   "source": [
    "multiline = \"Life is too short \\n You need Python\"\n",
    "print(multiline)"
   ]
  },
  {
   "cell_type": "code",
   "execution_count": 45,
   "id": "fb16977b-050b-4129-9b4a-adbbdb0a3332",
   "metadata": {},
   "outputs": [
    {
     "name": "stdout",
     "output_type": "stream",
     "text": [
      "Life is\n",
      "too short\n",
      "You need\n",
      "Python\n"
     ]
    }
   ],
   "source": [
    "multiline = \"\"\"Life is\n",
    "too short\n",
    "You need\n",
    "Python\"\"\"\n",
    "\n",
    "print(multiline)"
   ]
  },
  {
   "cell_type": "code",
   "execution_count": 47,
   "id": "620944ab-26c0-4273-9f63-80d11b925ac3",
   "metadata": {},
   "outputs": [
    {
     "data": {
      "text/plain": [
       "34"
      ]
     },
     "execution_count": 47,
     "metadata": {},
     "output_type": "execute_result"
    }
   ],
   "source": [
    "a = 'Life is too short, You need python'\n",
    "len(a)"
   ]
  },
  {
   "cell_type": "markdown",
   "id": "76ca0019-d2da-4788-ba48-cffdd928525e",
   "metadata": {
    "jp-MarkdownHeadingCollapsed": true
   },
   "source": [
    "### 문자열 인덱싱과 슬라이싱"
   ]
  },
  {
   "cell_type": "markdown",
   "id": "f5687117-9b79-4fc1-b26d-11b98c663cfd",
   "metadata": {},
   "source": [
    "#### 인덱싱"
   ]
  },
  {
   "cell_type": "code",
   "execution_count": 63,
   "id": "115ede78-6a39-42d7-8e54-54e042b907a6",
   "metadata": {},
   "outputs": [],
   "source": [
    "a = 'Life is too short, You need python'"
   ]
  },
  {
   "cell_type": "code",
   "execution_count": 64,
   "id": "4e7b4d04-fd01-40d8-bd22-43a02324925f",
   "metadata": {},
   "outputs": [
    {
     "data": {
      "text/plain": [
       "','"
      ]
     },
     "execution_count": 64,
     "metadata": {},
     "output_type": "execute_result"
    }
   ],
   "source": [
    "a[17]"
   ]
  },
  {
   "cell_type": "code",
   "execution_count": 65,
   "id": "428bcd2e-b38d-4cf0-9370-a7cb629f75c3",
   "metadata": {},
   "outputs": [
    {
     "data": {
      "text/plain": [
       "'n'"
      ]
     },
     "execution_count": 65,
     "metadata": {},
     "output_type": "execute_result"
    }
   ],
   "source": [
    "a[-1]"
   ]
  },
  {
   "cell_type": "code",
   "execution_count": 66,
   "id": "01c9ca63-d883-4649-8beb-46f6e63799c2",
   "metadata": {},
   "outputs": [
    {
     "data": {
      "text/plain": [
       "'p'"
      ]
     },
     "execution_count": 66,
     "metadata": {},
     "output_type": "execute_result"
    }
   ],
   "source": [
    "a[-6]"
   ]
  },
  {
   "cell_type": "markdown",
   "id": "5dfab02e-8be8-471b-99ee-24ec0e2c6b49",
   "metadata": {},
   "source": [
    "#### 슬라이싱"
   ]
  },
  {
   "cell_type": "code",
   "execution_count": 67,
   "id": "955a726b-f001-465a-ad26-e35333f538d3",
   "metadata": {},
   "outputs": [
    {
     "data": {
      "text/plain": [
       "'Life'"
      ]
     },
     "execution_count": 67,
     "metadata": {},
     "output_type": "execute_result"
    }
   ],
   "source": [
    "a[0:4]\n"
   ]
  },
  {
   "cell_type": "code",
   "execution_count": 70,
   "id": "9fbf2de5-7953-4753-8666-2bf3ff4e61e0",
   "metadata": {},
   "outputs": [
    {
     "data": {
      "text/plain": [
       "'short'"
      ]
     },
     "execution_count": 70,
     "metadata": {},
     "output_type": "execute_result"
    }
   ],
   "source": [
    "a[12:17]"
   ]
  },
  {
   "cell_type": "code",
   "execution_count": 71,
   "id": "33c9ea24-c5ec-4dd4-9b81-c884680d3673",
   "metadata": {},
   "outputs": [
    {
     "data": {
      "text/plain": [
       "'short, You need python'"
      ]
     },
     "execution_count": 71,
     "metadata": {},
     "output_type": "execute_result"
    }
   ],
   "source": [
    "a[12:]"
   ]
  },
  {
   "cell_type": "code",
   "execution_count": 73,
   "id": "6a1e1c65-8a99-4ffc-992c-54fb998ae40d",
   "metadata": {},
   "outputs": [
    {
     "data": {
      "text/plain": [
       "'Life is too short'"
      ]
     },
     "execution_count": 73,
     "metadata": {},
     "output_type": "execute_result"
    }
   ],
   "source": [
    "a[:17]"
   ]
  },
  {
   "cell_type": "code",
   "execution_count": 74,
   "id": "01d31b93-36ab-42dc-b070-68e3e61b08d6",
   "metadata": {},
   "outputs": [
    {
     "data": {
      "text/plain": [
       "'Life is too short, You need python'"
      ]
     },
     "execution_count": 74,
     "metadata": {},
     "output_type": "execute_result"
    }
   ],
   "source": [
    "a[:]"
   ]
  },
  {
   "cell_type": "code",
   "execution_count": 76,
   "id": "2a29a28c-0a23-4417-93d3-9aa705ff2e51",
   "metadata": {},
   "outputs": [
    {
     "data": {
      "text/plain": [
       "'You need'"
      ]
     },
     "execution_count": 76,
     "metadata": {},
     "output_type": "execute_result"
    }
   ],
   "source": [
    "a[19:-7]"
   ]
  },
  {
   "cell_type": "code",
   "execution_count": 80,
   "id": "54ba101a-b442-44a5-b019-099ed1101bb2",
   "metadata": {},
   "outputs": [
    {
     "data": {
      "text/plain": [
       "('20240904', 'Sunny')"
      ]
     },
     "execution_count": 80,
     "metadata": {},
     "output_type": "execute_result"
    }
   ],
   "source": [
    "a = \"20240904Sunny\"\n",
    "date = a[:-5]\n",
    "weather = a[8:]\n",
    "date, weather"
   ]
  },
  {
   "cell_type": "code",
   "execution_count": 82,
   "id": "654606ac-f3c1-43cc-a421-2902aa5422f3",
   "metadata": {},
   "outputs": [
    {
     "data": {
      "text/plain": [
       "('2024', '0904')"
      ]
     },
     "execution_count": 82,
     "metadata": {},
     "output_type": "execute_result"
    }
   ],
   "source": [
    "year = date[:4]\n",
    "day = date[4:]\n",
    "year, day"
   ]
  },
  {
   "cell_type": "markdown",
   "id": "9c993f27-5ac8-444d-b373-e4fa30cee36a",
   "metadata": {
    "jp-MarkdownHeadingCollapsed": true
   },
   "source": [
    "### 문자열 값 변경\n",
    "\n",
    "불가능하다 ! immutable 함!"
   ]
  },
  {
   "cell_type": "code",
   "execution_count": 84,
   "id": "9909f45e-bb10-4e95-b3e3-e63fa9687442",
   "metadata": {},
   "outputs": [
    {
     "ename": "TypeError",
     "evalue": "'str' object does not support item assignment",
     "output_type": "error",
     "traceback": [
      "\u001b[0;31m---------------------------------------------------------------------------\u001b[0m",
      "\u001b[0;31mTypeError\u001b[0m                                 Traceback (most recent call last)",
      "Cell \u001b[0;32mIn[84], line 2\u001b[0m\n\u001b[1;32m      1\u001b[0m a \u001b[38;5;241m=\u001b[39m \u001b[38;5;124m\"\u001b[39m\u001b[38;5;124mPithon\u001b[39m\u001b[38;5;124m\"\u001b[39m\n\u001b[0;32m----> 2\u001b[0m \u001b[43ma\u001b[49m\u001b[43m[\u001b[49m\u001b[38;5;241;43m1\u001b[39;49m\u001b[43m]\u001b[49m\u001b[38;5;241m=\u001b[39m\u001b[38;5;124m'\u001b[39m\u001b[38;5;124my\u001b[39m\u001b[38;5;124m'\u001b[39m\n",
      "\u001b[0;31mTypeError\u001b[0m: 'str' object does not support item assignment"
     ]
    }
   ],
   "source": [
    "a = \"Pithon\"\n",
    "a[1]='y'"
   ]
  },
  {
   "cell_type": "code",
   "execution_count": 85,
   "id": "6cd0eef0-809e-4210-be6a-d7f9f4c67b55",
   "metadata": {},
   "outputs": [
    {
     "data": {
      "text/plain": [
       "'Python'"
      ]
     },
     "execution_count": 85,
     "metadata": {},
     "output_type": "execute_result"
    }
   ],
   "source": [
    "b = a[0]+'y'+a[2:]\n",
    "b"
   ]
  },
  {
   "cell_type": "markdown",
   "id": "6f1e0ada-b4af-423f-b01d-9f250e271ac4",
   "metadata": {},
   "source": [
    "### 문자열 Formating"
   ]
  },
  {
   "cell_type": "code",
   "execution_count": 86,
   "id": "68573d15-f85b-492d-9c57-f8928f5ccb81",
   "metadata": {},
   "outputs": [
    {
     "data": {
      "text/plain": [
       "'I ate 3 apples'"
      ]
     },
     "execution_count": 86,
     "metadata": {},
     "output_type": "execute_result"
    }
   ],
   "source": [
    "\"I ate %d apples\" %3"
   ]
  },
  {
   "cell_type": "code",
   "execution_count": 88,
   "id": "e762d426-9817-4caf-b1b9-2f0509311fb8",
   "metadata": {},
   "outputs": [
    {
     "data": {
      "text/plain": [
       "'I ate five apples'"
      ]
     },
     "execution_count": 88,
     "metadata": {},
     "output_type": "execute_result"
    }
   ],
   "source": [
    "\"I ate %s apples\" %'five'"
   ]
  },
  {
   "cell_type": "code",
   "execution_count": 89,
   "id": "77b450c5-98be-4582-8bee-3154f80f0588",
   "metadata": {},
   "outputs": [
    {
     "data": {
      "text/plain": [
       "'I ate 3 apples'"
      ]
     },
     "execution_count": 89,
     "metadata": {},
     "output_type": "execute_result"
    }
   ],
   "source": [
    "number = 3\n",
    "\"I ate %d apples\" %number"
   ]
  },
  {
   "cell_type": "code",
   "execution_count": 92,
   "id": "9225375d-cf4d-495a-80d5-ee3a4242955e",
   "metadata": {},
   "outputs": [
    {
     "data": {
      "text/plain": [
       "'I ate 10 apples. so I was sick for three days'"
      ]
     },
     "execution_count": 92,
     "metadata": {},
     "output_type": "execute_result"
    }
   ],
   "source": [
    "number = 10\n",
    "day = \"three\"\n",
    "\"I ate %d apples. so I was sick for %s days\" %(number, day)"
   ]
  },
  {
   "cell_type": "code",
   "execution_count": 94,
   "id": "e13d9577-775c-42c5-9de6-fb0b86967c47",
   "metadata": {},
   "outputs": [
    {
     "data": {
      "text/plain": [
       "'Error is 98%'"
      ]
     },
     "execution_count": 94,
     "metadata": {},
     "output_type": "execute_result"
    }
   ],
   "source": [
    "# Error us 98%\n",
    "\"Error is %d%%\" %98\n"
   ]
  },
  {
   "cell_type": "code",
   "execution_count": 95,
   "id": "d9009fa0-430b-4f26-930e-324fcc43817d",
   "metadata": {},
   "outputs": [
    {
     "data": {
      "text/plain": [
       "'3.24'"
      ]
     },
     "execution_count": 95,
     "metadata": {},
     "output_type": "execute_result"
    }
   ],
   "source": [
    "# 소수점 표현하기\n",
    "\"%0.2f\" %3.241592"
   ]
  },
  {
   "cell_type": "markdown",
   "id": "3a15b98a-bff0-4891-bd3b-0a450b3b2b29",
   "metadata": {
    "jp-MarkdownHeadingCollapsed": true
   },
   "source": [
    "#### 포맷 함수를 사용한 포맷팅"
   ]
  },
  {
   "cell_type": "code",
   "execution_count": 97,
   "id": "d7d58837-f9ae-4a29-a315-c26eb9197e5e",
   "metadata": {},
   "outputs": [
    {
     "data": {
      "text/plain": [
       "'I eat 3 apples'"
      ]
     },
     "execution_count": 97,
     "metadata": {},
     "output_type": "execute_result"
    }
   ],
   "source": [
    "\"I eat {} apples\".format(3)"
   ]
  },
  {
   "cell_type": "code",
   "execution_count": 98,
   "id": "f5df1b14-f0d8-4e99-8d52-5b9887caf2cf",
   "metadata": {},
   "outputs": [
    {
     "data": {
      "text/plain": [
       "'I eat five apples'"
      ]
     },
     "execution_count": 98,
     "metadata": {},
     "output_type": "execute_result"
    }
   ],
   "source": [
    "\"I eat {} apples\".format(\"five\")"
   ]
  },
  {
   "cell_type": "code",
   "execution_count": 99,
   "id": "d267491c-516c-4e99-a0fb-7808a9520416",
   "metadata": {},
   "outputs": [
    {
     "data": {
      "text/plain": [
       "'I eat 10 apples'"
      ]
     },
     "execution_count": 99,
     "metadata": {},
     "output_type": "execute_result"
    }
   ],
   "source": [
    "\"I eat {} apples\".format(number)"
   ]
  },
  {
   "cell_type": "code",
   "execution_count": 100,
   "id": "6080f226-1837-4cb9-a288-30e8be81f19c",
   "metadata": {},
   "outputs": [
    {
     "data": {
      "text/plain": [
       "'I eat 10 apples. so I was sick for three days'"
      ]
     },
     "execution_count": 100,
     "metadata": {},
     "output_type": "execute_result"
    }
   ],
   "source": [
    "\"I eat {} apples. so I was sick for {} days.\".format(number, day)"
   ]
  },
  {
   "cell_type": "code",
   "execution_count": 101,
   "id": "5ec8d107-2d26-470d-8bd2-5460d8d269fb",
   "metadata": {},
   "outputs": [
    {
     "data": {
      "text/plain": [
       "'I eat three apples. so I was sick for 10 days.'"
      ]
     },
     "execution_count": 101,
     "metadata": {},
     "output_type": "execute_result"
    }
   ],
   "source": [
    "\"I eat {} apples. so I was sick for {} days.\".format(day, number)"
   ]
  },
  {
   "cell_type": "code",
   "execution_count": 102,
   "id": "62fcb9db-aee7-4c28-9d4a-22d8cbaa741f",
   "metadata": {},
   "outputs": [
    {
     "data": {
      "text/plain": [
       "'I eat 10 apples. so I was sick for three days.'"
      ]
     },
     "execution_count": 102,
     "metadata": {},
     "output_type": "execute_result"
    }
   ],
   "source": [
    "\"I eat {a} apples. so I was sick for {b} days.\".format(a = number, b= day)"
   ]
  },
  {
   "cell_type": "code",
   "execution_count": 103,
   "id": "551c1cea-d4c5-44c3-a2a3-3da824fa7391",
   "metadata": {},
   "outputs": [
    {
     "data": {
      "text/plain": [
       "'I eat 10 apples. so I was sick for three days.'"
      ]
     },
     "execution_count": 103,
     "metadata": {},
     "output_type": "execute_result"
    }
   ],
   "source": [
    "\"I eat {a} apples. so I was sick for {b} days.\".format(b= day, a = number)"
   ]
  },
  {
   "cell_type": "markdown",
   "id": "ef8d831d-ece4-46b6-8a42-92eac77f94c0",
   "metadata": {
    "jp-MarkdownHeadingCollapsed": true
   },
   "source": [
    "#### 소수점 표현하기"
   ]
  },
  {
   "cell_type": "code",
   "execution_count": 106,
   "id": "e2da4665-2c74-416a-aa72-1364ef8e2f9e",
   "metadata": {},
   "outputs": [
    {
     "data": {
      "text/plain": [
       "'3.1416'"
      ]
     },
     "execution_count": 106,
     "metadata": {},
     "output_type": "execute_result"
    }
   ],
   "source": [
    "y = 3.141592\n",
    "\"{0:0.4f}\".format(y)"
   ]
  },
  {
   "cell_type": "code",
   "execution_count": 107,
   "id": "3faea610-ed09-4c47-8376-bb977f00335e",
   "metadata": {},
   "outputs": [
    {
     "data": {
      "text/plain": [
       "'{and}'"
      ]
     },
     "execution_count": 107,
     "metadata": {},
     "output_type": "execute_result"
    }
   ],
   "source": [
    "\"{{and}}\".format()"
   ]
  },
  {
   "cell_type": "code",
   "execution_count": 119,
   "id": "24fd13dd-c808-461f-866e-807fe17b3d1f",
   "metadata": {},
   "outputs": [
    {
     "data": {
      "text/plain": [
       "'3.1416'"
      ]
     },
     "execution_count": 119,
     "metadata": {},
     "output_type": "execute_result"
    }
   ],
   "source": [
    "y\n",
    "f'{y:0.4f}'"
   ]
  },
  {
   "cell_type": "markdown",
   "id": "b2097151-f6b0-47bb-8ae1-dd2a57f19aa4",
   "metadata": {
    "jp-MarkdownHeadingCollapsed": true
   },
   "source": [
    "#### f문자열 포매팅"
   ]
  },
  {
   "cell_type": "code",
   "execution_count": 108,
   "id": "30f735c5-8650-412c-8f54-6a49a02efdd9",
   "metadata": {},
   "outputs": [
    {
     "data": {
      "text/plain": [
       "'나의 이름은 홍길동입니다. 나이는 30입니다.'"
      ]
     },
     "execution_count": 108,
     "metadata": {},
     "output_type": "execute_result"
    }
   ],
   "source": [
    "name = \"홍길동\"\n",
    "age = \"30\"\n",
    "'나의 이름은 {}입니다. 나이는 {}입니다.'.format(name, age)"
   ]
  },
  {
   "cell_type": "code",
   "execution_count": 109,
   "id": "e896ee92-e2f5-4c9b-8518-dceaab849d0b",
   "metadata": {},
   "outputs": [
    {
     "data": {
      "text/plain": [
       "'나의 이름은 홍길동입니다. 나이는 30입니다.'"
      ]
     },
     "execution_count": 109,
     "metadata": {},
     "output_type": "execute_result"
    }
   ],
   "source": [
    "f'나의 이름은 {name}입니다. 나이는 {age}입니다.'"
   ]
  },
  {
   "cell_type": "markdown",
   "id": "c65dd3ea-7eaa-4d8c-8b98-604ec6c6144e",
   "metadata": {
    "jp-MarkdownHeadingCollapsed": true
   },
   "source": [
    "# 2. 연산자"
   ]
  },
  {
   "cell_type": "markdown",
   "id": "d12e378b-20b7-443b-8d79-ee6de6d1de67",
   "metadata": {},
   "source": [
    "## 사칙연산"
   ]
  },
  {
   "cell_type": "code",
   "execution_count": 25,
   "id": "9d9b36c6-27e4-424c-b8c9-81c511105010",
   "metadata": {},
   "outputs": [
    {
     "data": {
      "text/plain": [
       "7"
      ]
     },
     "execution_count": 25,
     "metadata": {},
     "output_type": "execute_result"
    }
   ],
   "source": [
    "# 사칙연산\n",
    "a = 3\n",
    "b = 4\n",
    "a+b"
   ]
  },
  {
   "cell_type": "code",
   "execution_count": 14,
   "id": "ca4f1188-2f3e-48e9-8faa-96df9bee0c60",
   "metadata": {},
   "outputs": [
    {
     "data": {
      "text/plain": [
       "(-1, 12, 0.75)"
      ]
     },
     "execution_count": 14,
     "metadata": {},
     "output_type": "execute_result"
    }
   ],
   "source": [
    "a-b, a*b, a/b"
   ]
  },
  {
   "cell_type": "code",
   "execution_count": 15,
   "id": "11212564-66db-4699-97c5-268f1e8695fb",
   "metadata": {},
   "outputs": [
    {
     "data": {
      "text/plain": [
       "81"
      ]
     },
     "execution_count": 15,
     "metadata": {},
     "output_type": "execute_result"
    }
   ],
   "source": [
    "# x의 y제곱을 나타내는 연산자 **\n",
    "a ** b"
   ]
  },
  {
   "cell_type": "code",
   "execution_count": 19,
   "id": "090347f4-03f8-4518-bfd1-01bacf1cdb2c",
   "metadata": {},
   "outputs": [
    {
     "data": {
      "text/plain": [
       "(3, 1)"
      ]
     },
     "execution_count": 19,
     "metadata": {},
     "output_type": "execute_result"
    }
   ],
   "source": [
    "# 나눗셈 후 나머지 리턴\n",
    "3%7, 7%3"
   ]
  },
  {
   "cell_type": "code",
   "execution_count": 20,
   "id": "7a62f296-31c3-4bfc-b202-0cde6c2b3b0a",
   "metadata": {},
   "outputs": [
    {
     "data": {
      "text/plain": [
       "(0, 2)"
      ]
     },
     "execution_count": 20,
     "metadata": {},
     "output_type": "execute_result"
    }
   ],
   "source": [
    "# 나눗셈 후 몫 리턴\n",
    "3//7, 7//3"
   ]
  },
  {
   "cell_type": "code",
   "execution_count": 26,
   "id": "36cbeb76-10ff-4bfe-807f-f881d460ca08",
   "metadata": {},
   "outputs": [
    {
     "data": {
      "text/plain": [
       "4"
      ]
     },
     "execution_count": 26,
     "metadata": {},
     "output_type": "execute_result"
    }
   ],
   "source": [
    "# 복합 연산자\n",
    "a = a + 1\n",
    "a"
   ]
  },
  {
   "cell_type": "code",
   "execution_count": 27,
   "id": "637ed593-1066-477a-8fb7-d628561ac5ae",
   "metadata": {},
   "outputs": [
    {
     "data": {
      "text/plain": [
       "5"
      ]
     },
     "execution_count": 27,
     "metadata": {},
     "output_type": "execute_result"
    }
   ],
   "source": [
    "a += 1\n",
    "a"
   ]
  },
  {
   "cell_type": "markdown",
   "id": "b536f41d-d98f-4e41-8c93-e36d44d4f282",
   "metadata": {},
   "source": [
    "## 문자열 관련 함수들"
   ]
  },
  {
   "cell_type": "code",
   "execution_count": 121,
   "id": "b19f29d8-de33-471c-8403-3ba910f37f85",
   "metadata": {},
   "outputs": [
    {
     "data": {
      "text/plain": [
       "5"
      ]
     },
     "execution_count": 121,
     "metadata": {},
     "output_type": "execute_result"
    }
   ],
   "source": [
    "a = 'hobby'\n",
    "len(a)"
   ]
  },
  {
   "cell_type": "code",
   "execution_count": 122,
   "id": "4450edeb-148c-492f-81e1-756ad0c34ecd",
   "metadata": {},
   "outputs": [
    {
     "data": {
      "text/plain": [
       "2"
      ]
     },
     "execution_count": 122,
     "metadata": {},
     "output_type": "execute_result"
    }
   ],
   "source": [
    "# 특정 문자열 개수\n",
    "a.count('b')"
   ]
  },
  {
   "cell_type": "code",
   "execution_count": 125,
   "id": "ab3860d1-4a0a-4a8f-8b4a-1a67f2f543ce",
   "metadata": {},
   "outputs": [
    {
     "data": {
      "text/plain": [
       "14"
      ]
     },
     "execution_count": 125,
     "metadata": {},
     "output_type": "execute_result"
    }
   ],
   "source": [
    "# 위치 알려주기\n",
    "a = \"python is the best choice\"\n",
    "a.find(\"b\")"
   ]
  },
  {
   "cell_type": "code",
   "execution_count": 126,
   "id": "75ebeafc-5722-4491-adaf-4dba1b3bce3a",
   "metadata": {},
   "outputs": [
    {
     "data": {
      "text/plain": [
       "-1"
      ]
     },
     "execution_count": 126,
     "metadata": {},
     "output_type": "execute_result"
    }
   ],
   "source": [
    "a.find(\"k\")"
   ]
  },
  {
   "cell_type": "code",
   "execution_count": 128,
   "id": "2d7e3afa-588b-45ef-9015-8904ad9cbc4d",
   "metadata": {},
   "outputs": [
    {
     "data": {
      "text/plain": [
       "2"
      ]
     },
     "execution_count": 128,
     "metadata": {},
     "output_type": "execute_result"
    }
   ],
   "source": [
    "# 중복되면 가장 앞에 있는 값\n",
    "a.find(\"t\")"
   ]
  },
  {
   "cell_type": "code",
   "execution_count": 129,
   "id": "a5e7fdea-c4da-4398-8ea8-a1f1671742b5",
   "metadata": {},
   "outputs": [
    {
     "data": {
      "text/plain": [
       "\u001b[0;31mDocstring:\u001b[0m\n",
       "S.find(sub[, start[, end]]) -> int\n",
       "\n",
       "Return the lowest index in S where substring sub is found,\n",
       "such that sub is contained within S[start:end].  Optional\n",
       "arguments start and end are interpreted as in slice notation.\n",
       "\n",
       "Return -1 on failure.\n",
       "\u001b[0;31mType:\u001b[0m      builtin_function_or_method"
      ]
     },
     "metadata": {},
     "output_type": "display_data"
    }
   ],
   "source": [
    "a.find?"
   ]
  },
  {
   "cell_type": "code",
   "execution_count": 130,
   "id": "892d60ff-9357-43e4-8524-1a79ec02421b",
   "metadata": {},
   "outputs": [
    {
     "name": "stdout",
     "output_type": "stream",
     "text": [
      "Help on built-in function find:\n",
      "\n",
      "find(...) method of builtins.str instance\n",
      "    S.find(sub[, start[, end]]) -> int\n",
      "\n",
      "    Return the lowest index in S where substring sub is found,\n",
      "    such that sub is contained within S[start:end].  Optional\n",
      "    arguments start and end are interpreted as in slice notation.\n",
      "\n",
      "    Return -1 on failure.\n",
      "\n"
     ]
    }
   ],
   "source": [
    "help(a.find)"
   ]
  },
  {
   "cell_type": "code",
   "execution_count": 131,
   "id": "3484746c-9e53-4d57-a36d-e8bd6c1a58ea",
   "metadata": {},
   "outputs": [
    {
     "data": {
      "text/plain": [
       "(8, 8)"
      ]
     },
     "execution_count": 131,
     "metadata": {},
     "output_type": "execute_result"
    }
   ],
   "source": [
    "# 위치 알려주기\n",
    "a = \"life is too short\"\n",
    "a.index('t'), a.find('t')"
   ]
  },
  {
   "cell_type": "code",
   "execution_count": 133,
   "id": "fe16743d-6ee7-4ea8-bb27-a0003d18bcf6",
   "metadata": {},
   "outputs": [
    {
     "ename": "ValueError",
     "evalue": "substring not found",
     "output_type": "error",
     "traceback": [
      "\u001b[0;31m---------------------------------------------------------------------------\u001b[0m",
      "\u001b[0;31mValueError\u001b[0m                                Traceback (most recent call last)",
      "Cell \u001b[0;32mIn[133], line 2\u001b[0m\n\u001b[1;32m      1\u001b[0m \u001b[38;5;66;03m# index는 없는 결과면 에러가 난다!\u001b[39;00m\n\u001b[0;32m----> 2\u001b[0m \u001b[43ma\u001b[49m\u001b[38;5;241;43m.\u001b[39;49m\u001b[43mindex\u001b[49m\u001b[43m(\u001b[49m\u001b[38;5;124;43m'\u001b[39;49m\u001b[38;5;124;43mk\u001b[39;49m\u001b[38;5;124;43m'\u001b[39;49m\u001b[43m)\u001b[49m\n",
      "\u001b[0;31mValueError\u001b[0m: substring not found"
     ]
    }
   ],
   "source": [
    "# index는 없는 결과면 에러가 난다!\n",
    "a.index('k')"
   ]
  },
  {
   "cell_type": "code",
   "execution_count": 137,
   "id": "411137b7-3eb9-456e-80cd-14380984b2db",
   "metadata": {},
   "outputs": [
    {
     "data": {
      "text/plain": [
       "'a,b,c,d'"
      ]
     },
     "execution_count": 137,
     "metadata": {},
     "output_type": "execute_result"
    }
   ],
   "source": [
    "#문자열의 join\n",
    "a = 'abcd'\n",
    "','.join(a)"
   ]
  },
  {
   "cell_type": "code",
   "execution_count": 139,
   "id": "e145b6b0-6b16-40cc-b6c7-667ebcf8a942",
   "metadata": {},
   "outputs": [
    {
     "data": {
      "text/plain": [
       "'HI'"
      ]
     },
     "execution_count": 139,
     "metadata": {},
     "output_type": "execute_result"
    }
   ],
   "source": [
    "a = 'hi'\n",
    "a.upper()"
   ]
  },
  {
   "cell_type": "code",
   "execution_count": 140,
   "id": "f3282b61-40f2-428a-bbd7-fda2336d1a14",
   "metadata": {},
   "outputs": [
    {
     "data": {
      "text/plain": [
       "'    hi'"
      ]
     },
     "execution_count": 140,
     "metadata": {},
     "output_type": "execute_result"
    }
   ],
   "source": [
    "a = '    hi    '\n",
    "a.rstrip()"
   ]
  },
  {
   "cell_type": "code",
   "execution_count": 144,
   "id": "30fb3f0c-dccc-4706-a944-eb3e3f5fba7b",
   "metadata": {},
   "outputs": [
    {
     "data": {
      "text/plain": [
       "'    hi    '"
      ]
     },
     "execution_count": 144,
     "metadata": {},
     "output_type": "execute_result"
    }
   ],
   "source": [
    "#원본은 바뀌지 않음\n",
    "a"
   ]
  },
  {
   "cell_type": "code",
   "execution_count": 145,
   "id": "90c3bc97-19e7-4805-b5e0-0a560b3d739a",
   "metadata": {},
   "outputs": [
    {
     "data": {
      "text/plain": [
       "'hi    '"
      ]
     },
     "execution_count": 145,
     "metadata": {},
     "output_type": "execute_result"
    }
   ],
   "source": [
    "a.lstrip()"
   ]
  },
  {
   "cell_type": "code",
   "execution_count": 146,
   "id": "90ae5a3c-ca37-4788-addc-51ec4d910e11",
   "metadata": {},
   "outputs": [
    {
     "data": {
      "text/plain": [
       "'hi'"
      ]
     },
     "execution_count": 146,
     "metadata": {},
     "output_type": "execute_result"
    }
   ],
   "source": [
    "a.strip()"
   ]
  },
  {
   "cell_type": "code",
   "execution_count": 147,
   "id": "14154e76-f186-4c3c-a728-94dbc05f21f3",
   "metadata": {},
   "outputs": [
    {
     "data": {
      "text/plain": [
       "'Your leg is too short'"
      ]
     },
     "execution_count": 147,
     "metadata": {},
     "output_type": "execute_result"
    }
   ],
   "source": [
    "a = \"Life is too short\"\n",
    "a.replace(\"Life\", \"Your leg\")"
   ]
  },
  {
   "cell_type": "code",
   "execution_count": 148,
   "id": "0557e66d-b10c-474d-90be-7b045f5a5535",
   "metadata": {},
   "outputs": [
    {
     "data": {
      "text/plain": [
       "'Life is too short'"
      ]
     },
     "execution_count": 148,
     "metadata": {},
     "output_type": "execute_result"
    }
   ],
   "source": [
    "# 문자열 나누기\n",
    "a"
   ]
  },
  {
   "cell_type": "code",
   "execution_count": 150,
   "id": "403d0909-c7d5-455b-bfe5-237dba98a9a5",
   "metadata": {},
   "outputs": [
    {
     "data": {
      "text/plain": [
       "['Life', 'is', 'too', 'short']"
      ]
     },
     "execution_count": 150,
     "metadata": {},
     "output_type": "execute_result"
    }
   ],
   "source": [
    "a.split(\" \")"
   ]
  },
  {
   "cell_type": "code",
   "execution_count": 151,
   "id": "9c47ceb0-5239-4bd6-b2d3-cea66298d422",
   "metadata": {},
   "outputs": [
    {
     "data": {
      "text/plain": [
       "['A', 'B', 'C', 'D']"
      ]
     },
     "execution_count": 151,
     "metadata": {},
     "output_type": "execute_result"
    }
   ],
   "source": [
    "b = \"A:B:C:D\"\n",
    "b.split(\":\")"
   ]
  },
  {
   "cell_type": "markdown",
   "id": "8719d911-a225-428a-adb5-e86a9bc59e0f",
   "metadata": {
    "jp-MarkdownHeadingCollapsed": true
   },
   "source": [
    "# 3. Dictionary 맛보기"
   ]
  },
  {
   "cell_type": "code",
   "execution_count": 111,
   "id": "71b8214b-b079-4efd-80b1-6d3e4b44fa98",
   "metadata": {},
   "outputs": [],
   "source": [
    "d = {'name' : '홍길동', 'age' : 30}"
   ]
  },
  {
   "cell_type": "code",
   "execution_count": 115,
   "id": "6e3dc2bb-4cc6-4725-be87-e811c708728c",
   "metadata": {},
   "outputs": [
    {
     "data": {
      "text/plain": [
       "('홍길동', 30)"
      ]
     },
     "execution_count": 115,
     "metadata": {},
     "output_type": "execute_result"
    }
   ],
   "source": [
    "d['name'], d['age']"
   ]
  },
  {
   "cell_type": "code",
   "execution_count": 118,
   "id": "894885bf-0887-423c-90a2-eec68f3f0543",
   "metadata": {},
   "outputs": [
    {
     "data": {
      "text/plain": [
       "'나의 이름은 홍길동입니다. 나이는 30입니다.'"
      ]
     },
     "execution_count": 118,
     "metadata": {},
     "output_type": "execute_result"
    }
   ],
   "source": [
    "f'나의 이름은 {d[\"name\"]}입니다. 나이는 {d[\"age\"]}입니다.'"
   ]
  },
  {
   "cell_type": "code",
   "execution_count": 116,
   "id": "abd8d1ff-cab3-4942-861c-42f64d0b6ca2",
   "metadata": {},
   "outputs": [
    {
     "data": {
      "text/plain": [
       "dict_keys(['name', 'age'])"
      ]
     },
     "execution_count": 116,
     "metadata": {},
     "output_type": "execute_result"
    }
   ],
   "source": [
    "d.keys()"
   ]
  },
  {
   "cell_type": "code",
   "execution_count": 117,
   "id": "2966ae45-519a-4c7f-a157-8e70facba2e2",
   "metadata": {},
   "outputs": [
    {
     "data": {
      "text/plain": [
       "dict_values(['홍길동', 30])"
      ]
     },
     "execution_count": 117,
     "metadata": {},
     "output_type": "execute_result"
    }
   ],
   "source": [
    "d.values()"
   ]
  },
  {
   "cell_type": "markdown",
   "id": "e3fdc0ed-8aaa-43f3-a0d9-9965cb76a9c2",
   "metadata": {},
   "source": [
    "# 4. 자료형"
   ]
  },
  {
   "cell_type": "markdown",
   "id": "f1eadb24-b1dc-4a6b-a3cd-2b9aad3c61b2",
   "metadata": {},
   "source": [
    "## 리스트"
   ]
  },
  {
   "cell_type": "markdown",
   "id": "a941bb0a",
   "metadata": {},
   "source": [
    "### 리스트 기본"
   ]
  },
  {
   "cell_type": "code",
   "execution_count": 1,
   "id": "6b0fa49a-3b1a-498a-aeb9-84a0763ddc85",
   "metadata": {},
   "outputs": [
    {
     "data": {
      "text/plain": [
       "[1, 3, 5, 7, 9]"
      ]
     },
     "execution_count": 1,
     "metadata": {},
     "output_type": "execute_result"
    }
   ],
   "source": [
    "odd = [1, 3, 5, 7, 9]\n",
    "odd"
   ]
  },
  {
   "cell_type": "code",
   "execution_count": 2,
   "id": "bcba4f4a-7a4f-49e7-89cf-10be1062f4cf",
   "metadata": {},
   "outputs": [
    {
     "name": "stdout",
     "output_type": "stream",
     "text": [
      "[]\n",
      "[1, 2, 3]\n",
      "['Life', 'is', 'too', 'short']\n",
      "[1, 2, 'Life', 'is']\n",
      "[1, 2, ['Life', 'is']]\n",
      "[]\n"
     ]
    }
   ],
   "source": [
    "a = []\n",
    "b = [1, 2, 3]\n",
    "c = ['Life', 'is', 'too', 'short']\n",
    "d = [1, 2, 'Life', 'is']\n",
    "e = [1, 2, ['Life', 'is']]\n",
    "f = list()\n",
    "print(a, b, c, d, e, f, sep=\"\\n\")"
   ]
  },
  {
   "cell_type": "code",
   "execution_count": 3,
   "id": "a339630b",
   "metadata": {},
   "outputs": [
    {
     "data": {
      "text/plain": [
       "list"
      ]
     },
     "execution_count": 3,
     "metadata": {},
     "output_type": "execute_result"
    }
   ],
   "source": [
    "type(a)"
   ]
  },
  {
   "cell_type": "markdown",
   "id": "f10cd1e1",
   "metadata": {},
   "source": [
    "### 리스트의 인덱싱과 슬라이싱"
   ]
  },
  {
   "cell_type": "code",
   "execution_count": 5,
   "id": "6a084ec2",
   "metadata": {},
   "outputs": [
    {
     "data": {
      "text/plain": [
       "[1, 2, 3]"
      ]
     },
     "execution_count": 5,
     "metadata": {},
     "output_type": "execute_result"
    }
   ],
   "source": [
    "a = [1, 2, 3]\n",
    "a"
   ]
  },
  {
   "cell_type": "code",
   "execution_count": 6,
   "id": "cbbab10d",
   "metadata": {},
   "outputs": [
    {
     "data": {
      "text/plain": [
       "1"
      ]
     },
     "execution_count": 6,
     "metadata": {},
     "output_type": "execute_result"
    }
   ],
   "source": [
    "a[0]"
   ]
  },
  {
   "cell_type": "code",
   "execution_count": 7,
   "id": "5c11620a",
   "metadata": {},
   "outputs": [
    {
     "data": {
      "text/plain": [
       "4"
      ]
     },
     "execution_count": 7,
     "metadata": {},
     "output_type": "execute_result"
    }
   ],
   "source": [
    "a[0]+a[2]"
   ]
  },
  {
   "cell_type": "code",
   "execution_count": 8,
   "id": "701968ec",
   "metadata": {},
   "outputs": [
    {
     "data": {
      "text/plain": [
       "3"
      ]
     },
     "execution_count": 8,
     "metadata": {},
     "output_type": "execute_result"
    }
   ],
   "source": [
    "a[-1]"
   ]
  },
  {
   "cell_type": "code",
   "execution_count": 10,
   "id": "64884154",
   "metadata": {},
   "outputs": [
    {
     "data": {
      "text/plain": [
       "[1, 2, 3, ['a', 'b', 'c']]"
      ]
     },
     "execution_count": 10,
     "metadata": {},
     "output_type": "execute_result"
    }
   ],
   "source": [
    "a = [1, 2, 3, ['a', 'b', 'c']]\n",
    "a"
   ]
  },
  {
   "cell_type": "code",
   "execution_count": 11,
   "id": "1f4d76b5",
   "metadata": {},
   "outputs": [
    {
     "data": {
      "text/plain": [
       "4"
      ]
     },
     "execution_count": 11,
     "metadata": {},
     "output_type": "execute_result"
    }
   ],
   "source": [
    "len(a)"
   ]
  },
  {
   "cell_type": "code",
   "execution_count": 12,
   "id": "d635dbaa",
   "metadata": {},
   "outputs": [
    {
     "data": {
      "text/plain": [
       "['a', 'b', 'c']"
      ]
     },
     "execution_count": 12,
     "metadata": {},
     "output_type": "execute_result"
    }
   ],
   "source": [
    "a[-1]"
   ]
  },
  {
   "cell_type": "code",
   "execution_count": 13,
   "id": "4fc3c52f",
   "metadata": {},
   "outputs": [
    {
     "data": {
      "text/plain": [
       "'b'"
      ]
     },
     "execution_count": 13,
     "metadata": {},
     "output_type": "execute_result"
    }
   ],
   "source": [
    "a[-1][1]"
   ]
  },
  {
   "cell_type": "code",
   "execution_count": 15,
   "id": "780ac247",
   "metadata": {},
   "outputs": [
    {
     "data": {
      "text/plain": [
       "'Life'"
      ]
     },
     "execution_count": 15,
     "metadata": {},
     "output_type": "execute_result"
    }
   ],
   "source": [
    "a = [1, 2, ['a', 'b', ['Life','is']]]\n",
    "a[-1][-1][0]"
   ]
  },
  {
   "cell_type": "markdown",
   "id": "0bb8b6f6",
   "metadata": {},
   "source": [
    "### 슬라이싱"
   ]
  },
  {
   "cell_type": "code",
   "execution_count": 16,
   "id": "cba6dd95",
   "metadata": {},
   "outputs": [
    {
     "data": {
      "text/plain": [
       "[1, 2]"
      ]
     },
     "execution_count": 16,
     "metadata": {},
     "output_type": "execute_result"
    }
   ],
   "source": [
    "a = [1, 2, 3, 4, 5]\n",
    "a[0:2]"
   ]
  },
  {
   "cell_type": "code",
   "execution_count": 20,
   "id": "98776d4b",
   "metadata": {},
   "outputs": [
    {
     "data": {
      "text/plain": [
       "[3, ['a', 'b', 'c'], 4]"
      ]
     },
     "execution_count": 20,
     "metadata": {},
     "output_type": "execute_result"
    }
   ],
   "source": [
    "a = [1, 2, 3, ['a', 'b', 'c'], 4, 5]\n",
    "a[2:-1]"
   ]
  },
  {
   "cell_type": "code",
   "execution_count": 19,
   "id": "90b6ac9c",
   "metadata": {},
   "outputs": [
    {
     "data": {
      "text/plain": [
       "['a', 'b']"
      ]
     },
     "execution_count": 19,
     "metadata": {},
     "output_type": "execute_result"
    }
   ],
   "source": [
    "a[3][0:2]"
   ]
  },
  {
   "cell_type": "markdown",
   "id": "d5f5fc6a",
   "metadata": {},
   "source": [
    "### 리스트 연산"
   ]
  },
  {
   "cell_type": "code",
   "execution_count": 22,
   "id": "af41dc08",
   "metadata": {},
   "outputs": [
    {
     "data": {
      "text/plain": [
       "[1, 2, 3, 4, 5, 6]"
      ]
     },
     "execution_count": 22,
     "metadata": {},
     "output_type": "execute_result"
    }
   ],
   "source": [
    "a = [1, 2, 3]\n",
    "b = [4, 5, 6]\n",
    "a + b\n",
    "#리스트는 element-wise 계산 제공하지 않음, numpy는 됨!"
   ]
  },
  {
   "cell_type": "code",
   "execution_count": 23,
   "id": "062d044e",
   "metadata": {},
   "outputs": [
    {
     "data": {
      "text/plain": [
       "[1, 2, 3, 1, 2, 3, 1, 2, 3]"
      ]
     },
     "execution_count": 23,
     "metadata": {},
     "output_type": "execute_result"
    }
   ],
   "source": [
    "a * 3"
   ]
  },
  {
   "cell_type": "markdown",
   "id": "4df3438a",
   "metadata": {},
   "source": [
    "### 리스트의 수정과 삭제"
   ]
  },
  {
   "cell_type": "code",
   "execution_count": 32,
   "id": "bae88fcf",
   "metadata": {},
   "outputs": [
    {
     "data": {
      "text/plain": [
       "[1, 2, 4]"
      ]
     },
     "execution_count": 32,
     "metadata": {},
     "output_type": "execute_result"
    }
   ],
   "source": [
    "# 수정\n",
    "a = [1, 2, 3]\n",
    "a[2] = 4\n",
    "a"
   ]
  },
  {
   "cell_type": "code",
   "execution_count": 34,
   "id": "9a370330",
   "metadata": {},
   "outputs": [
    {
     "data": {
      "text/plain": [
       "2"
      ]
     },
     "execution_count": 34,
     "metadata": {},
     "output_type": "execute_result"
    }
   ],
   "source": [
    "# 삭제\n",
    "del a[1]\n",
    "a"
   ]
  },
  {
   "cell_type": "markdown",
   "id": "a331d6e1",
   "metadata": {},
   "source": [
    "### 리스트 관련 함수(메서드, list.method())"
   ]
  },
  {
   "cell_type": "code",
   "execution_count": 36,
   "id": "0156915f",
   "metadata": {},
   "outputs": [
    {
     "data": {
      "text/plain": [
       "[1, 2, 3, 4]"
      ]
     },
     "execution_count": 36,
     "metadata": {},
     "output_type": "execute_result"
    }
   ],
   "source": [
    "# 리스트에 요소 확장\n",
    "a = [1, 2, 3]\n",
    "a.append(4)\n",
    "a"
   ]
  },
  {
   "cell_type": "code",
   "execution_count": 37,
   "id": "26b913fd",
   "metadata": {},
   "outputs": [
    {
     "data": {
      "text/plain": [
       "[1, 2, 3, 4, [5, 6]]"
      ]
     },
     "execution_count": 37,
     "metadata": {},
     "output_type": "execute_result"
    }
   ],
   "source": [
    "a.append([5, 6])\n",
    "a"
   ]
  },
  {
   "cell_type": "code",
   "execution_count": 38,
   "id": "b684664f",
   "metadata": {},
   "outputs": [
    {
     "data": {
      "text/plain": [
       "[1, 2, 3, 4]"
      ]
     },
     "execution_count": 38,
     "metadata": {},
     "output_type": "execute_result"
    }
   ],
   "source": [
    "# 리스트 정렬\n",
    "a = [1, 4, 3, 2]\n",
    "a.sort()\n",
    "a"
   ]
  },
  {
   "cell_type": "code",
   "execution_count": 39,
   "id": "3fb4afaa",
   "metadata": {},
   "outputs": [
    {
     "data": {
      "text/plain": [
       "['a', 'b', 'c', 'd', 'e']"
      ]
     },
     "execution_count": 39,
     "metadata": {},
     "output_type": "execute_result"
    }
   ],
   "source": [
    "a = ['a', 'd', 'b', 'c', 'e']\n",
    "a.sort()\n",
    "a"
   ]
  },
  {
   "cell_type": "code",
   "execution_count": 44,
   "id": "a0d8ab66",
   "metadata": {},
   "outputs": [
    {
     "data": {
      "text/plain": [
       "['e', 'd', 'c', 'b', 'a']"
      ]
     },
     "execution_count": 44,
     "metadata": {},
     "output_type": "execute_result"
    }
   ],
   "source": [
    "# 리스트 거꾸로 정렬\n",
    "a.sort(reverse=True)\n",
    "a"
   ]
  },
  {
   "cell_type": "code",
   "execution_count": 45,
   "id": "4bbaee3f",
   "metadata": {},
   "outputs": [
    {
     "data": {
      "text/plain": [
       "[4, 3, 1]"
      ]
     },
     "execution_count": 45,
     "metadata": {},
     "output_type": "execute_result"
    }
   ],
   "source": [
    "# 리스트 뒤집기\n",
    "a = [1, 3, 4]\n",
    "a.reverse()\n",
    "a"
   ]
  },
  {
   "cell_type": "code",
   "execution_count": 47,
   "id": "7c9f6e36",
   "metadata": {},
   "outputs": [
    {
     "data": {
      "text/plain": [
       "2"
      ]
     },
     "execution_count": 47,
     "metadata": {},
     "output_type": "execute_result"
    }
   ],
   "source": [
    "# 인덱스 반\n",
    "a = [1, 2, 3]\n",
    "a.index(3)\n",
    "# a.index(0) # 0 is not in list 에러가 남!"
   ]
  },
  {
   "cell_type": "code",
   "execution_count": 49,
   "id": "81988cbc",
   "metadata": {},
   "outputs": [
    {
     "data": {
      "text/plain": [
       "[1, 5, 2, 3]"
      ]
     },
     "execution_count": 49,
     "metadata": {},
     "output_type": "execute_result"
    }
   ],
   "source": [
    "# 리스트 요소 삽입\n",
    "a = [1, 2, 3]\n",
    "a.insert(1,5)\n",
    "a"
   ]
  },
  {
   "cell_type": "code",
   "execution_count": 50,
   "id": "fe4caf22",
   "metadata": {},
   "outputs": [
    {
     "data": {
      "text/plain": [
       "[1, 2, 1, 2, 3]"
      ]
     },
     "execution_count": 50,
     "metadata": {},
     "output_type": "execute_result"
    }
   ],
   "source": [
    "# 리스트 요소 제거\n",
    "a = [1,2,3,1,2,3]\n",
    "a.remove(3) # 처음으로 만나는 3만 삭제!\n",
    "a"
   ]
  },
  {
   "cell_type": "code",
   "execution_count": 52,
   "id": "e1999170",
   "metadata": {},
   "outputs": [
    {
     "data": {
      "text/plain": [
       "3"
      ]
     },
     "execution_count": 52,
     "metadata": {},
     "output_type": "execute_result"
    }
   ],
   "source": [
    "# 리스트 마지막 요소 꺼내고 삭제하기 \n",
    "a = [1,2,3]\n",
    "a.pop()"
   ]
  },
  {
   "cell_type": "code",
   "execution_count": 53,
   "id": "cbf632b8",
   "metadata": {},
   "outputs": [
    {
     "data": {
      "text/plain": [
       "[1, 2]"
      ]
     },
     "execution_count": 53,
     "metadata": {},
     "output_type": "execute_result"
    }
   ],
   "source": [
    "a"
   ]
  },
  {
   "cell_type": "code",
   "execution_count": 55,
   "id": "dc18ae43",
   "metadata": {},
   "outputs": [
    {
     "data": {
      "text/plain": [
       "2"
      ]
     },
     "execution_count": 55,
     "metadata": {},
     "output_type": "execute_result"
    }
   ],
   "source": [
    "# 리스트에 포함된 요소 x의 개수 세기 count\n",
    "a = [1, 2, 3, 1]\n",
    "a.count(1)"
   ]
  },
  {
   "cell_type": "code",
   "execution_count": 56,
   "id": "c5e94fd6",
   "metadata": {},
   "outputs": [
    {
     "data": {
      "text/plain": [
       "[1, 2, 3, 4, 5]"
      ]
     },
     "execution_count": 56,
     "metadata": {},
     "output_type": "execute_result"
    }
   ],
   "source": [
    "# 리스트에 리스트 확장\n",
    "a = [1, 2, 3]\n",
    "a.extend([4, 5])\n",
    "a"
   ]
  },
  {
   "cell_type": "markdown",
   "id": "fa276f0b",
   "metadata": {},
   "source": [
    "## 튜플 is immutable\n"
   ]
  },
  {
   "cell_type": "markdown",
   "id": "06ac6ccf",
   "metadata": {},
   "source": [
    "### 튜플 기본"
   ]
  },
  {
   "cell_type": "code",
   "execution_count": 58,
   "id": "d1e1f739",
   "metadata": {},
   "outputs": [
    {
     "data": {
      "text/plain": [
       "((), (1,), (1, 2, 3), (1, 2, 3), ('a', 'b', ('ab', 'cd')))"
      ]
     },
     "execution_count": 58,
     "metadata": {},
     "output_type": "execute_result"
    }
   ],
   "source": [
    "t1 = ()\n",
    "t2 = (1,)\n",
    "t3 = (1, 2, 3)\n",
    "t4 = 1, 2, 3\n",
    "t5 = ('a', 'b', ('ab', 'cd'))\n",
    "t1, t2, t3, t4, t5"
   ]
  },
  {
   "cell_type": "code",
   "execution_count": 59,
   "id": "af6f9883",
   "metadata": {},
   "outputs": [
    {
     "data": {
      "text/plain": [
       "(tuple, tuple, tuple, tuple, tuple)"
      ]
     },
     "execution_count": 59,
     "metadata": {},
     "output_type": "execute_result"
    }
   ],
   "source": [
    "type(t1), type(t2), type(t3), type(t4),type(t5)"
   ]
  },
  {
   "cell_type": "code",
   "execution_count": 60,
   "id": "cfcc0f0f",
   "metadata": {},
   "outputs": [
    {
     "data": {
      "text/plain": [
       "(1, int)"
      ]
     },
     "execution_count": 60,
     "metadata": {},
     "output_type": "execute_result"
    }
   ],
   "source": [
    "t6 = (1)\n",
    "t6, type(t6)"
   ]
  },
  {
   "cell_type": "code",
   "execution_count": 61,
   "id": "a9d9ab29",
   "metadata": {},
   "outputs": [
    {
     "data": {
      "text/plain": [
       "(1, 2, 'a', 'b')"
      ]
     },
     "execution_count": 61,
     "metadata": {},
     "output_type": "execute_result"
    }
   ],
   "source": [
    "# 튜플 요소값을 삭제하려 할 때?\n",
    "t1 = (1, 2, 'a', 'b')\n",
    "t1"
   ]
  },
  {
   "cell_type": "code",
   "execution_count": 62,
   "id": "c52296ce",
   "metadata": {},
   "outputs": [
    {
     "ename": "TypeError",
     "evalue": "'tuple' object doesn't support item deletion",
     "output_type": "error",
     "traceback": [
      "\u001b[0;31m---------------------------------------------------------------------------\u001b[0m",
      "\u001b[0;31mTypeError\u001b[0m                                 Traceback (most recent call last)",
      "Cell \u001b[0;32mIn[62], line 1\u001b[0m\n\u001b[0;32m----> 1\u001b[0m \u001b[38;5;28;01mdel\u001b[39;00m t1[\u001b[38;5;241m0\u001b[39m]\n",
      "\u001b[0;31mTypeError\u001b[0m: 'tuple' object doesn't support item deletion"
     ]
    }
   ],
   "source": [
    "del t1[0]"
   ]
  },
  {
   "cell_type": "code",
   "execution_count": 63,
   "id": "03601cd5",
   "metadata": {},
   "outputs": [
    {
     "ename": "TypeError",
     "evalue": "'tuple' object does not support item assignment",
     "output_type": "error",
     "traceback": [
      "\u001b[0;31m---------------------------------------------------------------------------\u001b[0m",
      "\u001b[0;31mTypeError\u001b[0m                                 Traceback (most recent call last)",
      "Cell \u001b[0;32mIn[63], line 1\u001b[0m\n\u001b[0;32m----> 1\u001b[0m \u001b[43mt1\u001b[49m\u001b[43m[\u001b[49m\u001b[38;5;241;43m0\u001b[39;49m\u001b[43m]\u001b[49m \u001b[38;5;241m=\u001b[39m \u001b[38;5;241m3\u001b[39m\n",
      "\u001b[0;31mTypeError\u001b[0m: 'tuple' object does not support item assignment"
     ]
    }
   ],
   "source": [
    "t1[0] = 3"
   ]
  },
  {
   "cell_type": "markdown",
   "id": "5e798af3",
   "metadata": {},
   "source": [
    "### 튜플 다루기"
   ]
  },
  {
   "cell_type": "code",
   "execution_count": 67,
   "id": "225b4a1a",
   "metadata": {},
   "outputs": [
    {
     "data": {
      "text/plain": [
       "1"
      ]
     },
     "execution_count": 67,
     "metadata": {},
     "output_type": "execute_result"
    }
   ],
   "source": [
    "t1 = (1, 2, 'a','b')\n",
    "t1[0]"
   ]
  },
  {
   "cell_type": "code",
   "execution_count": 68,
   "id": "d8fc6ee1",
   "metadata": {},
   "outputs": [
    {
     "data": {
      "text/plain": [
       "(2, 'a', 'b')"
      ]
     },
     "execution_count": 68,
     "metadata": {},
     "output_type": "execute_result"
    }
   ],
   "source": [
    "t1[1:]"
   ]
  },
  {
   "cell_type": "code",
   "execution_count": 69,
   "id": "97a69238",
   "metadata": {},
   "outputs": [
    {
     "data": {
      "text/plain": [
       "(1, 2, 'a', 'b', 3, 4)"
      ]
     },
     "execution_count": 69,
     "metadata": {},
     "output_type": "execute_result"
    }
   ],
   "source": [
    "t2 = (3, 4)\n",
    "t1 + t2"
   ]
  },
  {
   "cell_type": "code",
   "execution_count": 70,
   "id": "94102936",
   "metadata": {},
   "outputs": [
    {
     "data": {
      "text/plain": [
       "(3, 4, 3, 4, 3, 4)"
      ]
     },
     "execution_count": 70,
     "metadata": {},
     "output_type": "execute_result"
    }
   ],
   "source": [
    "t2 * 3"
   ]
  },
  {
   "cell_type": "code",
   "execution_count": 71,
   "id": "3a9db8d0",
   "metadata": {},
   "outputs": [
    {
     "data": {
      "text/plain": [
       "2"
      ]
     },
     "execution_count": 71,
     "metadata": {},
     "output_type": "execute_result"
    }
   ],
   "source": [
    "len(t2)"
   ]
  },
  {
   "cell_type": "markdown",
   "id": "e50d3461",
   "metadata": {},
   "source": [
    "## 딕셔너리"
   ]
  },
  {
   "cell_type": "markdown",
   "id": "d4a591d6",
   "metadata": {},
   "source": [
    "### 딕셔너리 기본"
   ]
  },
  {
   "cell_type": "code",
   "execution_count": 73,
   "id": "0c2ec66a",
   "metadata": {},
   "outputs": [
    {
     "data": {
      "text/plain": [
       "{'name': 'pay', 'phone': '01011112222', 'birth': '1210'}"
      ]
     },
     "execution_count": 73,
     "metadata": {},
     "output_type": "execute_result"
    }
   ],
   "source": [
    "dic = {\"name\":\"pay\", \"phone\" : \"01011112222\", \"birth\":\"1210\"}\n",
    "dic"
   ]
  },
  {
   "cell_type": "code",
   "execution_count": 74,
   "id": "481d1a9a",
   "metadata": {},
   "outputs": [],
   "source": [
    "a = {\"a\" : [1, 2, 3]}"
   ]
  },
  {
   "cell_type": "code",
   "execution_count": 77,
   "id": "9a19ab00",
   "metadata": {},
   "outputs": [
    {
     "ename": "TypeError",
     "evalue": "unhashable type: 'list'",
     "output_type": "error",
     "traceback": [
      "\u001b[0;31m---------------------------------------------------------------------------\u001b[0m",
      "\u001b[0;31mTypeError\u001b[0m                                 Traceback (most recent call last)",
      "Cell \u001b[0;32mIn[77], line 1\u001b[0m\n\u001b[0;32m----> 1\u001b[0m b \u001b[38;5;241m=\u001b[39m {[\u001b[38;5;241m1\u001b[39m,\u001b[38;5;241m2\u001b[39m,\u001b[38;5;241m3\u001b[39m]: \u001b[38;5;124m'\u001b[39m\u001b[38;5;124ma\u001b[39m\u001b[38;5;124m'\u001b[39m}\n",
      "\u001b[0;31mTypeError\u001b[0m: unhashable type: 'list'"
     ]
    }
   ],
   "source": [
    "b = {[1,2,3]: 'a'}"
   ]
  },
  {
   "cell_type": "code",
   "execution_count": 78,
   "id": "f4988889",
   "metadata": {},
   "outputs": [
    {
     "data": {
      "text/plain": [
       "{1: 'a'}"
      ]
     },
     "execution_count": 78,
     "metadata": {},
     "output_type": "execute_result"
    }
   ],
   "source": [
    "a = {1 :\"a\"}\n",
    "a"
   ]
  },
  {
   "cell_type": "code",
   "execution_count": 80,
   "id": "ec53b361",
   "metadata": {},
   "outputs": [
    {
     "data": {
      "text/plain": [
       "{1: 'a', 2: 'B'}"
      ]
     },
     "execution_count": 80,
     "metadata": {},
     "output_type": "execute_result"
    }
   ],
   "source": [
    "a[2] = 'B'\n",
    "a"
   ]
  },
  {
   "cell_type": "code",
   "execution_count": 81,
   "id": "5095687c",
   "metadata": {},
   "outputs": [
    {
     "data": {
      "text/plain": [
       "{1: 'a', 2: 'B', 'name': 'Kim'}"
      ]
     },
     "execution_count": 81,
     "metadata": {},
     "output_type": "execute_result"
    }
   ],
   "source": [
    "a[\"name\"] = 'Kim'\n",
    "a"
   ]
  },
  {
   "cell_type": "markdown",
   "id": "74434ae5",
   "metadata": {},
   "source": [
    "### 딕셔너리 다루기"
   ]
  },
  {
   "cell_type": "code",
   "execution_count": 83,
   "id": "cf16dc1c",
   "metadata": {},
   "outputs": [
    {
     "data": {
      "text/plain": [
       "{1: 'AA', 2: 'B', 'name': 'Kim'}"
      ]
     },
     "execution_count": 83,
     "metadata": {},
     "output_type": "execute_result"
    }
   ],
   "source": [
    "# 딕셔너리 수정\n",
    "a = {1: 'a', 2: 'B', 'name': 'Kim'}\n",
    "a[1] = 'AA'\n",
    "a"
   ]
  },
  {
   "cell_type": "code",
   "execution_count": 84,
   "id": "f0794b75",
   "metadata": {},
   "outputs": [
    {
     "data": {
      "text/plain": [
       "{2: 'B', 'name': 'Kim'}"
      ]
     },
     "execution_count": 84,
     "metadata": {},
     "output_type": "execute_result"
    }
   ],
   "source": [
    "# 딕셔너리 삭제\n",
    "del a[1] # index가 아니라 key임!\n",
    "a"
   ]
  },
  {
   "cell_type": "code",
   "execution_count": 85,
   "id": "6c059493",
   "metadata": {},
   "outputs": [
    {
     "data": {
      "text/plain": [
       "9"
      ]
     },
     "execution_count": 85,
     "metadata": {},
     "output_type": "execute_result"
    }
   ],
   "source": [
    "# key를 사용해 value 얻기\n",
    "grade = {\"pey\" : 10, \"julliet\" : 9}\n",
    "grade['julliet']"
   ]
  },
  {
   "cell_type": "markdown",
   "id": "ca1edc54",
   "metadata": {},
   "source": [
    "### 딕셔너리 관련 메서드"
   ]
  },
  {
   "cell_type": "code",
   "execution_count": 86,
   "id": "85fa0ec6",
   "metadata": {},
   "outputs": [
    {
     "data": {
      "text/plain": [
       "dict_keys(['name', 'phone', 'birth'])"
      ]
     },
     "execution_count": 86,
     "metadata": {},
     "output_type": "execute_result"
    }
   ],
   "source": [
    "# key 모두 가져오기\n",
    "dic = {\"name\":\"pay\", \"phone\" : \"01011112222\", \"birth\":\"1210\"}\n",
    "dic.keys()"
   ]
  },
  {
   "cell_type": "code",
   "execution_count": 88,
   "id": "aefb62df",
   "metadata": {},
   "outputs": [
    {
     "data": {
      "text/plain": [
       "dict_keys"
      ]
     },
     "execution_count": 88,
     "metadata": {},
     "output_type": "execute_result"
    }
   ],
   "source": [
    "type(dic.keys())"
   ]
  },
  {
   "cell_type": "code",
   "execution_count": 89,
   "id": "eeaf3f6a",
   "metadata": {},
   "outputs": [
    {
     "data": {
      "text/plain": [
       "list"
      ]
     },
     "execution_count": 89,
     "metadata": {},
     "output_type": "execute_result"
    }
   ],
   "source": [
    "# key 리스트 만들기\n",
    "key_list = list(dic.keys())\n",
    "type(key_list)"
   ]
  },
  {
   "cell_type": "code",
   "execution_count": 90,
   "id": "c9c1b3e4",
   "metadata": {},
   "outputs": [
    {
     "data": {
      "text/plain": [
       "dict_values(['pay', '01011112222', '1210'])"
      ]
     },
     "execution_count": 90,
     "metadata": {},
     "output_type": "execute_result"
    }
   ],
   "source": [
    "# value 모두 가져오기\n",
    "dic.values()"
   ]
  },
  {
   "cell_type": "code",
   "execution_count": 91,
   "id": "fc828e32",
   "metadata": {},
   "outputs": [
    {
     "name": "stdout",
     "output_type": "stream",
     "text": [
      "['pay', '01011112222', '1210']\n"
     ]
    }
   ],
   "source": [
    "# value 리스트 만들기\n",
    "value_list = list(dic.values())\n",
    "print(value_list)"
   ]
  },
  {
   "cell_type": "code",
   "execution_count": 92,
   "id": "9e136f6a",
   "metadata": {},
   "outputs": [
    {
     "data": {
      "text/plain": [
       "dict_items([('name', 'pay'), ('phone', '01011112222'), ('birth', '1210')])"
      ]
     },
     "execution_count": 92,
     "metadata": {},
     "output_type": "execute_result"
    }
   ],
   "source": [
    "# key-value 쌍 얻기\n",
    "dic.items()"
   ]
  },
  {
   "cell_type": "code",
   "execution_count": 94,
   "id": "0f84cb31",
   "metadata": {},
   "outputs": [
    {
     "data": {
      "text/plain": [
       "{}"
      ]
     },
     "execution_count": 94,
     "metadata": {},
     "output_type": "execute_result"
    }
   ],
   "source": [
    "# key-value 모두 지우기\n",
    "dic.clear()\n",
    "dic"
   ]
  },
  {
   "cell_type": "code",
   "execution_count": 95,
   "id": "cece800f",
   "metadata": {},
   "outputs": [
    {
     "data": {
      "text/plain": [
       "'pay'"
      ]
     },
     "execution_count": 95,
     "metadata": {},
     "output_type": "execute_result"
    }
   ],
   "source": [
    "a = {\"name\":\"pay\", \"phone\" : \"01011112222\", \"birth\":\"1210\"}\n",
    "a.get(\"name\")"
   ]
  },
  {
   "cell_type": "code",
   "execution_count": 98,
   "id": "7e78a75e",
   "metadata": {},
   "outputs": [
    {
     "data": {
      "text/plain": [
       "'empty'"
      ]
     },
     "execution_count": 98,
     "metadata": {},
     "output_type": "execute_result"
    }
   ],
   "source": [
    "# 없는 키를 검색할때 get을 하면 에러는 안남, 인덱싱으로 하면 에러가 남!\n",
    "# get이 좋은 점 : defalut값을 지정할 수 있음.\n",
    "a.get(\"nokey\",\"empty\")"
   ]
  },
  {
   "cell_type": "code",
   "execution_count": 97,
   "id": "64657a39",
   "metadata": {},
   "outputs": [
    {
     "ename": "KeyError",
     "evalue": "'nokey'",
     "output_type": "error",
     "traceback": [
      "\u001b[0;31m---------------------------------------------------------------------------\u001b[0m",
      "\u001b[0;31mKeyError\u001b[0m                                  Traceback (most recent call last)",
      "Cell \u001b[0;32mIn[97], line 1\u001b[0m\n\u001b[0;32m----> 1\u001b[0m \u001b[43ma\u001b[49m\u001b[43m[\u001b[49m\u001b[38;5;124;43m\"\u001b[39;49m\u001b[38;5;124;43mnokey\u001b[39;49m\u001b[38;5;124;43m\"\u001b[39;49m\u001b[43m]\u001b[49m\n",
      "\u001b[0;31mKeyError\u001b[0m: 'nokey'"
     ]
    }
   ],
   "source": [
    "a[\"nokey\"]"
   ]
  },
  {
   "cell_type": "code",
   "execution_count": 99,
   "id": "3feb3803",
   "metadata": {},
   "outputs": [
    {
     "data": {
      "text/plain": [
       "True"
      ]
     },
     "execution_count": 99,
     "metadata": {},
     "output_type": "execute_result"
    }
   ],
   "source": [
    "'name' in a"
   ]
  },
  {
   "cell_type": "code",
   "execution_count": 100,
   "id": "5e47dd60",
   "metadata": {},
   "outputs": [
    {
     "data": {
      "text/plain": [
       "False"
      ]
     },
     "execution_count": 100,
     "metadata": {},
     "output_type": "execute_result"
    }
   ],
   "source": [
    "'email' in a"
   ]
  },
  {
   "cell_type": "markdown",
   "id": "168adf3f",
   "metadata": {},
   "source": [
    "## 집합"
   ]
  },
  {
   "cell_type": "markdown",
   "id": "f5e760fb",
   "metadata": {},
   "source": [
    "### 집합 기본"
   ]
  },
  {
   "cell_type": "code",
   "execution_count": 103,
   "id": "ed0dbced",
   "metadata": {},
   "outputs": [
    {
     "data": {
      "text/plain": [
       "({1, 2, 3}, set)"
      ]
     },
     "execution_count": 103,
     "metadata": {},
     "output_type": "execute_result"
    }
   ],
   "source": [
    "s1 = set([1, 2, 3])\n",
    "s1, type(s1)"
   ]
  },
  {
   "cell_type": "code",
   "execution_count": 104,
   "id": "e911ea6f",
   "metadata": {},
   "outputs": [
    {
     "data": {
      "text/plain": [
       "{'e', 'h', 'l', 'o'}"
      ]
     },
     "execution_count": 104,
     "metadata": {},
     "output_type": "execute_result"
    }
   ],
   "source": [
    "s2 = set(\"hello\")\n",
    "s2"
   ]
  },
  {
   "cell_type": "code",
   "execution_count": 105,
   "id": "b7f4f518",
   "metadata": {},
   "outputs": [
    {
     "ename": "TypeError",
     "evalue": "'set' object is not subscriptable",
     "output_type": "error",
     "traceback": [
      "\u001b[0;31m---------------------------------------------------------------------------\u001b[0m",
      "\u001b[0;31mTypeError\u001b[0m                                 Traceback (most recent call last)",
      "Cell \u001b[0;32mIn[105], line 1\u001b[0m\n\u001b[0;32m----> 1\u001b[0m \u001b[43ms1\u001b[49m\u001b[43m[\u001b[49m\u001b[38;5;241;43m0\u001b[39;49m\u001b[43m]\u001b[49m\n",
      "\u001b[0;31mTypeError\u001b[0m: 'set' object is not subscriptable"
     ]
    }
   ],
   "source": [
    "s1[0]"
   ]
  },
  {
   "cell_type": "code",
   "execution_count": 106,
   "id": "24cbac95",
   "metadata": {},
   "outputs": [
    {
     "data": {
      "text/plain": [
       "1"
      ]
     },
     "execution_count": 106,
     "metadata": {},
     "output_type": "execute_result"
    }
   ],
   "source": [
    "list(s1)[0]"
   ]
  },
  {
   "cell_type": "markdown",
   "id": "699ff660",
   "metadata": {},
   "source": [
    "### 집합의 연산"
   ]
  },
  {
   "cell_type": "code",
   "execution_count": 107,
   "id": "96ccc9e6",
   "metadata": {},
   "outputs": [],
   "source": [
    "s1 = set([1,2,3,4,5,6])\n",
    "s2 = set ([4,5,6,7,8,9 ])"
   ]
  },
  {
   "cell_type": "code",
   "execution_count": 112,
   "id": "6824c723",
   "metadata": {},
   "outputs": [
    {
     "data": {
      "text/plain": [
       "{4, 5, 6}"
      ]
     },
     "execution_count": 112,
     "metadata": {},
     "output_type": "execute_result"
    }
   ],
   "source": [
    "#교집합 구하기\n",
    "#연산자\n",
    "s1 & s2\n",
    "\n",
    "#매소드\n",
    "s1.intersection(s2)"
   ]
  },
  {
   "cell_type": "code",
   "execution_count": 115,
   "id": "e7600b75",
   "metadata": {},
   "outputs": [
    {
     "data": {
      "text/plain": [
       "{1, 2, 3, 4, 5, 6, 7, 8, 9}"
      ]
     },
     "execution_count": 115,
     "metadata": {},
     "output_type": "execute_result"
    }
   ],
   "source": [
    "#합집합 구하기\n",
    "#연산자\n",
    "s1 | s2\n",
    "\n",
    "#매소드\n",
    "s1.union(s2)"
   ]
  },
  {
   "cell_type": "code",
   "execution_count": 117,
   "id": "5e217f93",
   "metadata": {},
   "outputs": [
    {
     "data": {
      "text/plain": [
       "{1, 2, 3}"
      ]
     },
     "execution_count": 117,
     "metadata": {},
     "output_type": "execute_result"
    }
   ],
   "source": [
    "#차집합 구하기\n",
    "#연산자\n",
    "s1 - s2\n",
    "\n",
    "#매소드\n",
    "s1.difference(s2)"
   ]
  },
  {
   "cell_type": "markdown",
   "id": "073f8648",
   "metadata": {},
   "source": [
    "### 집합 함수"
   ]
  },
  {
   "cell_type": "code",
   "execution_count": 119,
   "id": "94a9b891",
   "metadata": {},
   "outputs": [
    {
     "data": {
      "text/plain": [
       "{0, 1, 2, 3, 4, 5, 6}"
      ]
     },
     "execution_count": 119,
     "metadata": {},
     "output_type": "execute_result"
    }
   ],
   "source": [
    "# 값 1개 추가하기\n",
    "s1.add(0)\n",
    "s1"
   ]
  },
  {
   "cell_type": "code",
   "execution_count": 120,
   "id": "280d1337",
   "metadata": {},
   "outputs": [
    {
     "data": {
      "text/plain": [
       "{0, 1, 2, 3, 4, 5, 6, 7, 8, 9}"
      ]
     },
     "execution_count": 120,
     "metadata": {},
     "output_type": "execute_result"
    }
   ],
   "source": [
    "#값 여러개 추가하기\n",
    "s1.update([7,8,9])\n",
    "s1"
   ]
  },
  {
   "cell_type": "code",
   "execution_count": 121,
   "id": "f413bc3f",
   "metadata": {},
   "outputs": [
    {
     "data": {
      "text/plain": [
       "{1, 2, 3, 4, 5, 6, 7, 8, 9}"
      ]
     },
     "execution_count": 121,
     "metadata": {},
     "output_type": "execute_result"
    }
   ],
   "source": [
    "#특정 값 제거하기\n",
    "s1.remove(0)\n",
    "s1"
   ]
  },
  {
   "cell_type": "markdown",
   "id": "13b1650a",
   "metadata": {},
   "source": [
    "## Boolean, 논리 자료형"
   ]
  },
  {
   "cell_type": "markdown",
   "id": "68387dd4",
   "metadata": {},
   "source": [
    "### 컴퓨터가 가장 잘 이해하는 자료형"
   ]
  },
  {
   "cell_type": "code",
   "execution_count": 122,
   "id": "f52bbea3",
   "metadata": {},
   "outputs": [
    {
     "data": {
      "text/plain": [
       "(True, bool)"
      ]
     },
     "execution_count": 122,
     "metadata": {},
     "output_type": "execute_result"
    }
   ],
   "source": [
    "True, type(True)"
   ]
  },
  {
   "cell_type": "code",
   "execution_count": 123,
   "id": "d2144429",
   "metadata": {},
   "outputs": [
    {
     "data": {
      "text/plain": [
       "(bool, bool)"
      ]
     },
     "execution_count": 123,
     "metadata": {},
     "output_type": "execute_result"
    }
   ],
   "source": [
    "a = True\n",
    "b = False\n",
    "type(a), type(b)"
   ]
  },
  {
   "cell_type": "markdown",
   "id": "a4863ff9",
   "metadata": {},
   "source": [
    "### 비교연산자, 조건문"
   ]
  },
  {
   "cell_type": "code",
   "execution_count": 125,
   "id": "98eb3114",
   "metadata": {},
   "outputs": [
    {
     "data": {
      "text/plain": [
       "True"
      ]
     },
     "execution_count": 125,
     "metadata": {},
     "output_type": "execute_result"
    }
   ],
   "source": [
    "1 == 1 "
   ]
  },
  {
   "cell_type": "code",
   "execution_count": 126,
   "id": "423a8fe4",
   "metadata": {},
   "outputs": [
    {
     "data": {
      "text/plain": [
       "True"
      ]
     },
     "execution_count": 126,
     "metadata": {},
     "output_type": "execute_result"
    }
   ],
   "source": [
    "2 > 1"
   ]
  },
  {
   "cell_type": "code",
   "execution_count": 127,
   "id": "df1d3f6a",
   "metadata": {},
   "outputs": [
    {
     "data": {
      "text/plain": [
       "False"
      ]
     },
     "execution_count": 127,
     "metadata": {},
     "output_type": "execute_result"
    }
   ],
   "source": [
    "2 < 1"
   ]
  },
  {
   "cell_type": "code",
   "execution_count": 128,
   "id": "8f00c754",
   "metadata": {},
   "outputs": [
    {
     "name": "stdout",
     "output_type": "stream",
     "text": [
      "4\n",
      "3\n",
      "2\n",
      "1\n"
     ]
    }
   ],
   "source": [
    "a = [1,2,3,4]\n",
    "while (a):\n",
    "    print(a.pop())"
   ]
  },
  {
   "cell_type": "code",
   "execution_count": 129,
   "id": "4ce90a0b",
   "metadata": {},
   "outputs": [
    {
     "name": "stdout",
     "output_type": "stream",
     "text": [
      "참\n"
     ]
    }
   ],
   "source": [
    "if [1, 2, 3]:\n",
    "    print(\"참\")\n",
    "else :\n",
    "    print(\"거짓\")"
   ]
  },
  {
   "cell_type": "code",
   "execution_count": 131,
   "id": "18892d03",
   "metadata": {},
   "outputs": [
    {
     "name": "stdout",
     "output_type": "stream",
     "text": [
      "거짓\n"
     ]
    }
   ],
   "source": [
    "if []:\n",
    "    print(\"참\")\n",
    "else :\n",
    "    print(\"거짓\")"
   ]
  },
  {
   "cell_type": "markdown",
   "id": "a2ed9a4f",
   "metadata": {},
   "source": [
    "### 불연산"
   ]
  },
  {
   "cell_type": "code",
   "execution_count": 134,
   "id": "aaedfb1e",
   "metadata": {},
   "outputs": [
    {
     "data": {
      "text/plain": [
       "True"
      ]
     },
     "execution_count": 134,
     "metadata": {},
     "output_type": "execute_result"
    }
   ],
   "source": [
    "bool(\"python\")"
   ]
  },
  {
   "cell_type": "code",
   "execution_count": 135,
   "id": "25d468b8",
   "metadata": {},
   "outputs": [
    {
     "data": {
      "text/plain": [
       "False"
      ]
     },
     "execution_count": 135,
     "metadata": {},
     "output_type": "execute_result"
    }
   ],
   "source": [
    "bool(\"\")"
   ]
  },
  {
   "cell_type": "markdown",
   "id": "5c3c3c1c",
   "metadata": {},
   "source": [
    "# A. 변수에 대한 추가 내용"
   ]
  },
  {
   "cell_type": "markdown",
   "id": "3b97196c",
   "metadata": {},
   "source": [
    "## 값의 참조와 할당"
   ]
  },
  {
   "cell_type": "code",
   "execution_count": 152,
   "id": "5e9d1ce3",
   "metadata": {},
   "outputs": [
    {
     "data": {
      "text/plain": [
       "4501510784"
      ]
     },
     "execution_count": 152,
     "metadata": {},
     "output_type": "execute_result"
    }
   ],
   "source": [
    "a = [1,2,3]\n",
    "id(a) # a가 저장된 주소"
   ]
  },
  {
   "cell_type": "code",
   "execution_count": 145,
   "id": "31d58d07",
   "metadata": {},
   "outputs": [
    {
     "data": {
      "text/plain": [
       "([1, 2, 3], 4502677952)"
      ]
     },
     "execution_count": 145,
     "metadata": {},
     "output_type": "execute_result"
    }
   ],
   "source": [
    "#리스트 복사하기 (original을 남기고 사본 만들기)\n",
    "b = a\n",
    "b, id(b) #id 값이 같다, 복제가 안됐다!"
   ]
  },
  {
   "cell_type": "code",
   "execution_count": 146,
   "id": "76f6fe82",
   "metadata": {},
   "outputs": [
    {
     "data": {
      "text/plain": [
       "True"
      ]
     },
     "execution_count": 146,
     "metadata": {},
     "output_type": "execute_result"
    }
   ],
   "source": [
    "a is b"
   ]
  },
  {
   "cell_type": "code",
   "execution_count": 147,
   "id": "3f7bd59d",
   "metadata": {},
   "outputs": [
    {
     "data": {
      "text/plain": [
       "([1, 0, 3], [1, 0, 3])"
      ]
     },
     "execution_count": 147,
     "metadata": {},
     "output_type": "execute_result"
    }
   ],
   "source": [
    "b[1]=0\n",
    "b, a #이렇게 b를 수정하면 a도 같이 수정됨"
   ]
  },
  {
   "cell_type": "code",
   "execution_count": 153,
   "id": "3e04589e",
   "metadata": {},
   "outputs": [
    {
     "data": {
      "text/plain": [
       "([1, 2, 3], 4502663872)"
      ]
     },
     "execution_count": 153,
     "metadata": {},
     "output_type": "execute_result"
    }
   ],
   "source": [
    "# 그럼 b에 a에 대한 값을 똑같이 넣어주고 싶으면?\n",
    "b = a[:] # a에 대한 모든 값을 추출해서 새롭게 바인딩\n",
    "\n",
    "b, id(b)"
   ]
  },
  {
   "cell_type": "code",
   "execution_count": 159,
   "id": "eee1daec",
   "metadata": {},
   "outputs": [
    {
     "name": "stdout",
     "output_type": "stream",
     "text": [
      "10 4300941904\n",
      "12 4300941968\n"
     ]
    }
   ],
   "source": [
    "# 새로운 값을 넣으면 주소가 달라짐\n",
    "k = 10\n",
    "print(k, id(k))\n",
    "k = 12\n",
    "print(k, id(k))"
   ]
  },
  {
   "cell_type": "code",
   "execution_count": 155,
   "id": "fcbaae87",
   "metadata": {},
   "outputs": [
    {
     "name": "stdout",
     "output_type": "stream",
     "text": [
      "[2, 3, 4] 4496517952\n",
      "[2, 3, 4] 4501478272\n"
     ]
    }
   ],
   "source": [
    "from copy import copy\n",
    "c = [2, 3, 4]\n",
    "d = copy(c)\n",
    "print(c, id(c))\n",
    "print(d, id(d))"
   ]
  },
  {
   "cell_type": "code",
   "execution_count": 156,
   "id": "54e21bf3",
   "metadata": {},
   "outputs": [
    {
     "data": {
      "text/plain": [
       "False"
      ]
     },
     "execution_count": 156,
     "metadata": {},
     "output_type": "execute_result"
    }
   ],
   "source": [
    "c is d"
   ]
  },
  {
   "cell_type": "markdown",
   "id": "2a79f86f",
   "metadata": {},
   "source": [
    "## 여러개의 값 할당"
   ]
  },
  {
   "cell_type": "code",
   "execution_count": 158,
   "id": "594a4f28",
   "metadata": {},
   "outputs": [
    {
     "data": {
      "text/plain": [
       "('python', 'life')"
      ]
     },
     "execution_count": 158,
     "metadata": {},
     "output_type": "execute_result"
    }
   ],
   "source": [
    "a, b = ('python', 'life')\n",
    "a, b"
   ]
  },
  {
   "cell_type": "code",
   "execution_count": 160,
   "id": "59f410dc",
   "metadata": {},
   "outputs": [
    {
     "data": {
      "text/plain": [
       "(4330191728, 4330191728)"
      ]
     },
     "execution_count": 160,
     "metadata": {},
     "output_type": "execute_result"
    }
   ],
   "source": [
    "a = b = 'python'\n",
    "id(a), id(b)"
   ]
  },
  {
   "cell_type": "code",
   "execution_count": 161,
   "id": "1cbf8758",
   "metadata": {},
   "outputs": [
    {
     "data": {
      "text/plain": [
       "(5, 3)"
      ]
     },
     "execution_count": 161,
     "metadata": {},
     "output_type": "execute_result"
    }
   ],
   "source": [
    "a = 3\n",
    "b = 5\n",
    "a, b = b, a\n",
    "\n",
    "a, b"
   ]
  }
 ],
 "metadata": {
  "kernelspec": {
   "display_name": "Python 3 (ipykernel)",
   "language": "python",
   "name": "python3"
  },
  "language_info": {
   "codemirror_mode": {
    "name": "ipython",
    "version": 3
   },
   "file_extension": ".py",
   "mimetype": "text/x-python",
   "name": "python",
   "nbconvert_exporter": "python",
   "pygments_lexer": "ipython3",
   "version": "3.9.6"
  }
 },
 "nbformat": 4,
 "nbformat_minor": 5
}
