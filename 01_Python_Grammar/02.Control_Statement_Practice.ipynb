{
 "cells": [
  {
   "cell_type": "markdown",
   "metadata": {},
   "source": [
    "# 파이썬 분기문"
   ]
  },
  {
   "cell_type": "code",
   "execution_count": 1,
   "metadata": {},
   "outputs": [
    {
     "data": {
      "text/plain": [
       "bool"
      ]
     },
     "execution_count": 1,
     "metadata": {},
     "output_type": "execute_result"
    }
   ],
   "source": [
    "# 101 True or False 데이터 타입?\n",
    "bool"
   ]
  },
  {
   "cell_type": "code",
   "execution_count": null,
   "metadata": {},
   "outputs": [
    {
     "name": "stdout",
     "output_type": "stream",
     "text": [
      "False\n"
     ]
    }
   ],
   "source": [
    "# 102 출력 결과 예상\n",
    "print(5==3)\n",
    "#False"
   ]
  },
  {
   "cell_type": "code",
   "execution_count": 5,
   "metadata": {},
   "outputs": [
    {
     "name": "stdout",
     "output_type": "stream",
     "text": [
      "True\n"
     ]
    }
   ],
   "source": [
    "# 103 출력 결과 예상\n",
    "print(3<5)\n",
    "#True"
   ]
  },
  {
   "cell_type": "code",
   "execution_count": 6,
   "metadata": {},
   "outputs": [
    {
     "name": "stdout",
     "output_type": "stream",
     "text": [
      "True\n"
     ]
    }
   ],
   "source": [
    "# 104 출력 결과 예상\n",
    "x = 4\n",
    "print(1<x<5)\n",
    "#True"
   ]
  },
  {
   "cell_type": "code",
   "execution_count": 7,
   "metadata": {},
   "outputs": [
    {
     "name": "stdout",
     "output_type": "stream",
     "text": [
      "True\n"
     ]
    }
   ],
   "source": [
    "# 105 출력 결과 예상\n",
    "print((3==3) and (4!=3))\n",
    "#(True and True => True)"
   ]
  },
  {
   "cell_type": "code",
   "execution_count": 8,
   "metadata": {},
   "outputs": [
    {
     "ename": "SyntaxError",
     "evalue": "expression cannot contain assignment, perhaps you meant \"==\"? (1690296034.py, line 2)",
     "output_type": "error",
     "traceback": [
      "\u001b[0;36m  Cell \u001b[0;32mIn[8], line 2\u001b[0;36m\u001b[0m\n\u001b[0;31m    print(3 => 4)\u001b[0m\n\u001b[0m          ^\u001b[0m\n\u001b[0;31mSyntaxError\u001b[0m\u001b[0;31m:\u001b[0m expression cannot contain assignment, perhaps you meant \"==\"?\n"
     ]
    }
   ],
   "source": [
    "# 106 에러가 나는 이유?\n",
    "print(3 => 4)\n",
    "# 비교 연산자 순서가 뒤집힘, >=으로 해야함"
   ]
  },
  {
   "cell_type": "code",
   "execution_count": 11,
   "metadata": {},
   "outputs": [],
   "source": [
    "# 107 출력 결과 예상\n",
    "if 4 < 3 :\n",
    "    print(\"Hello World\")\n",
    "# 아무것도 출력되지 않음    "
   ]
  },
  {
   "cell_type": "code",
   "execution_count": 12,
   "metadata": {},
   "outputs": [
    {
     "name": "stdout",
     "output_type": "stream",
     "text": [
      "Hi, there\n"
     ]
    }
   ],
   "source": [
    "# 108 출력 결과 예상\n",
    "if 4 < 3 :\n",
    "    print(\"Hello World\")\n",
    "else :\n",
    "    print(\"Hi, there\")\n",
    "# Hi, there"
   ]
  },
  {
   "cell_type": "code",
   "execution_count": 13,
   "metadata": {},
   "outputs": [
    {
     "name": "stdout",
     "output_type": "stream",
     "text": [
      "1\n",
      "2\n",
      "4\n"
     ]
    }
   ],
   "source": [
    "# 109 출력 결과 예상\n",
    "if True :\n",
    "    print(\"1\")\n",
    "    print(\"2\")\n",
    "else : \n",
    "    print(\"3\")\n",
    "print(\"4\")\n",
    "# 1, 2, 4"
   ]
  },
  {
   "cell_type": "code",
   "execution_count": 14,
   "metadata": {},
   "outputs": [
    {
     "name": "stdout",
     "output_type": "stream",
     "text": [
      "3\n"
     ]
    }
   ],
   "source": [
    "# 110 출력 결과 예상\n",
    "if True : \n",
    "    if False : \n",
    "        print(\"1\")\n",
    "        print(\"2\")\n",
    "    else : \n",
    "        print(\"3\")"
   ]
  },
  {
   "cell_type": "code",
   "execution_count": 17,
   "metadata": {},
   "outputs": [
    {
     "name": "stdout",
     "output_type": "stream",
     "text": [
      "안녕하세요안녕하세요\n"
     ]
    }
   ],
   "source": [
    "# 111 입력받기\n",
    "a = input()\n",
    "print(a*2)"
   ]
  },
  {
   "cell_type": "code",
   "execution_count": 19,
   "metadata": {},
   "outputs": [
    {
     "name": "stdout",
     "output_type": "stream",
     "text": [
      "숫자를 입력하세요:  30\n",
      "40\n"
     ]
    }
   ],
   "source": [
    "# 112  입력받기\n",
    "i = input()\n",
    "print(\"숫자를 입력하세요: \", i)\n",
    "print(int(i)+10)"
   ]
  },
  {
   "cell_type": "code",
   "execution_count": 21,
   "metadata": {},
   "outputs": [
    {
     "name": "stdout",
     "output_type": "stream",
     "text": [
      "15 는 홀수\n"
     ]
    }
   ],
   "source": [
    "# 113 입력받기\n",
    "i = input()\n",
    "if int(i)%2 == 1 : \n",
    "    print(i,\"는 홀수\")\n",
    "else :\n",
    "    print(i, \"는 짝수\")"
   ]
  },
  {
   "cell_type": "code",
   "execution_count": 24,
   "metadata": {},
   "outputs": [
    {
     "name": "stdout",
     "output_type": "stream",
     "text": [
      "입력값 : 240\n",
      "출력값 : 255\n"
     ]
    }
   ],
   "source": [
    "# 114  입력받기\n",
    "i = input()\n",
    "print(\"입력값 :\", i)\n",
    "if int(i)+20 <= 255 : \n",
    "    print(\"출력값 :\", int(i)+20)\n",
    "else : \n",
    "    print(\"출력값 :\", 255)  "
   ]
  },
  {
   "cell_type": "code",
   "execution_count": 26,
   "metadata": {},
   "outputs": [
    {
     "name": "stdout",
     "output_type": "stream",
     "text": [
      "입력값 : 200\n",
      "출력값 : 180\n"
     ]
    }
   ],
   "source": [
    "# 115 입력 받기\n",
    "i = input()\n",
    "print(\"입력값 :\", i)\n",
    "if int(i)-20 >= 0:\n",
    "    print(\"출력값 :\", int(i)-20)\n",
    "else : \n",
    "    print(\"출력값 :\", 0)"
   ]
  },
  {
   "cell_type": "code",
   "execution_count": 27,
   "metadata": {},
   "outputs": [
    {
     "name": "stdout",
     "output_type": "stream",
     "text": [
      "현재 시간: 02:00\n",
      "정각 입니다.\n"
     ]
    }
   ],
   "source": [
    "# 116 입력 받기\n",
    "i = input(\"HH:MM 으로 입력하세요\")\n",
    "print(\"현재 시간:\", i)\n",
    "minutes = int(i[3:])\n",
    "if minutes == 0:\n",
    "    print(\"정각 입니다.\")\n",
    "else : \n",
    "    print(\"정각이 아닙니다.\")\n"
   ]
  },
  {
   "cell_type": "code",
   "execution_count": 29,
   "metadata": {},
   "outputs": [
    {
     "name": "stdout",
     "output_type": "stream",
     "text": [
      "좋아하는 과일은? 포도\n",
      "정답입니다.\n"
     ]
    }
   ],
   "source": [
    "# 117 입력 받기\n",
    "fruit = ['사과', '포도', '홍시']\n",
    "i = input()\n",
    "print(\"좋아하는 과일은?\",i)\n",
    "if i in fruit : \n",
    "    print(\"정답입니다.\")\n",
    "else : \n",
    "    print(\"없습니다.\")"
   ]
  },
  {
   "cell_type": "code",
   "execution_count": 30,
   "metadata": {},
   "outputs": [
    {
     "name": "stdout",
     "output_type": "stream",
     "text": [
      "LG 는 투자 경고 종목입니다\n"
     ]
    }
   ],
   "source": [
    "# 118 입력 받기\n",
    "warn_investment_list = [\"Microsoft\", \"Google\", \"Naver\", \"Kakao\", \"SAMSUNG\", \"LG\"]\n",
    "i = input()\n",
    "print(i,\"는 \", end=\"\")\n",
    "if i in warn_investment_list :\n",
    "    print(\"투자 경고 종목입니다\")\n",
    "else : \n",
    "    print(\"투자 경고 종목이 아닙니다.\")"
   ]
  },
  {
   "cell_type": "code",
   "execution_count": 31,
   "metadata": {},
   "outputs": [
    {
     "name": "stdout",
     "output_type": "stream",
     "text": [
      "제가 좋아하는 계절은 : 봄\n",
      "정답입니다.\n"
     ]
    }
   ],
   "source": [
    "# 119 입력 받기\n",
    "fruit = {\"봄\" : \"딸기\", \"여름\" : \"토마토\", \"가을\" : \"사과\"}\n",
    "i = input()\n",
    "print(\"제가 좋아하는 계절은 :\", i)\n",
    "fruit_key = list(fruit.keys())\n",
    "if i in fruit_key :\n",
    "    print(\"정답입니다.\")\n",
    "else :\n",
    "    print(\"오답입니다.\")"
   ]
  },
  {
   "cell_type": "code",
   "execution_count": 32,
   "metadata": {},
   "outputs": [
    {
     "name": "stdout",
     "output_type": "stream",
     "text": [
      "제가 좋아하는 과일은 : 한라봉\n",
      "오답입니다.\n"
     ]
    }
   ],
   "source": [
    "# 120 입력 받기\n",
    "fruit = {\"봄\" : \"딸기\", \"여름\" : \"토마토\", \"가을\" : \"사과\"}\n",
    "i = input()\n",
    "print(\"제가 좋아하는 과일은 :\", i)\n",
    "fruit_value = list(fruit.values())\n",
    "if i in fruit_value :\n",
    "    print(\"정답입니다.\")\n",
    "else :\n",
    "    print(\"오답입니다.\")"
   ]
  },
  {
   "cell_type": "code",
   "execution_count": 33,
   "metadata": {},
   "outputs": [
    {
     "name": "stdout",
     "output_type": "stream",
     "text": [
      "A\n"
     ]
    }
   ],
   "source": [
    "# 121\n",
    "i = input()\n",
    "if i.islower() :\n",
    "    print(i.upper())\n",
    "else : \n",
    "    print(i.lower())"
   ]
  },
  {
   "cell_type": "code",
   "execution_count": 35,
   "metadata": {},
   "outputs": [
    {
     "name": "stdout",
     "output_type": "stream",
     "text": [
      "grade is A\n"
     ]
    }
   ],
   "source": [
    "#122\n",
    "grade = input()\n",
    "grade = int(grade)\n",
    "if 81 <= grade <= 100 :\n",
    "    print(\"grade is A\")\n",
    "elif 61 <= grade <= 80 : \n",
    "    print(\"grade is B\")\n",
    "elif 41 <= grade <= 60 : \n",
    "    print(\"grade is C\")\n",
    "elif 21 <= grade <= 40 : \n",
    "    print(\"grade is D\")\n",
    "else :\n",
    "    print(\"grade is E\")"
   ]
  },
  {
   "cell_type": "code",
   "execution_count": 41,
   "metadata": {},
   "outputs": [
    {
     "name": "stdout",
     "output_type": "stream",
     "text": [
      "116700.0 원\n"
     ]
    }
   ],
   "source": [
    "# 123\n",
    "i = input()\n",
    "currency = {\"달러\": 1167, \"엔\" : 1.096, \"유로\" : 1268, \"위안\": 171}\n",
    "i_money, i_currency = i.split(\" \")\n",
    "# print(type(i_money), i_currency, type(currency[i_currency]))\n",
    "print(float(currency[i_currency])*int(i_money), \"원\")"
   ]
  },
  {
   "cell_type": "code",
   "execution_count": 45,
   "metadata": {},
   "outputs": [
    {
     "name": "stdout",
     "output_type": "stream",
     "text": [
      "20\n"
     ]
    }
   ],
   "source": [
    "# 124\n",
    "a = input()\n",
    "a = int(a)\n",
    "b = input()\n",
    "b = int(b)\n",
    "c = input()\n",
    "c = int(c)\n",
    "\n",
    "print(max(a, b, c))"
   ]
  },
  {
   "cell_type": "code",
   "execution_count": 50,
   "metadata": {},
   "outputs": [
    {
     "name": "stdout",
     "output_type": "stream",
     "text": [
      "당신은 SKT 사용자입니다\n"
     ]
    }
   ],
   "source": [
    "# 125\n",
    "company = {\"011\": \"SKT\", \"016\": \"KT\", \"019\" : \"LGU\", \"010\":\"Unknown\"}\n",
    "phone = input(\"xxx-xxxx-xxxx 형식으로 입력하세요.\")\n",
    "tele = phone.split(\"-\")[0]\n",
    "\n",
    "print(f\"당신은 {company[tele]} 사용자입니다\")"
   ]
  },
  {
   "cell_type": "code",
   "execution_count": 51,
   "metadata": {},
   "outputs": [
    {
     "name": "stdout",
     "output_type": "stream",
     "text": [
      "도봉구\n"
     ]
    }
   ],
   "source": [
    "# 126\n",
    "district = {\"0\":\"강북구\", \"1\":\"강북구\",\"2\":\"강북구\",\"3\":\"도봉구\",\n",
    "            \"4\":\"도봉구\",\"5\":\"도봉구\",\"6\":\"노원구\",\"7\":\"노원구\",\"8\":\"노원구\",\"9\":\"노원구\"}\n",
    "add = input()\n",
    "add_key = add[2]\n",
    "\n",
    "print(district[add_key])"
   ]
  },
  {
   "cell_type": "code",
   "execution_count": 57,
   "metadata": {},
   "outputs": [
    {
     "name": "stdout",
     "output_type": "stream",
     "text": [
      "남자\n"
     ]
    }
   ],
   "source": [
    "# 127\n",
    "i = input()\n",
    "gender = i.split(\"-\")[1][0]\n",
    "if gender == \"1\" or gender == \"3\" : \n",
    "    print(\"남자\")\n",
    "else : \n",
    "    print(\"여자\")"
   ]
  },
  {
   "cell_type": "code",
   "execution_count": 58,
   "metadata": {},
   "outputs": [
    {
     "name": "stdout",
     "output_type": "stream",
     "text": [
      "서울이 아닙니다\n"
     ]
    }
   ],
   "source": [
    "# 128\n",
    "i = input()\n",
    "city = int(i.split(\"-\")[1][1:3])\n",
    "if 0 <= city <= 8 : \n",
    "    print(\"서울 입니다\")\n",
    "else : \n",
    "    print(\"서울이 아닙니다\")"
   ]
  },
  {
   "cell_type": "code",
   "execution_count": null,
   "metadata": {},
   "outputs": [
    {
     "name": "stdout",
     "output_type": "stream",
     "text": [
      "유효하지 않은 주민번호입니다.\n"
     ]
    }
   ],
   "source": [
    "# 129\n",
    "i = input()\n",
    "check = int(i[-1])\n",
    "answer = int(i[0])*2 + int(i[1])*3 + int(i[2])*4 + int(i[3])*5+ int(i[4])*6+ int(i[5])*7+\\\n",
    "    int(i[7])*8 + int(i[8])*9 + int(i[9])*2 + int(i[10])*3 + int(i[11])*4 + int(i[12])*5\n",
    "answer = 11 - answer % 11\n",
    "if check == answer: \n",
    "    print(\"유효한 주민번호입니다.\")\n",
    "else : \n",
    "    print(\"유효하지 않은 주민번호입니다.\")"
   ]
  },
  {
   "cell_type": "code",
   "execution_count": null,
   "metadata": {},
   "outputs": [
    {
     "name": "stdout",
     "output_type": "stream",
     "text": [
      "상승장\n"
     ]
    }
   ],
   "source": [
    "# 130\n",
    "import requests\n",
    "btc = requests.get(\"https://api.bithumb.com/public/ticker/\").json()['data']\n",
    "# print(btc)\n",
    "# print(type(btc['max_price']))\n",
    "difference = int(btc['max_price']) - int(btc['min_price'])\n",
    "price = int(btc[\"opening_price\"])\n",
    "high = int(btc['max_price'])\n",
    "if difference + price > high :\n",
    "    print(\"상승장\")\n",
    "else : \n",
    "    print(\"하락장\")"
   ]
  },
  {
   "cell_type": "markdown",
   "metadata": {},
   "source": [
    "# 08. 파이썬 반복문"
   ]
  },
  {
   "cell_type": "code",
   "execution_count": 17,
   "metadata": {},
   "outputs": [
    {
     "name": "stdout",
     "output_type": "stream",
     "text": [
      "apple\n",
      "mandarin\n",
      "watermelon\n"
     ]
    }
   ],
   "source": [
    "# 131\n",
    "fruits = ['apple', 'mandarin', 'watermelon']\n",
    "for fruit in fruits : \n",
    "    print(fruit)"
   ]
  },
  {
   "cell_type": "code",
   "execution_count": 20,
   "metadata": {},
   "outputs": [
    {
     "name": "stdout",
     "output_type": "stream",
     "text": [
      "####\n",
      "####\n",
      "####\n"
     ]
    }
   ],
   "source": [
    "# 132\n",
    "fruits = ['apple', 'mandarin', 'watermelon']\n",
    "for fruit in fruits : \n",
    "    print(\"####\")\n",
    "    \n",
    "''' \n",
    "####\n",
    "####\n",
    "####\n",
    "'''"
   ]
  },
  {
   "cell_type": "code",
   "execution_count": 21,
   "metadata": {},
   "outputs": [
    {
     "name": "stdout",
     "output_type": "stream",
     "text": [
      "A\n",
      "B\n",
      "C\n",
      "A\n",
      "B\n",
      "C\n"
     ]
    }
   ],
   "source": [
    "# 133\n",
    "'''\n",
    "char = ['A', 'B', 'C']\n",
    "for a in char:\n",
    "    print(a)\n",
    "'''\n",
    "\n",
    "c = 'A'\n",
    "print(c)\n",
    "c = 'B'\n",
    "print(c)\n",
    "c = 'C'\n",
    "print(c)"
   ]
  },
  {
   "cell_type": "code",
   "execution_count": 22,
   "metadata": {},
   "outputs": [
    {
     "name": "stdout",
     "output_type": "stream",
     "text": [
      "print:  A\n",
      "print:  B\n",
      "print:  C\n",
      "print:  A\n",
      "print:  B\n",
      "print:  C\n"
     ]
    }
   ],
   "source": [
    "# 134\n",
    "for a in ['A', 'B', 'C']:\n",
    "    print(\"print: \", a)\n",
    "c = 'A'\n",
    "print(\"print: \",c)\n",
    "c = 'B'\n",
    "print(\"print: \",c)\n",
    "c = 'C'\n",
    "print(\"print: \",c)\n"
   ]
  },
  {
   "cell_type": "code",
   "execution_count": 23,
   "metadata": {},
   "outputs": [
    {
     "name": "stdout",
     "output_type": "stream",
     "text": [
      "change:  a\n",
      "change:  b\n",
      "change:  c\n",
      "change:  a\n",
      "change:  b\n",
      "change:  c\n"
     ]
    }
   ],
   "source": [
    "# 135\n",
    "'''\n",
    "for a in ['A', 'B', 'C']:\n",
    "    b = a.lower()\n",
    "    print(\"change: \", b)    \n",
    "'''\n",
    "c = 'A'\n",
    "print(\"change: \",c.lower())\n",
    "c = 'B'\n",
    "print(\"change: \",c.lower())\n",
    "c = 'C'\n",
    "print(\"change: \", c.lower())"
   ]
  },
  {
   "cell_type": "code",
   "execution_count": 24,
   "metadata": {},
   "outputs": [
    {
     "name": "stdout",
     "output_type": "stream",
     "text": [
      "10\n",
      "20\n",
      "30\n",
      "10\n",
      "20\n",
      "30\n"
     ]
    }
   ],
   "source": [
    "# 136\n",
    "'''\n",
    "변수 = 10\n",
    "print(변수)\n",
    "변수 = 20\n",
    "print(변수)\n",
    "변수 = 30\n",
    "print(변수)\n",
    "'''\n",
    "\n",
    "decimals = [10, 20, 30]\n",
    "for a in decimals:\n",
    "    print(a)"
   ]
  },
  {
   "cell_type": "code",
   "execution_count": 25,
   "metadata": {},
   "outputs": [
    {
     "name": "stdout",
     "output_type": "stream",
     "text": [
      "10\n",
      "20\n",
      "30\n",
      "10\n",
      "20\n",
      "30\n"
     ]
    }
   ],
   "source": [
    "# 137\n",
    "'''\n",
    "print(10)\n",
    "print(20)\n",
    "print(30)\n",
    "'''\n",
    "\n",
    "for i in range(10,31,10):\n",
    "    print(i)"
   ]
  },
  {
   "cell_type": "code",
   "execution_count": 27,
   "metadata": {},
   "outputs": [
    {
     "name": "stdout",
     "output_type": "stream",
     "text": [
      "10\n",
      "-------\n",
      "20\n",
      "-------\n",
      "30\n",
      "-------\n",
      "10\n",
      "-------\n",
      "20\n",
      "-------\n",
      "30\n",
      "-------\n"
     ]
    }
   ],
   "source": [
    "# 138\n",
    "'''\n",
    "print(10)\n",
    "print(\"-------\")\n",
    "print(20)\n",
    "print(\"-------\")\n",
    "print(30)\n",
    "print(\"-------\")\n",
    "'''\n",
    "\n",
    "for i in range(10,31,10):\n",
    "    print(i)\n",
    "    print(\"-------\")"
   ]
  },
  {
   "cell_type": "code",
   "execution_count": 28,
   "metadata": {},
   "outputs": [
    {
     "name": "stdout",
     "output_type": "stream",
     "text": [
      "++++\n",
      "10\n",
      "20\n",
      "30\n",
      "++++\n",
      "10\n",
      "20\n",
      "30\n"
     ]
    }
   ],
   "source": [
    "# 139\n",
    "'''\n",
    "print(\"++++\")\n",
    "print(10)\n",
    "print(20)\n",
    "print(30)\n",
    "'''\n",
    "\n",
    "\n",
    "print(\"++++\")\n",
    "for i in range(10,31,10):\n",
    "    print(i)\n"
   ]
  },
  {
   "cell_type": "code",
   "execution_count": 11,
   "metadata": {},
   "outputs": [],
   "source": [
    "# 140\n",
    "'''\n",
    "print(\"-------\")\n",
    "print(\"-------\")\n",
    "print(\"-------\")\n",
    "print(\"-------\")\n",
    "'''"
   ]
  },
  {
   "cell_type": "code",
   "execution_count": 29,
   "metadata": {},
   "outputs": [
    {
     "name": "stdout",
     "output_type": "stream",
     "text": [
      "110\n",
      "210\n",
      "310\n"
     ]
    }
   ],
   "source": [
    "# 141\n",
    "price =[100,200,300]\n",
    "for i in price:\n",
    "    print(i + 10)"
   ]
  },
  {
   "cell_type": "code",
   "execution_count": 30,
   "metadata": {},
   "outputs": [
    {
     "name": "stdout",
     "output_type": "stream",
     "text": [
      "Today's menu:  Gimbap\n",
      "Today's menu:  Ramyeon\n",
      "Today's menu:  Fries\n"
     ]
    }
   ],
   "source": [
    "# 142\n",
    "food = ['Gimbap', 'Ramyeon', 'Fries']\n",
    "for i in food:\n",
    "    print(\"Today's menu: \", i)"
   ]
  },
  {
   "cell_type": "code",
   "execution_count": 32,
   "metadata": {},
   "outputs": [
    {
     "name": "stdout",
     "output_type": "stream",
     "text": [
      "2\n",
      "19\n",
      "14\n"
     ]
    }
   ],
   "source": [
    "# 143\n",
    "stocks = [\"SK\", \"Samsung-Electronics\", \"LG-Electronics\"]\n",
    "for i in stocks:\n",
    "    print(len(i))\n"
   ]
  },
  {
   "cell_type": "code",
   "execution_count": 33,
   "metadata": {},
   "outputs": [
    {
     "name": "stdout",
     "output_type": "stream",
     "text": [
      "dog 3\n",
      "cat 3\n",
      "parrot 6\n"
     ]
    }
   ],
   "source": [
    "# 144\n",
    "animals = ['dog', 'cat', 'parrot']\n",
    "for i in animals:\n",
    "    print(i, len(i))"
   ]
  },
  {
   "cell_type": "code",
   "execution_count": 35,
   "metadata": {},
   "outputs": [
    {
     "name": "stdout",
     "output_type": "stream",
     "text": [
      "d\n",
      "c\n",
      "p\n"
     ]
    }
   ],
   "source": [
    "# 145\n",
    "animals = ['dog', 'cat','parrot']\n",
    "for i in animals:\n",
    "    print(i[0])"
   ]
  },
  {
   "cell_type": "code",
   "execution_count": 36,
   "metadata": {},
   "outputs": [
    {
     "name": "stdout",
     "output_type": "stream",
     "text": [
      "3 X 1\n",
      "3 X 2\n",
      "3 X 3\n"
     ]
    }
   ],
   "source": [
    "# 146\n",
    "numbers = [1, 2, 3]\n",
    "for i in numbers:\n",
    "    print(\"3 X\", i)"
   ]
  },
  {
   "cell_type": "code",
   "execution_count": 38,
   "metadata": {},
   "outputs": [
    {
     "name": "stdout",
     "output_type": "stream",
     "text": [
      "3 X 1 = 3\n",
      "3 X 2 = 6\n",
      "3 X 3 = 9\n"
     ]
    }
   ],
   "source": [
    "# 147\n",
    "numbers = [1, 2, 3]\n",
    "for i in numbers:\n",
    "    print(\"3 X\", i, \"=\", i*3)"
   ]
  },
  {
   "cell_type": "code",
   "execution_count": 2,
   "metadata": {},
   "outputs": [
    {
     "name": "stdout",
     "output_type": "stream",
     "text": [
      "B\n",
      "C\n",
      "D\n"
     ]
    }
   ],
   "source": [
    "# 148\n",
    "char_list = ['A', 'B', 'C', 'D']\n",
    "for a in char_list:\n",
    "    if a =='A':\n",
    "        continue\n",
    "    print(a)"
   ]
  },
  {
   "cell_type": "code",
   "execution_count": 4,
   "metadata": {},
   "outputs": [
    {
     "name": "stdout",
     "output_type": "stream",
     "text": [
      "A\n",
      "C\n"
     ]
    }
   ],
   "source": [
    "# 149\n",
    "char_list = ['A', 'B', 'C', 'D']\n",
    "for a in char_list[::2]:\n",
    "    print(a)"
   ]
  },
  {
   "cell_type": "code",
   "execution_count": 6,
   "metadata": {},
   "outputs": [
    {
     "name": "stdout",
     "output_type": "stream",
     "text": [
      "D\n",
      "C\n",
      "B\n",
      "A\n"
     ]
    }
   ],
   "source": [
    "# 150\n",
    "char_list = ['A', 'B', 'C', 'D']\n",
    "for a in char_list[::-1]:\n",
    "    print(a)"
   ]
  },
  {
   "cell_type": "code",
   "execution_count": 7,
   "metadata": {},
   "outputs": [
    {
     "name": "stdout",
     "output_type": "stream",
     "text": [
      "-20\n",
      "-3\n"
     ]
    }
   ],
   "source": [
    "# 151\n",
    "numbers = [3, -20, -3, 44]\n",
    "for i in numbers:\n",
    "    if i<0:\n",
    "        print(i)"
   ]
  },
  {
   "cell_type": "code",
   "execution_count": 8,
   "metadata": {},
   "outputs": [
    {
     "name": "stdout",
     "output_type": "stream",
     "text": [
      "3\n"
     ]
    }
   ],
   "source": [
    "# 152\n",
    "numbers = [3, 100, 23, 44]\n",
    "for i in numbers:\n",
    "    if i%3 ==0:\n",
    "        print(i)"
   ]
  },
  {
   "cell_type": "code",
   "execution_count": 9,
   "metadata": {},
   "outputs": [
    {
     "name": "stdout",
     "output_type": "stream",
     "text": [
      "12\n",
      "18\n"
     ]
    }
   ],
   "source": [
    "# 153\n",
    "numbers = [13, 21, 12, 14, 30, 18]\n",
    "for i in numbers:\n",
    "    if i%3 ==0 and i < 20:\n",
    "        print(i)"
   ]
  },
  {
   "cell_type": "code",
   "execution_count": 10,
   "metadata": {},
   "outputs": [
    {
     "name": "stdout",
     "output_type": "stream",
     "text": [
      "study\n",
      "python\n",
      "language\n"
     ]
    }
   ],
   "source": [
    "# 154\n",
    "char = [\"I\", \"study\", \"python\", \"language\", \"!\"]\n",
    "for i in char:\n",
    "    if len(i)>=3:\n",
    "        print(i)"
   ]
  },
  {
   "cell_type": "code",
   "execution_count": 11,
   "metadata": {},
   "outputs": [
    {
     "name": "stdout",
     "output_type": "stream",
     "text": [
      "A\n",
      "D\n"
     ]
    }
   ],
   "source": [
    "# 155\n",
    "char = [\"A\", \"b\", \"c\", \"D\"]\n",
    "for i in char:\n",
    "    if i.isupper():\n",
    "        print(i)"
   ]
  },
  {
   "cell_type": "code",
   "execution_count": 12,
   "metadata": {},
   "outputs": [
    {
     "name": "stdout",
     "output_type": "stream",
     "text": [
      "b\n",
      "c\n"
     ]
    }
   ],
   "source": [
    "# 156\n",
    "char = [\"A\", \"b\", \"c\", \"D\"]\n",
    "for i in char:\n",
    "    if i.islower():\n",
    "        print(i)"
   ]
  },
  {
   "cell_type": "code",
   "execution_count": 13,
   "metadata": {},
   "outputs": [
    {
     "name": "stdout",
     "output_type": "stream",
     "text": [
      "Dog\n",
      "Cat\n",
      "Parrot\n"
     ]
    }
   ],
   "source": [
    "# 157\n",
    "animals = ['dog', 'cat', 'parrot']\n",
    "for a in animals:\n",
    "    print(a.capitalize())"
   ]
  },
  {
   "cell_type": "code",
   "execution_count": 14,
   "metadata": {},
   "outputs": [
    {
     "name": "stdout",
     "output_type": "stream",
     "text": [
      "hello\n",
      "ex01\n",
      "intro\n"
     ]
    }
   ],
   "source": [
    "# 158\n",
    "file_name = ['hello.py', 'ex01.py', 'intro.hwp']\n",
    "for f in file_name:\n",
    "    print(f.split(\".\")[0])"
   ]
  },
  {
   "cell_type": "code",
   "execution_count": 16,
   "metadata": {},
   "outputs": [
    {
     "name": "stdout",
     "output_type": "stream",
     "text": [
      "intra.h\n",
      "define.h\n"
     ]
    }
   ],
   "source": [
    "# 159\n",
    "file_name = ['intra.h', 'intra.c', 'define.h', 'run.py']\n",
    "for f in file_name:\n",
    "    if f.split('.')[1]=='h':\n",
    "        print(f)"
   ]
  },
  {
   "cell_type": "code",
   "execution_count": 17,
   "metadata": {},
   "outputs": [
    {
     "name": "stdout",
     "output_type": "stream",
     "text": [
      "intra.h\n",
      "intra.c\n",
      "define.h\n"
     ]
    }
   ],
   "source": [
    "# 160\n",
    "file_name = ['intra.h', 'intra.c', 'define.h', 'run.py']\n",
    "for f in file_name:\n",
    "    if f.split('.')[1]=='h' or f.split('.')[1]=='c':\n",
    "        print(f)"
   ]
  }
 ],
 "metadata": {
  "kernelspec": {
   "display_name": "Python 3 (ipykernel)",
   "language": "python",
   "name": "python3"
  },
  "language_info": {
   "codemirror_mode": {
    "name": "ipython",
    "version": 3
   },
   "file_extension": ".py",
   "mimetype": "text/x-python",
   "name": "python",
   "nbconvert_exporter": "python",
   "pygments_lexer": "ipython3",
   "version": "3.12.5"
  }
 },
 "nbformat": 4,
 "nbformat_minor": 4
}
