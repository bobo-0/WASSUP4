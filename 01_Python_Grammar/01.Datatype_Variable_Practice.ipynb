{
 "cells": [
  {
   "cell_type": "markdown",
   "id": "4d97436a-49aa-45a1-9a40-ad42609b2de9",
   "metadata": {},
   "source": [
    "# 01. 파이썬 시작하기"
   ]
  },
  {
   "cell_type": "code",
   "execution_count": 1,
   "id": "3fea2e07-317e-4de0-ac61-b2cb852b6385",
   "metadata": {},
   "outputs": [
    {
     "name": "stdout",
     "output_type": "stream",
     "text": [
      "Hello World\n"
     ]
    }
   ],
   "source": [
    "# 001 print 기초\n",
    "print(\"Hello World\")"
   ]
  },
  {
   "cell_type": "code",
   "execution_count": 2,
   "id": "7d6c3f17-9f14-4867-b568-599a1ca8859a",
   "metadata": {},
   "outputs": [
    {
     "name": "stdout",
     "output_type": "stream",
     "text": [
      "Mary's cosmetics\n"
     ]
    }
   ],
   "source": [
    "# 002 print 기초\n",
    "print(\"Mary\\'s cosmetics\")"
   ]
  },
  {
   "cell_type": "code",
   "execution_count": 3,
   "id": "588d6ccc-6d1e-4dc9-888d-37f31c206113",
   "metadata": {},
   "outputs": [
    {
     "name": "stdout",
     "output_type": "stream",
     "text": [
      "신씨가 소리질렀다. \"도둑이야\".\n"
     ]
    }
   ],
   "source": [
    "# 003 print 기초\n",
    "print(\"신씨가 소리질렀다. \\\"도둑이야\\\".\")"
   ]
  },
  {
   "cell_type": "code",
   "execution_count": 4,
   "id": "1b1ee9af-8509-4dab-b097-6299bb7bc53c",
   "metadata": {},
   "outputs": [
    {
     "name": "stdout",
     "output_type": "stream",
     "text": [
      "C:\\Windows\n"
     ]
    }
   ],
   "source": [
    "# 004 print 기초\n",
    "print(\"C:\\\\Windows\")"
   ]
  },
  {
   "cell_type": "code",
   "execution_count": 5,
   "id": "dc19d094-e854-4aa9-b9c7-cd6555338229",
   "metadata": {},
   "outputs": [
    {
     "name": "stdout",
     "output_type": "stream",
     "text": [
      "안녕하세요.\n",
      "만나서\t\t반갑습니다.\n"
     ]
    }
   ],
   "source": [
    "# 005 print 기초\n",
    "print(\"안녕하세요.\\n만나서\\t\\t반갑습니다.\")\n",
    "#\\n 줄 바꿈,\\t tap, 4칸 띄워쓰기"
   ]
  },
  {
   "cell_type": "code",
   "execution_count": 6,
   "id": "064a1275-8b36-4536-a6c0-83f650a49c27",
   "metadata": {},
   "outputs": [
    {
     "name": "stdout",
     "output_type": "stream",
     "text": [
      "오늘은 일요일\n"
     ]
    }
   ],
   "source": [
    "# 006 print 여러 데이터 출력\n",
    "print(\"오늘은\", \"일요일\")"
   ]
  },
  {
   "cell_type": "code",
   "execution_count": 7,
   "id": "e8a932fa-d1ac-4fb9-9d6a-dd6e9927c2d8",
   "metadata": {},
   "outputs": [
    {
     "name": "stdout",
     "output_type": "stream",
     "text": [
      "naver;kakao;sk;samsung\n"
     ]
    }
   ],
   "source": [
    "# 007 print 기초\n",
    "print(\"naver;kakao;sk;samsung\")"
   ]
  },
  {
   "cell_type": "code",
   "execution_count": 8,
   "id": "8e7f40e3-a45c-426d-94f6-109f8ab428e8",
   "metadata": {},
   "outputs": [
    {
     "name": "stdout",
     "output_type": "stream",
     "text": [
      "naver/kakao/sk/samsung\n"
     ]
    }
   ],
   "source": [
    "# 008 print 기초\n",
    "print(\"naver/kakao/sk/samsung\")"
   ]
  },
  {
   "cell_type": "code",
   "execution_count": 9,
   "id": "391b6810-4e22-4f78-9068-43ad559e6e88",
   "metadata": {},
   "outputs": [
    {
     "name": "stdout",
     "output_type": "stream",
     "text": [
      "firstsecond\n"
     ]
    }
   ],
   "source": [
    "# 009 print 줄바꿈\n",
    "print(\"first\", end=\"\");print(\"second\")"
   ]
  },
  {
   "cell_type": "code",
   "execution_count": 10,
   "id": "8e6e2e1e-9a57-4578-a325-84a398d5cbb8",
   "metadata": {},
   "outputs": [
    {
     "name": "stdout",
     "output_type": "stream",
     "text": [
      "5 / 3 =  1.6666666666666667\n"
     ]
    }
   ],
   "source": [
    "# 010 연산 결과 출력\n",
    "a = 5/3\n",
    "print(\"5 / 3 = \", a)"
   ]
  },
  {
   "cell_type": "markdown",
   "id": "a210449e-e704-496e-ad09-d299fc87a104",
   "metadata": {},
   "source": [
    "# 02. 파이썬 변수"
   ]
  },
  {
   "cell_type": "code",
   "execution_count": 11,
   "id": "9114ac93-d0f5-4717-9a57-faeb55797fa8",
   "metadata": {},
   "outputs": [
    {
     "name": "stdout",
     "output_type": "stream",
     "text": [
      "500000\n"
     ]
    }
   ],
   "source": [
    "# 011 변수 사용하기\n",
    "samsung_electronics = 50000\n",
    "print(samsung_electronics*10)"
   ]
  },
  {
   "cell_type": "code",
   "execution_count": 12,
   "id": "1949da47-7ac9-460b-a17e-1f72a8c2212e",
   "metadata": {},
   "outputs": [],
   "source": [
    "# 012 변수 사용하기\n",
    "total = 298E12\n",
    "now = 50000\n",
    "per = 15.79"
   ]
  },
  {
   "cell_type": "code",
   "execution_count": 13,
   "id": "c838c90a-cae2-4667-a63c-56f50dfc4077",
   "metadata": {},
   "outputs": [
    {
     "name": "stdout",
     "output_type": "stream",
     "text": [
      "hello! python\n"
     ]
    }
   ],
   "source": [
    "# 013 문자열 출력\n",
    "s = \"hello\"\n",
    "t = \"python\"\n",
    "print(s+\"!\", t)"
   ]
  },
  {
   "cell_type": "code",
   "execution_count": 14,
   "id": "ef4256e8-f226-4ee2-9d38-7a79425954b3",
   "metadata": {},
   "outputs": [
    {
     "name": "stdout",
     "output_type": "stream",
     "text": [
      "8\n"
     ]
    }
   ],
   "source": [
    "# 014 파이썬을 이용한 값 계산\n",
    "print(2 + 2 * 3)"
   ]
  },
  {
   "cell_type": "code",
   "execution_count": 15,
   "id": "832164e3-f174-4a76-898c-2af039f26845",
   "metadata": {},
   "outputs": [
    {
     "name": "stdout",
     "output_type": "stream",
     "text": [
      "<class 'int'>\n"
     ]
    }
   ],
   "source": [
    "# 015 type 함수\n",
    "a = 128\n",
    "print(type(a))"
   ]
  },
  {
   "cell_type": "code",
   "execution_count": 16,
   "id": "b3bd5dc4-eb11-4871-b23a-7f463016c013",
   "metadata": {},
   "outputs": [
    {
     "data": {
      "text/plain": [
       "int"
      ]
     },
     "execution_count": 16,
     "metadata": {},
     "output_type": "execute_result"
    }
   ],
   "source": [
    "# 016 문자열을 정수로 변환\n",
    "num_str = \"720\"\n",
    "num_int = int(num_str)\n",
    "# type(num_str)\n",
    "type(num_int)"
   ]
  },
  {
   "cell_type": "code",
   "execution_count": 17,
   "id": "5cf5563f-18f5-4425-9230-f8a795be326a",
   "metadata": {},
   "outputs": [
    {
     "name": "stdout",
     "output_type": "stream",
     "text": [
      "100 <class 'str'>\n"
     ]
    }
   ],
   "source": [
    "# 017 정수를 문자열 100으로 변환\n",
    "num = 100\n",
    "str_num = str(num)\n",
    "print(str_num, type(str_num))"
   ]
  },
  {
   "cell_type": "code",
   "execution_count": 18,
   "id": "c40fe747-2807-4556-82aa-6ff1a77ffd04",
   "metadata": {},
   "outputs": [
    {
     "name": "stdout",
     "output_type": "stream",
     "text": [
      "15.79 <class 'float'>\n"
     ]
    }
   ],
   "source": [
    "# 018 문자열을 실수로 변환\n",
    "str_ = \"15.79\"\n",
    "float_ = float(str_)\n",
    "print(float_, type(float_))"
   ]
  },
  {
   "cell_type": "code",
   "execution_count": 19,
   "id": "26267683-fe4d-4cdf-8c35-825fdae8c987",
   "metadata": {},
   "outputs": [
    {
     "name": "stdout",
     "output_type": "stream",
     "text": [
      "2017\n",
      "2018\n",
      "2019\n",
      "2020\n"
     ]
    }
   ],
   "source": [
    "# 019 문자열을 정수로 변환\n",
    "year = \"2020\"\n",
    "print(int(year)-3)\n",
    "print(int(year)-2)\n",
    "print(int(year)-1)\n",
    "print(int(year))"
   ]
  },
  {
   "cell_type": "code",
   "execution_count": 20,
   "id": "9014579d-a76d-400f-83b7-11ffa0b2c348",
   "metadata": {},
   "outputs": [
    {
     "name": "stdout",
     "output_type": "stream",
     "text": [
      "1749024\n"
     ]
    }
   ],
   "source": [
    "# 020 파이썬 계산\n",
    "ac_monthly = 48584\n",
    "total = ac_monthly*36\n",
    "print(total)"
   ]
  },
  {
   "cell_type": "markdown",
   "id": "b7808008-be4f-4200-8e39-7715db97148a",
   "metadata": {},
   "source": [
    "### 03. 파이썬 문자열"
   ]
  },
  {
   "cell_type": "code",
   "execution_count": 21,
   "id": "8a6caf3f-ffa8-4ed2-80c4-13b5435e8af8",
   "metadata": {},
   "outputs": [
    {
     "name": "stdout",
     "output_type": "stream",
     "text": [
      "p t\n"
     ]
    }
   ],
   "source": [
    "# 021 문자열 인덱싱\n",
    "letters = 'python'\n",
    "print(letters[0], letters[2])"
   ]
  },
  {
   "cell_type": "code",
   "execution_count": 22,
   "id": "4b54da24-42f3-4c77-a9c5-94c8bc0bc533",
   "metadata": {},
   "outputs": [
    {
     "name": "stdout",
     "output_type": "stream",
     "text": [
      "2210\n"
     ]
    }
   ],
   "source": [
    "# 022 문자열 슬라이싱\n",
    "licence_plate = \"24가 2210\"\n",
    "print(licence_plate[4:])"
   ]
  },
  {
   "cell_type": "code",
   "execution_count": 23,
   "id": "e5cb1222-9139-409f-91e7-6c9487552e73",
   "metadata": {},
   "outputs": [
    {
     "name": "stdout",
     "output_type": "stream",
     "text": [
      "홀홀홀\n",
      "홀홀홀\n",
      "짝짝짝\n"
     ]
    }
   ],
   "source": [
    "# 023 문자열 인덱싱\n",
    "string = \"홀짝홀짝홀짝\"\n",
    "print(string[0], end='')\n",
    "print(string[2], end='')\n",
    "print(string[4])\n",
    "print(string[::2])\n",
    "print(string[1::2])"
   ]
  },
  {
   "cell_type": "code",
   "execution_count": 24,
   "id": "3c26b9d6-ccbc-4ae0-aa65-6ef5d39c8971",
   "metadata": {},
   "outputs": [
    {
     "name": "stdout",
     "output_type": "stream",
     "text": [
      "NOHTYP\n"
     ]
    }
   ],
   "source": [
    "# 024 문자열 슬라이싱\n",
    "string = \"PYTHON\"\n",
    "print(string[::-1])"
   ]
  },
  {
   "cell_type": "code",
   "execution_count": 25,
   "id": "00f2b2bc-87d6-44ce-93fb-d4d1895470f6",
   "metadata": {},
   "outputs": [
    {
     "data": {
      "text/plain": [
       "'010 1111 2222'"
      ]
     },
     "execution_count": 25,
     "metadata": {},
     "output_type": "execute_result"
    }
   ],
   "source": [
    "# 025 문자열 치환\n",
    "phone_number = \"010-1111-2222\"\n",
    "phone_number.replace('-',\" \")"
   ]
  },
  {
   "cell_type": "code",
   "execution_count": 26,
   "id": "6471bdd6-d45a-4f9c-9992-306acc4c07cf",
   "metadata": {},
   "outputs": [
    {
     "data": {
      "text/plain": [
       "'01011112222'"
      ]
     },
     "execution_count": 26,
     "metadata": {},
     "output_type": "execute_result"
    }
   ],
   "source": [
    "# 026 문자열 다루기\n",
    "phone_number.replace('-','')"
   ]
  },
  {
   "cell_type": "code",
   "execution_count": 27,
   "id": "8a08340d-5dd1-4460-b044-6c92b4786f57",
   "metadata": {},
   "outputs": [
    {
     "name": "stdout",
     "output_type": "stream",
     "text": [
      "kr\n"
     ]
    }
   ],
   "source": [
    "# 027 문자열 다루기\n",
    "url = \"http://sharebook.kr\"\n",
    "print(url[-2:])"
   ]
  },
  {
   "cell_type": "code",
   "execution_count": 28,
   "id": "23af6931-03c4-40d1-b1c5-259ed4a05db5",
   "metadata": {},
   "outputs": [
    {
     "name": "stdout",
     "output_type": "stream",
     "text": [
      "Python\n"
     ]
    }
   ],
   "source": [
    "# 028 문자열은 immutable\n",
    "lang = 'python'\n",
    "# lang[0] = \"P\"\n",
    "lang = lang.replace(\"p\",\"P\")\n",
    "print(lang)"
   ]
  },
  {
   "cell_type": "code",
   "execution_count": 29,
   "id": "c4ff026c-5e79-42ee-9e6c-476dec27dd37",
   "metadata": {},
   "outputs": [
    {
     "name": "stdout",
     "output_type": "stream",
     "text": [
      "Abcdfe2A354A32A\n"
     ]
    }
   ],
   "source": [
    "# 029 replace 메서드\n",
    "string = 'abcdfe2a354a32a'\n",
    "print(string.replace(\"a\", \"A\"))"
   ]
  },
  {
   "cell_type": "code",
   "execution_count": 30,
   "id": "cbc039c0-f538-4e15-808c-e269ab9d5fc4",
   "metadata": {},
   "outputs": [
    {
     "name": "stdout",
     "output_type": "stream",
     "text": [
      "abcd\n"
     ]
    }
   ],
   "source": [
    "# 030 replace 메서드\n",
    "string = 'abcd'\n",
    "string.replace('b',\"B\")\n",
    "print(string) #'aBcd'"
   ]
  },
  {
   "cell_type": "code",
   "execution_count": 31,
   "id": "85639722-e9f5-476b-804e-99f9a2c44dba",
   "metadata": {},
   "outputs": [
    {
     "name": "stdout",
     "output_type": "stream",
     "text": [
      "34\n"
     ]
    }
   ],
   "source": [
    "# 031 문자열 합치기\n",
    "a = '3'\n",
    "b = '4'\n",
    "print(a+b) #34"
   ]
  },
  {
   "cell_type": "code",
   "execution_count": 32,
   "id": "a7958f2f-3b11-4a90-be5a-776263d77c1d",
   "metadata": {},
   "outputs": [
    {
     "name": "stdout",
     "output_type": "stream",
     "text": [
      "HIHIHI\n"
     ]
    }
   ],
   "source": [
    "# 032 문자열 곱하기\n",
    "print(\"HI\"*3) #HIHIHI"
   ]
  },
  {
   "cell_type": "code",
   "execution_count": 33,
   "id": "69ad50da-095d-4f75-bb78-07dd6429ddaf",
   "metadata": {},
   "outputs": [
    {
     "name": "stdout",
     "output_type": "stream",
     "text": [
      "--------------------------------------------------------------------------------\n"
     ]
    }
   ],
   "source": [
    "# 033 문자열 곱하기\n",
    "print(\"-\"*80)"
   ]
  },
  {
   "cell_type": "code",
   "execution_count": 34,
   "id": "1e145644-a6f6-4b0f-bf99-381d88f33645",
   "metadata": {},
   "outputs": [
    {
     "name": "stdout",
     "output_type": "stream",
     "text": [
      "python java python java python java python java \n"
     ]
    }
   ],
   "source": [
    "# 034 문자열 곱하기\n",
    "t1 = 'python'\n",
    "t2 = 'java'\n",
    "print((t1 +\" \"+ t2 + \" \")*4)"
   ]
  },
  {
   "cell_type": "code",
   "execution_count": 35,
   "id": "5bb65bb7-ca49-4e04-a199-a323e3c28c78",
   "metadata": {},
   "outputs": [
    {
     "name": "stdout",
     "output_type": "stream",
     "text": [
      "이름 : 김민수 나이 : 10\n",
      "이름 : 이철희 나이 : 13\n"
     ]
    }
   ],
   "source": [
    "# 035 문자열 출력 = %formatting 사용\n",
    "name1 = \"김민수\"\n",
    "age1 = 10\n",
    "name2 = \"이철희\"\n",
    "age2 = 13\n",
    "\n",
    "print(\"이름 : %s 나이 : %d\" %(name1, age1))\n",
    "print(\"이름 : %s 나이 : %d\" %(name2, age2))"
   ]
  },
  {
   "cell_type": "code",
   "execution_count": 36,
   "id": "5f82ef22-ea80-4ceb-8e6d-e33b4b1c5748",
   "metadata": {},
   "outputs": [
    {
     "name": "stdout",
     "output_type": "stream",
     "text": [
      "이름 : 김민수 나이 : 10\n",
      "이름 : 이철희 나이 : 13\n"
     ]
    }
   ],
   "source": [
    "# 036 문자열 출력 = format() 사용\n",
    "\n",
    "print(\"이름 : {} 나이 : {}\".format(name1, age1))\n",
    "print(\"이름 : {} 나이 : {}\".format(name2, age2))"
   ]
  },
  {
   "cell_type": "code",
   "execution_count": 37,
   "id": "2dd12a29-c1c3-4afb-bc0e-3a1ff3394940",
   "metadata": {},
   "outputs": [
    {
     "name": "stdout",
     "output_type": "stream",
     "text": [
      "이름 : 김민수 나이 : 10\n",
      "이름 : 이철희 나이 : 13\n"
     ]
    }
   ],
   "source": [
    "# 037 문자열 출력 = f-string 사용\n",
    "print(f\"이름 : {name1} 나이 : {age1}\")\n",
    "print(f\"이름 : {name2} 나이 : {age2}\")"
   ]
  },
  {
   "cell_type": "code",
   "execution_count": 38,
   "id": "1e733062-0c10-42af-8824-ef814dbe3d87",
   "metadata": {},
   "outputs": [
    {
     "name": "stdout",
     "output_type": "stream",
     "text": [
      "5969782550\n"
     ]
    }
   ],
   "source": [
    "# 038 컴마 제거하기\n",
    "number_of_stocks = \"5,969,782,550\"\n",
    "print(int(number_of_stocks.replace(\",\",\"\")))"
   ]
  },
  {
   "cell_type": "code",
   "execution_count": 39,
   "id": "0844ccbb-fd29-4179-8eec-aca93d08a404",
   "metadata": {},
   "outputs": [
    {
     "name": "stdout",
     "output_type": "stream",
     "text": [
      "2020/03\n"
     ]
    }
   ],
   "source": [
    "# 039 문자열 슬라이싱\n",
    "coverage = \"2020/03(E) (IFRS연결)\"\n",
    "print(coverage[:7])"
   ]
  },
  {
   "cell_type": "code",
   "execution_count": 40,
   "id": "4dceec61-efcc-4986-abeb-ce866a60cb20",
   "metadata": {},
   "outputs": [
    {
     "name": "stdout",
     "output_type": "stream",
     "text": [
      "samsung\n"
     ]
    }
   ],
   "source": [
    "# 040 strip 메서드\n",
    "data = \"     samsung    \"\n",
    "print(data.strip())"
   ]
  },
  {
   "cell_type": "code",
   "execution_count": 41,
   "id": "2c155dc8-66e2-4a1f-a61e-fcf8f2b1df5e",
   "metadata": {},
   "outputs": [
    {
     "data": {
      "text/plain": [
       "'BTC_KRW'"
      ]
     },
     "execution_count": 41,
     "metadata": {},
     "output_type": "execute_result"
    }
   ],
   "source": [
    "# 041 upper 메서드\n",
    "ticker = \"btc_krw\"\n",
    "ticker.upper()"
   ]
  },
  {
   "cell_type": "code",
   "execution_count": 42,
   "id": "51c00326-e61a-4087-b459-960afb02455f",
   "metadata": {},
   "outputs": [
    {
     "data": {
      "text/plain": [
       "'btc_krw'"
      ]
     },
     "execution_count": 42,
     "metadata": {},
     "output_type": "execute_result"
    }
   ],
   "source": [
    "# 042 lower 메서드\n",
    "ticker = \"BTC_KRW\"\n",
    "ticker.lower()"
   ]
  },
  {
   "cell_type": "code",
   "execution_count": 43,
   "id": "763c281d-7c64-440c-8581-4e1ad4a7af28",
   "metadata": {},
   "outputs": [
    {
     "name": "stdout",
     "output_type": "stream",
     "text": [
      "Hello\n"
     ]
    }
   ],
   "source": [
    "# 043 capitalize 메서드\n",
    "string = 'hello'\n",
    "print(string.capitalize())"
   ]
  },
  {
   "cell_type": "code",
   "execution_count": 44,
   "id": "4cf36a7d-55ae-4f5d-8da8-db022bb266a7",
   "metadata": {},
   "outputs": [
    {
     "name": "stdout",
     "output_type": "stream",
     "text": [
      "True\n"
     ]
    }
   ],
   "source": [
    "# 044 endswith 메서드\n",
    "file_name = 'report.xlsx'\n",
    "print(file_name.endswith('xlsx'))"
   ]
  },
  {
   "cell_type": "code",
   "execution_count": 45,
   "id": "b1810661-47e9-4e35-9af8-df7b4711d1cf",
   "metadata": {},
   "outputs": [
    {
     "name": "stdout",
     "output_type": "stream",
     "text": [
      "True\n"
     ]
    }
   ],
   "source": [
    "# 045 endswith 메서드\n",
    "file_name = 'report.xlsx'\n",
    "print(file_name.endswith(('xlsx','xls')))"
   ]
  },
  {
   "cell_type": "code",
   "execution_count": 46,
   "id": "c88ceeed-24fa-4f4c-b20e-c9eba95947d2",
   "metadata": {},
   "outputs": [
    {
     "name": "stdout",
     "output_type": "stream",
     "text": [
      "True\n"
     ]
    }
   ],
   "source": [
    "# 046 startswith 메서드\n",
    "file_name = \"2020_report.xlsx\"\n",
    "print(file_name.startswith(\"2020\"))"
   ]
  },
  {
   "cell_type": "code",
   "execution_count": 47,
   "id": "25c3ae4a-020e-4e62-9f50-71820cb6e282",
   "metadata": {},
   "outputs": [
    {
     "name": "stdout",
     "output_type": "stream",
     "text": [
      "['hello', 'world']\n"
     ]
    }
   ],
   "source": [
    "# 047 split 메서드\n",
    "a = \"hello world\"\n",
    "print(a.split(\" \"))"
   ]
  },
  {
   "cell_type": "code",
   "execution_count": 48,
   "id": "d7bae17c-a787-4a45-9c1e-5122196c4cdf",
   "metadata": {},
   "outputs": [
    {
     "name": "stdout",
     "output_type": "stream",
     "text": [
      "['btc', 'krw']\n"
     ]
    }
   ],
   "source": [
    "# 048 split 메서드\n",
    "ticker = 'btc_krw'\n",
    "print(ticker.split('_'))"
   ]
  },
  {
   "cell_type": "code",
   "execution_count": 49,
   "id": "8c833616-a298-4a38-af21-6dc0bdad9869",
   "metadata": {},
   "outputs": [
    {
     "name": "stdout",
     "output_type": "stream",
     "text": [
      "['2024', '09', '04']\n"
     ]
    }
   ],
   "source": [
    "# 049 split 메서드\n",
    "date = \"2024-09-04\"\n",
    "print(date.split('-'))"
   ]
  },
  {
   "cell_type": "code",
   "execution_count": 50,
   "id": "a65d25ec-c420-48d2-93d5-b03d402dd58f",
   "metadata": {},
   "outputs": [
    {
     "name": "stdout",
     "output_type": "stream",
     "text": [
      "240904\n"
     ]
    }
   ],
   "source": [
    "# 050 rstrip 메서드\n",
    "data = \"240904     \"\n",
    "print(data.rstrip())"
   ]
  }
 ],
 "metadata": {
  "kernelspec": {
   "display_name": "Python 3 (ipykernel)",
   "language": "python",
   "name": "python3"
  },
  "language_info": {
   "codemirror_mode": {
    "name": "ipython",
    "version": 3
   },
   "file_extension": ".py",
   "mimetype": "text/x-python",
   "name": "python",
   "nbconvert_exporter": "python",
   "pygments_lexer": "ipython3",
   "version": "3.12.5"
  }
 },
 "nbformat": 4,
 "nbformat_minor": 5
}
